{
 "cells": [
  {
   "cell_type": "markdown",
   "id": "635ab78e",
   "metadata": {
    "button": false,
    "new_sheet": false,
    "papermill": {
     "duration": 0.021814,
     "end_time": "2022-06-16T20:56:30.994088",
     "exception": false,
     "start_time": "2022-06-16T20:56:30.972274",
     "status": "completed"
    },
    "run_control": {
     "read_only": false
    },
    "tags": []
   },
   "source": [
    "<p style=\"text-align:center\">\n",
    "    <a href=\"https://skills.network/?utm_medium=Exinfluencer&utm_source=Exinfluencer&utm_content=000026UJ&utm_term=10006555&utm_id=NA-SkillsNetwork-Channel-SkillsNetworkCoursesIBMDeveloperSkillsNetworkML0101ENSkillsNetwork20718538-2022-01-01\" target=\"_blank\">\n",
    "    <img src=\"https://cf-courses-data.s3.us.cloud-object-storage.appdomain.cloud/assets/logos/SN_web_lightmode.png\" width=\"200\" alt=\"Skills Network Logo\"  />\n",
    "    </a>\n",
    "</p>\n",
    "\n",
    "<h1 align=\"center\"><font size=\"5\">Classification with Python</font></h1>\n"
   ]
  },
  {
   "cell_type": "markdown",
   "id": "0b28164e",
   "metadata": {
    "button": false,
    "new_sheet": false,
    "papermill": {
     "duration": 0.019412,
     "end_time": "2022-06-16T20:56:31.033970",
     "exception": false,
     "start_time": "2022-06-16T20:56:31.014558",
     "status": "completed"
    },
    "run_control": {
     "read_only": false
    },
    "tags": []
   },
   "source": [
    "In this notebook we try to practice all the classification algorithms that we have learned in this course.\n",
    "\n",
    "We load a dataset using Pandas library, and apply the following algorithms, and find the best one for this specific dataset by accuracy evaluation methods.\n",
    "\n",
    "Let's first load required libraries:\n"
   ]
  },
  {
   "cell_type": "code",
   "execution_count": 1,
   "id": "5e694dcf",
   "metadata": {
    "button": false,
    "execution": {
     "iopub.execute_input": "2022-06-16T20:56:31.076461Z",
     "iopub.status.busy": "2022-06-16T20:56:31.075755Z",
     "iopub.status.idle": "2022-06-16T20:56:32.282763Z",
     "shell.execute_reply": "2022-06-16T20:56:32.282015Z"
    },
    "new_sheet": false,
    "papermill": {
     "duration": 1.23053,
     "end_time": "2022-06-16T20:56:32.285277",
     "exception": false,
     "start_time": "2022-06-16T20:56:31.054747",
     "status": "completed"
    },
    "run_control": {
     "read_only": false
    },
    "tags": []
   },
   "outputs": [],
   "source": [
    "import itertools\n",
    "import numpy as np\n",
    "import matplotlib.pyplot as plt\n",
    "from matplotlib.ticker import NullFormatter\n",
    "import pandas as pd\n",
    "import numpy as np\n",
    "import matplotlib.ticker as ticker\n",
    "from sklearn import preprocessing\n",
    "%matplotlib inline\n",
    "from sklearn.metrics import jaccard_score\n",
    "from sklearn.metrics import f1_score\n",
    "from sklearn.metrics import log_loss\n"
   ]
  },
  {
   "cell_type": "markdown",
   "id": "9a4aa9e0",
   "metadata": {
    "button": false,
    "new_sheet": false,
    "papermill": {
     "duration": 0.018516,
     "end_time": "2022-06-16T20:56:32.322942",
     "exception": false,
     "start_time": "2022-06-16T20:56:32.304426",
     "status": "completed"
    },
    "run_control": {
     "read_only": false
    },
    "tags": []
   },
   "source": [
    "### About dataset\n"
   ]
  },
  {
   "cell_type": "markdown",
   "id": "e2bd4419",
   "metadata": {
    "button": false,
    "new_sheet": false,
    "papermill": {
     "duration": 0.018318,
     "end_time": "2022-06-16T20:56:32.360305",
     "exception": false,
     "start_time": "2022-06-16T20:56:32.341987",
     "status": "completed"
    },
    "run_control": {
     "read_only": false
    },
    "tags": []
   },
   "source": [
    "This dataset is about past loans. The **Loan_train.csv** data set includes details of 346 customers whose loan are already paid off or defaulted. It includes following fields:\n",
    "\n",
    "| Field          | Description                                                                           |\n",
    "| -------------- | ------------------------------------------------------------------------------------- |\n",
    "| Loan_status    | Whether a loan is paid off on in collection                                           |\n",
    "| Principal      | Basic principal loan amount at the                                                    |\n",
    "| Terms          | Origination terms which can be weekly (7 days), biweekly, and monthly payoff schedule |\n",
    "| Effective_date | When the loan got originated and took effects                                         |\n",
    "| Due_date       | Since it’s one-time payoff schedule, each loan has one single due date                |\n",
    "| Age            | Age of applicant                                                                      |\n",
    "| Education      | Education of applicant                                                                |\n",
    "| Gender         | The gender of applicant                                                               |\n"
   ]
  },
  {
   "cell_type": "markdown",
   "id": "7f300589",
   "metadata": {
    "button": false,
    "new_sheet": false,
    "papermill": {
     "duration": 0.01879,
     "end_time": "2022-06-16T20:56:32.397720",
     "exception": false,
     "start_time": "2022-06-16T20:56:32.378930",
     "status": "completed"
    },
    "run_control": {
     "read_only": false
    },
    "tags": []
   },
   "source": [
    "Let's download the dataset\n"
   ]
  },
  {
   "cell_type": "code",
   "execution_count": 2,
   "id": "bf015900",
   "metadata": {
    "button": false,
    "execution": {
     "iopub.execute_input": "2022-06-16T20:56:32.438054Z",
     "iopub.status.busy": "2022-06-16T20:56:32.437272Z",
     "iopub.status.idle": "2022-06-16T20:56:33.754924Z",
     "shell.execute_reply": "2022-06-16T20:56:33.753525Z"
    },
    "new_sheet": false,
    "papermill": {
     "duration": 1.341135,
     "end_time": "2022-06-16T20:56:33.757598",
     "exception": false,
     "start_time": "2022-06-16T20:56:32.416463",
     "status": "completed"
    },
    "run_control": {
     "read_only": false
    },
    "tags": []
   },
   "outputs": [
    {
     "name": "stdout",
     "output_type": "stream",
     "text": [
      "--2022-06-16 20:56:33--  https://cf-courses-data.s3.us.cloud-object-storage.appdomain.cloud/IBMDeveloperSkillsNetwork-ML0101EN-SkillsNetwork/labs/FinalModule_Coursera/data/loan_train.csv\r\n",
      "Resolving cf-courses-data.s3.us.cloud-object-storage.appdomain.cloud (cf-courses-data.s3.us.cloud-object-storage.appdomain.cloud)... 198.23.119.245\r\n",
      "Connecting to cf-courses-data.s3.us.cloud-object-storage.appdomain.cloud (cf-courses-data.s3.us.cloud-object-storage.appdomain.cloud)|198.23.119.245|:443... connected.\r\n",
      "HTTP request sent, awaiting response... 200 OK\r\n",
      "Length: 23101 (23K) [text/csv]\r\n",
      "Saving to: ‘loan_train.csv’\r\n",
      "\r\n",
      "loan_train.csv      100%[===================>]  22.56K  --.-KB/s    in 0.04s   \r\n",
      "\r\n",
      "2022-06-16 20:56:33 (522 KB/s) - ‘loan_train.csv’ saved [23101/23101]\r\n",
      "\r\n"
     ]
    }
   ],
   "source": [
    "!wget -O loan_train.csv https://cf-courses-data.s3.us.cloud-object-storage.appdomain.cloud/IBMDeveloperSkillsNetwork-ML0101EN-SkillsNetwork/labs/FinalModule_Coursera/data/loan_train.csv"
   ]
  },
  {
   "cell_type": "markdown",
   "id": "1e0f97d4",
   "metadata": {
    "button": false,
    "new_sheet": false,
    "papermill": {
     "duration": 0.019509,
     "end_time": "2022-06-16T20:56:33.797150",
     "exception": false,
     "start_time": "2022-06-16T20:56:33.777641",
     "status": "completed"
    },
    "run_control": {
     "read_only": false
    },
    "tags": []
   },
   "source": [
    "### Load Data From CSV File\n"
   ]
  },
  {
   "cell_type": "code",
   "execution_count": 3,
   "id": "efa7ae43",
   "metadata": {
    "button": false,
    "execution": {
     "iopub.execute_input": "2022-06-16T20:56:33.838940Z",
     "iopub.status.busy": "2022-06-16T20:56:33.838496Z",
     "iopub.status.idle": "2022-06-16T20:56:33.873394Z",
     "shell.execute_reply": "2022-06-16T20:56:33.872364Z"
    },
    "new_sheet": false,
    "papermill": {
     "duration": 0.059505,
     "end_time": "2022-06-16T20:56:33.876415",
     "exception": false,
     "start_time": "2022-06-16T20:56:33.816910",
     "status": "completed"
    },
    "run_control": {
     "read_only": false
    },
    "tags": []
   },
   "outputs": [
    {
     "data": {
      "text/html": [
       "<div>\n",
       "<style scoped>\n",
       "    .dataframe tbody tr th:only-of-type {\n",
       "        vertical-align: middle;\n",
       "    }\n",
       "\n",
       "    .dataframe tbody tr th {\n",
       "        vertical-align: top;\n",
       "    }\n",
       "\n",
       "    .dataframe thead th {\n",
       "        text-align: right;\n",
       "    }\n",
       "</style>\n",
       "<table border=\"1\" class=\"dataframe\">\n",
       "  <thead>\n",
       "    <tr style=\"text-align: right;\">\n",
       "      <th></th>\n",
       "      <th>Unnamed: 0</th>\n",
       "      <th>Unnamed: 0.1</th>\n",
       "      <th>loan_status</th>\n",
       "      <th>Principal</th>\n",
       "      <th>terms</th>\n",
       "      <th>effective_date</th>\n",
       "      <th>due_date</th>\n",
       "      <th>age</th>\n",
       "      <th>education</th>\n",
       "      <th>Gender</th>\n",
       "    </tr>\n",
       "  </thead>\n",
       "  <tbody>\n",
       "    <tr>\n",
       "      <th>0</th>\n",
       "      <td>0</td>\n",
       "      <td>0</td>\n",
       "      <td>PAIDOFF</td>\n",
       "      <td>1000</td>\n",
       "      <td>30</td>\n",
       "      <td>9/8/2016</td>\n",
       "      <td>10/7/2016</td>\n",
       "      <td>45</td>\n",
       "      <td>High School or Below</td>\n",
       "      <td>male</td>\n",
       "    </tr>\n",
       "    <tr>\n",
       "      <th>1</th>\n",
       "      <td>2</td>\n",
       "      <td>2</td>\n",
       "      <td>PAIDOFF</td>\n",
       "      <td>1000</td>\n",
       "      <td>30</td>\n",
       "      <td>9/8/2016</td>\n",
       "      <td>10/7/2016</td>\n",
       "      <td>33</td>\n",
       "      <td>Bechalor</td>\n",
       "      <td>female</td>\n",
       "    </tr>\n",
       "    <tr>\n",
       "      <th>2</th>\n",
       "      <td>3</td>\n",
       "      <td>3</td>\n",
       "      <td>PAIDOFF</td>\n",
       "      <td>1000</td>\n",
       "      <td>15</td>\n",
       "      <td>9/8/2016</td>\n",
       "      <td>9/22/2016</td>\n",
       "      <td>27</td>\n",
       "      <td>college</td>\n",
       "      <td>male</td>\n",
       "    </tr>\n",
       "    <tr>\n",
       "      <th>3</th>\n",
       "      <td>4</td>\n",
       "      <td>4</td>\n",
       "      <td>PAIDOFF</td>\n",
       "      <td>1000</td>\n",
       "      <td>30</td>\n",
       "      <td>9/9/2016</td>\n",
       "      <td>10/8/2016</td>\n",
       "      <td>28</td>\n",
       "      <td>college</td>\n",
       "      <td>female</td>\n",
       "    </tr>\n",
       "    <tr>\n",
       "      <th>4</th>\n",
       "      <td>6</td>\n",
       "      <td>6</td>\n",
       "      <td>PAIDOFF</td>\n",
       "      <td>1000</td>\n",
       "      <td>30</td>\n",
       "      <td>9/9/2016</td>\n",
       "      <td>10/8/2016</td>\n",
       "      <td>29</td>\n",
       "      <td>college</td>\n",
       "      <td>male</td>\n",
       "    </tr>\n",
       "  </tbody>\n",
       "</table>\n",
       "</div>"
      ],
      "text/plain": [
       "   Unnamed: 0  Unnamed: 0.1 loan_status  Principal  terms effective_date  \\\n",
       "0           0             0     PAIDOFF       1000     30       9/8/2016   \n",
       "1           2             2     PAIDOFF       1000     30       9/8/2016   \n",
       "2           3             3     PAIDOFF       1000     15       9/8/2016   \n",
       "3           4             4     PAIDOFF       1000     30       9/9/2016   \n",
       "4           6             6     PAIDOFF       1000     30       9/9/2016   \n",
       "\n",
       "    due_date  age             education  Gender  \n",
       "0  10/7/2016   45  High School or Below    male  \n",
       "1  10/7/2016   33              Bechalor  female  \n",
       "2  9/22/2016   27               college    male  \n",
       "3  10/8/2016   28               college  female  \n",
       "4  10/8/2016   29               college    male  "
      ]
     },
     "execution_count": 3,
     "metadata": {},
     "output_type": "execute_result"
    }
   ],
   "source": [
    "df = pd.read_csv('loan_train.csv')\n",
    "df.head()"
   ]
  },
  {
   "cell_type": "code",
   "execution_count": 4,
   "id": "87fa0788",
   "metadata": {
    "execution": {
     "iopub.execute_input": "2022-06-16T20:56:33.918145Z",
     "iopub.status.busy": "2022-06-16T20:56:33.917639Z",
     "iopub.status.idle": "2022-06-16T20:56:33.925572Z",
     "shell.execute_reply": "2022-06-16T20:56:33.924411Z"
    },
    "papermill": {
     "duration": 0.031564,
     "end_time": "2022-06-16T20:56:33.927859",
     "exception": false,
     "start_time": "2022-06-16T20:56:33.896295",
     "status": "completed"
    },
    "tags": []
   },
   "outputs": [
    {
     "data": {
      "text/plain": [
       "(346, 10)"
      ]
     },
     "execution_count": 4,
     "metadata": {},
     "output_type": "execute_result"
    }
   ],
   "source": [
    "df.shape"
   ]
  },
  {
   "cell_type": "markdown",
   "id": "e6a2cf99",
   "metadata": {
    "button": false,
    "new_sheet": false,
    "papermill": {
     "duration": 0.020577,
     "end_time": "2022-06-16T20:56:33.968682",
     "exception": false,
     "start_time": "2022-06-16T20:56:33.948105",
     "status": "completed"
    },
    "run_control": {
     "read_only": false
    },
    "tags": []
   },
   "source": [
    "### Convert to date time object\n"
   ]
  },
  {
   "cell_type": "code",
   "execution_count": 5,
   "id": "90b50eef",
   "metadata": {
    "button": false,
    "execution": {
     "iopub.execute_input": "2022-06-16T20:56:34.012241Z",
     "iopub.status.busy": "2022-06-16T20:56:34.011795Z",
     "iopub.status.idle": "2022-06-16T20:56:34.044746Z",
     "shell.execute_reply": "2022-06-16T20:56:34.043839Z"
    },
    "new_sheet": false,
    "papermill": {
     "duration": 0.057951,
     "end_time": "2022-06-16T20:56:34.047096",
     "exception": false,
     "start_time": "2022-06-16T20:56:33.989145",
     "status": "completed"
    },
    "run_control": {
     "read_only": false
    },
    "tags": []
   },
   "outputs": [
    {
     "data": {
      "text/html": [
       "<div>\n",
       "<style scoped>\n",
       "    .dataframe tbody tr th:only-of-type {\n",
       "        vertical-align: middle;\n",
       "    }\n",
       "\n",
       "    .dataframe tbody tr th {\n",
       "        vertical-align: top;\n",
       "    }\n",
       "\n",
       "    .dataframe thead th {\n",
       "        text-align: right;\n",
       "    }\n",
       "</style>\n",
       "<table border=\"1\" class=\"dataframe\">\n",
       "  <thead>\n",
       "    <tr style=\"text-align: right;\">\n",
       "      <th></th>\n",
       "      <th>Unnamed: 0</th>\n",
       "      <th>Unnamed: 0.1</th>\n",
       "      <th>loan_status</th>\n",
       "      <th>Principal</th>\n",
       "      <th>terms</th>\n",
       "      <th>effective_date</th>\n",
       "      <th>due_date</th>\n",
       "      <th>age</th>\n",
       "      <th>education</th>\n",
       "      <th>Gender</th>\n",
       "    </tr>\n",
       "  </thead>\n",
       "  <tbody>\n",
       "    <tr>\n",
       "      <th>0</th>\n",
       "      <td>0</td>\n",
       "      <td>0</td>\n",
       "      <td>PAIDOFF</td>\n",
       "      <td>1000</td>\n",
       "      <td>30</td>\n",
       "      <td>2016-09-08</td>\n",
       "      <td>2016-10-07</td>\n",
       "      <td>45</td>\n",
       "      <td>High School or Below</td>\n",
       "      <td>male</td>\n",
       "    </tr>\n",
       "    <tr>\n",
       "      <th>1</th>\n",
       "      <td>2</td>\n",
       "      <td>2</td>\n",
       "      <td>PAIDOFF</td>\n",
       "      <td>1000</td>\n",
       "      <td>30</td>\n",
       "      <td>2016-09-08</td>\n",
       "      <td>2016-10-07</td>\n",
       "      <td>33</td>\n",
       "      <td>Bechalor</td>\n",
       "      <td>female</td>\n",
       "    </tr>\n",
       "    <tr>\n",
       "      <th>2</th>\n",
       "      <td>3</td>\n",
       "      <td>3</td>\n",
       "      <td>PAIDOFF</td>\n",
       "      <td>1000</td>\n",
       "      <td>15</td>\n",
       "      <td>2016-09-08</td>\n",
       "      <td>2016-09-22</td>\n",
       "      <td>27</td>\n",
       "      <td>college</td>\n",
       "      <td>male</td>\n",
       "    </tr>\n",
       "    <tr>\n",
       "      <th>3</th>\n",
       "      <td>4</td>\n",
       "      <td>4</td>\n",
       "      <td>PAIDOFF</td>\n",
       "      <td>1000</td>\n",
       "      <td>30</td>\n",
       "      <td>2016-09-09</td>\n",
       "      <td>2016-10-08</td>\n",
       "      <td>28</td>\n",
       "      <td>college</td>\n",
       "      <td>female</td>\n",
       "    </tr>\n",
       "    <tr>\n",
       "      <th>4</th>\n",
       "      <td>6</td>\n",
       "      <td>6</td>\n",
       "      <td>PAIDOFF</td>\n",
       "      <td>1000</td>\n",
       "      <td>30</td>\n",
       "      <td>2016-09-09</td>\n",
       "      <td>2016-10-08</td>\n",
       "      <td>29</td>\n",
       "      <td>college</td>\n",
       "      <td>male</td>\n",
       "    </tr>\n",
       "  </tbody>\n",
       "</table>\n",
       "</div>"
      ],
      "text/plain": [
       "   Unnamed: 0  Unnamed: 0.1 loan_status  Principal  terms effective_date  \\\n",
       "0           0             0     PAIDOFF       1000     30     2016-09-08   \n",
       "1           2             2     PAIDOFF       1000     30     2016-09-08   \n",
       "2           3             3     PAIDOFF       1000     15     2016-09-08   \n",
       "3           4             4     PAIDOFF       1000     30     2016-09-09   \n",
       "4           6             6     PAIDOFF       1000     30     2016-09-09   \n",
       "\n",
       "    due_date  age             education  Gender  \n",
       "0 2016-10-07   45  High School or Below    male  \n",
       "1 2016-10-07   33              Bechalor  female  \n",
       "2 2016-09-22   27               college    male  \n",
       "3 2016-10-08   28               college  female  \n",
       "4 2016-10-08   29               college    male  "
      ]
     },
     "execution_count": 5,
     "metadata": {},
     "output_type": "execute_result"
    }
   ],
   "source": [
    "df['due_date'] = pd.to_datetime(df['due_date'])\n",
    "df['effective_date'] = pd.to_datetime(df['effective_date'])\n",
    "df.head()"
   ]
  },
  {
   "cell_type": "markdown",
   "id": "7c3a8c9c",
   "metadata": {
    "button": false,
    "new_sheet": false,
    "papermill": {
     "duration": 0.019702,
     "end_time": "2022-06-16T20:56:34.087668",
     "exception": false,
     "start_time": "2022-06-16T20:56:34.067966",
     "status": "completed"
    },
    "run_control": {
     "read_only": false
    },
    "tags": []
   },
   "source": [
    "# Data visualization and pre-processing\n"
   ]
  },
  {
   "cell_type": "markdown",
   "id": "48214c09",
   "metadata": {
    "button": false,
    "new_sheet": false,
    "papermill": {
     "duration": 0.020431,
     "end_time": "2022-06-16T20:56:34.128856",
     "exception": false,
     "start_time": "2022-06-16T20:56:34.108425",
     "status": "completed"
    },
    "run_control": {
     "read_only": false
    },
    "tags": []
   },
   "source": [
    "Let’s see how many of each class is in our data set\n"
   ]
  },
  {
   "cell_type": "code",
   "execution_count": 6,
   "id": "8b0be847",
   "metadata": {
    "button": false,
    "execution": {
     "iopub.execute_input": "2022-06-16T20:56:34.172440Z",
     "iopub.status.busy": "2022-06-16T20:56:34.171982Z",
     "iopub.status.idle": "2022-06-16T20:56:34.183617Z",
     "shell.execute_reply": "2022-06-16T20:56:34.182625Z"
    },
    "new_sheet": false,
    "papermill": {
     "duration": 0.036194,
     "end_time": "2022-06-16T20:56:34.185706",
     "exception": false,
     "start_time": "2022-06-16T20:56:34.149512",
     "status": "completed"
    },
    "run_control": {
     "read_only": false
    },
    "tags": []
   },
   "outputs": [
    {
     "data": {
      "text/plain": [
       "PAIDOFF       260\n",
       "COLLECTION     86\n",
       "Name: loan_status, dtype: int64"
      ]
     },
     "execution_count": 6,
     "metadata": {},
     "output_type": "execute_result"
    }
   ],
   "source": [
    "df['loan_status'].value_counts()"
   ]
  },
  {
   "cell_type": "markdown",
   "id": "b48a7193",
   "metadata": {
    "button": false,
    "new_sheet": false,
    "papermill": {
     "duration": 0.020468,
     "end_time": "2022-06-16T20:56:34.227080",
     "exception": false,
     "start_time": "2022-06-16T20:56:34.206612",
     "status": "completed"
    },
    "run_control": {
     "read_only": false
    },
    "tags": []
   },
   "source": [
    "260 people have paid off the loan on time while 86 have gone into collection\n"
   ]
  },
  {
   "cell_type": "markdown",
   "id": "bf68470c",
   "metadata": {
    "papermill": {
     "duration": 0.020294,
     "end_time": "2022-06-16T20:56:34.268402",
     "exception": false,
     "start_time": "2022-06-16T20:56:34.248108",
     "status": "completed"
    },
    "tags": []
   },
   "source": [
    "Let's plot some columns to underestand data better:\n"
   ]
  },
  {
   "cell_type": "code",
   "execution_count": 7,
   "id": "794d5eac",
   "metadata": {
    "execution": {
     "iopub.execute_input": "2022-06-16T20:56:34.312730Z",
     "iopub.status.busy": "2022-06-16T20:56:34.312280Z",
     "iopub.status.idle": "2022-06-16T20:56:34.316371Z",
     "shell.execute_reply": "2022-06-16T20:56:34.315219Z"
    },
    "papermill": {
     "duration": 0.029319,
     "end_time": "2022-06-16T20:56:34.318463",
     "exception": false,
     "start_time": "2022-06-16T20:56:34.289144",
     "status": "completed"
    },
    "tags": []
   },
   "outputs": [],
   "source": [
    "# notice: installing seaborn might takes a few minutes\n",
    "#!conda install -c anaconda seaborn -y"
   ]
  },
  {
   "cell_type": "code",
   "execution_count": 8,
   "id": "70aeb1e8",
   "metadata": {
    "execution": {
     "iopub.execute_input": "2022-06-16T20:56:34.362115Z",
     "iopub.status.busy": "2022-06-16T20:56:34.361673Z",
     "iopub.status.idle": "2022-06-16T20:56:35.114574Z",
     "shell.execute_reply": "2022-06-16T20:56:35.113235Z"
    },
    "papermill": {
     "duration": 0.777924,
     "end_time": "2022-06-16T20:56:35.117176",
     "exception": false,
     "start_time": "2022-06-16T20:56:34.339252",
     "status": "completed"
    },
    "tags": []
   },
   "outputs": [
    {
     "data": {
      "image/png": "[encoded data removed]",
      "text/plain": [
       "<Figure size 432x216 with 2 Axes>"
      ]
     },
     "metadata": {
      "needs_background": "light"
     },
     "output_type": "display_data"
    }
   ],
   "source": [
    "import seaborn as sns\n",
    "\n",
    "bins = np.linspace(df.Principal.min(), df.Principal.max(), 10)\n",
    "g = sns.FacetGrid(df, col=\"Gender\", hue=\"loan_status\", palette=\"Set1\", col_wrap=2)\n",
    "g.map(plt.hist, 'Principal', bins=bins, ec=\"k\")\n",
    "\n",
    "g.axes[-1].legend()\n",
    "plt.show()"
   ]
  },
  {
   "cell_type": "code",
   "execution_count": 9,
   "id": "b4528e3f",
   "metadata": {
    "button": false,
    "execution": {
     "iopub.execute_input": "2022-06-16T20:56:35.162268Z",
     "iopub.status.busy": "2022-06-16T20:56:35.161747Z",
     "iopub.status.idle": "2022-06-16T20:56:35.638422Z",
     "shell.execute_reply": "2022-06-16T20:56:35.637043Z"
    },
    "new_sheet": false,
    "papermill": {
     "duration": 0.501622,
     "end_time": "2022-06-16T20:56:35.640542",
     "exception": false,
     "start_time": "2022-06-16T20:56:35.138920",
     "status": "completed"
    },
    "run_control": {
     "read_only": false
    },
    "tags": []
   },
   "outputs": [
    {
     "data": {
      "image/png": "[encoded data removed]",
      "text/plain": [
       "<Figure size 432x216 with 2 Axes>"
      ]
     },
     "metadata": {
      "needs_background": "light"
     },
     "output_type": "display_data"
    }
   ],
   "source": [
    "bins = np.linspace(df.age.min(), df.age.max(), 10)\n",
    "g = sns.FacetGrid(df, col=\"Gender\", hue=\"loan_status\", palette=\"Set1\", col_wrap=2)\n",
    "g.map(plt.hist, 'age', bins=bins, ec=\"k\")\n",
    "\n",
    "g.axes[-1].legend()\n",
    "plt.show()"
   ]
  },
  {
   "cell_type": "markdown",
   "id": "8576ed9c",
   "metadata": {
    "button": false,
    "new_sheet": false,
    "papermill": {
     "duration": 0.02078,
     "end_time": "2022-06-16T20:56:35.682855",
     "exception": false,
     "start_time": "2022-06-16T20:56:35.662075",
     "status": "completed"
    },
    "run_control": {
     "read_only": false
    },
    "tags": []
   },
   "source": [
    "# Pre-processing:  Feature selection/extraction\n"
   ]
  },
  {
   "cell_type": "markdown",
   "id": "cea6d84c",
   "metadata": {
    "button": false,
    "new_sheet": false,
    "papermill": {
     "duration": 0.020805,
     "end_time": "2022-06-16T20:56:35.725815",
     "exception": false,
     "start_time": "2022-06-16T20:56:35.705010",
     "status": "completed"
    },
    "run_control": {
     "read_only": false
    },
    "tags": []
   },
   "source": [
    "### Let's look at the day of the week people get the loan\n"
   ]
  },
  {
   "cell_type": "code",
   "execution_count": 10,
   "id": "9939ee88",
   "metadata": {
    "button": false,
    "execution": {
     "iopub.execute_input": "2022-06-16T20:56:35.770226Z",
     "iopub.status.busy": "2022-06-16T20:56:35.769753Z",
     "iopub.status.idle": "2022-06-16T20:56:36.230164Z",
     "shell.execute_reply": "2022-06-16T20:56:36.229255Z"
    },
    "new_sheet": false,
    "papermill": {
     "duration": 0.486404,
     "end_time": "2022-06-16T20:56:36.233645",
     "exception": false,
     "start_time": "2022-06-16T20:56:35.747241",
     "status": "completed"
    },
    "run_control": {
     "read_only": false
    },
    "tags": []
   },
   "outputs": [
    {
     "data": {
      "image/png": "[encoded data removed]",
      "text/plain": [
       "<Figure size 432x216 with 2 Axes>"
      ]
     },
     "metadata": {
      "needs_background": "light"
     },
     "output_type": "display_data"
    }
   ],
   "source": [
    "df['dayofweek'] = df['effective_date'].dt.dayofweek\n",
    "bins = np.linspace(df.dayofweek.min(), df.dayofweek.max(), 10)\n",
    "g = sns.FacetGrid(df, col=\"Gender\", hue=\"loan_status\", palette=\"Set1\", col_wrap=2)\n",
    "g.map(plt.hist, 'dayofweek', bins=bins, ec=\"k\")\n",
    "g.axes[-1].legend()\n",
    "plt.show()\n"
   ]
  },
  {
   "cell_type": "markdown",
   "id": "653166ab",
   "metadata": {
    "button": false,
    "new_sheet": false,
    "papermill": {
     "duration": 0.023623,
     "end_time": "2022-06-16T20:56:36.285246",
     "exception": false,
     "start_time": "2022-06-16T20:56:36.261623",
     "status": "completed"
    },
    "run_control": {
     "read_only": false
    },
    "tags": []
   },
   "source": [
    "We see that people who get the loan at the end of the week don't pay it off, so let's use Feature binarization to set a threshold value less than day 4\n"
   ]
  },
  {
   "cell_type": "code",
   "execution_count": 11,
   "id": "46ee99c0",
   "metadata": {
    "button": false,
    "execution": {
     "iopub.execute_input": "2022-06-16T20:56:36.340243Z",
     "iopub.status.busy": "2022-06-16T20:56:36.339384Z",
     "iopub.status.idle": "2022-06-16T20:56:36.359805Z",
     "shell.execute_reply": "2022-06-16T20:56:36.358753Z"
    },
    "new_sheet": false,
    "papermill": {
     "duration": 0.048119,
     "end_time": "2022-06-16T20:56:36.362005",
     "exception": false,
     "start_time": "2022-06-16T20:56:36.313886",
     "status": "completed"
    },
    "run_control": {
     "read_only": false
    },
    "tags": []
   },
   "outputs": [
    {
     "data": {
      "text/html": [
       "<div>\n",
       "<style scoped>\n",
       "    .dataframe tbody tr th:only-of-type {\n",
       "        vertical-align: middle;\n",
       "    }\n",
       "\n",
       "    .dataframe tbody tr th {\n",
       "        vertical-align: top;\n",
       "    }\n",
       "\n",
       "    .dataframe thead th {\n",
       "        text-align: right;\n",
       "    }\n",
       "</style>\n",
       "<table border=\"1\" class=\"dataframe\">\n",
       "  <thead>\n",
       "    <tr style=\"text-align: right;\">\n",
       "      <th></th>\n",
       "      <th>Unnamed: 0</th>\n",
       "      <th>Unnamed: 0.1</th>\n",
       "      <th>loan_status</th>\n",
       "      <th>Principal</th>\n",
       "      <th>terms</th>\n",
       "      <th>effective_date</th>\n",
       "      <th>due_date</th>\n",
       "      <th>age</th>\n",
       "      <th>education</th>\n",
       "      <th>Gender</th>\n",
       "      <th>dayofweek</th>\n",
       "      <th>weekend</th>\n",
       "    </tr>\n",
       "  </thead>\n",
       "  <tbody>\n",
       "    <tr>\n",
       "      <th>0</th>\n",
       "      <td>0</td>\n",
       "      <td>0</td>\n",
       "      <td>PAIDOFF</td>\n",
       "      <td>1000</td>\n",
       "      <td>30</td>\n",
       "      <td>2016-09-08</td>\n",
       "      <td>2016-10-07</td>\n",
       "      <td>45</td>\n",
       "      <td>High School or Below</td>\n",
       "      <td>male</td>\n",
       "      <td>3</td>\n",
       "      <td>0</td>\n",
       "    </tr>\n",
       "    <tr>\n",
       "      <th>1</th>\n",
       "      <td>2</td>\n",
       "      <td>2</td>\n",
       "      <td>PAIDOFF</td>\n",
       "      <td>1000</td>\n",
       "      <td>30</td>\n",
       "      <td>2016-09-08</td>\n",
       "      <td>2016-10-07</td>\n",
       "      <td>33</td>\n",
       "      <td>Bechalor</td>\n",
       "      <td>female</td>\n",
       "      <td>3</td>\n",
       "      <td>0</td>\n",
       "    </tr>\n",
       "    <tr>\n",
       "      <th>2</th>\n",
       "      <td>3</td>\n",
       "      <td>3</td>\n",
       "      <td>PAIDOFF</td>\n",
       "      <td>1000</td>\n",
       "      <td>15</td>\n",
       "      <td>2016-09-08</td>\n",
       "      <td>2016-09-22</td>\n",
       "      <td>27</td>\n",
       "      <td>college</td>\n",
       "      <td>male</td>\n",
       "      <td>3</td>\n",
       "      <td>0</td>\n",
       "    </tr>\n",
       "    <tr>\n",
       "      <th>3</th>\n",
       "      <td>4</td>\n",
       "      <td>4</td>\n",
       "      <td>PAIDOFF</td>\n",
       "      <td>1000</td>\n",
       "      <td>30</td>\n",
       "      <td>2016-09-09</td>\n",
       "      <td>2016-10-08</td>\n",
       "      <td>28</td>\n",
       "      <td>college</td>\n",
       "      <td>female</td>\n",
       "      <td>4</td>\n",
       "      <td>1</td>\n",
       "    </tr>\n",
       "    <tr>\n",
       "      <th>4</th>\n",
       "      <td>6</td>\n",
       "      <td>6</td>\n",
       "      <td>PAIDOFF</td>\n",
       "      <td>1000</td>\n",
       "      <td>30</td>\n",
       "      <td>2016-09-09</td>\n",
       "      <td>2016-10-08</td>\n",
       "      <td>29</td>\n",
       "      <td>college</td>\n",
       "      <td>male</td>\n",
       "      <td>4</td>\n",
       "      <td>1</td>\n",
       "    </tr>\n",
       "  </tbody>\n",
       "</table>\n",
       "</div>"
      ],
      "text/plain": [
       "   Unnamed: 0  Unnamed: 0.1 loan_status  Principal  terms effective_date  \\\n",
       "0           0             0     PAIDOFF       1000     30     2016-09-08   \n",
       "1           2             2     PAIDOFF       1000     30     2016-09-08   \n",
       "2           3             3     PAIDOFF       1000     15     2016-09-08   \n",
       "3           4             4     PAIDOFF       1000     30     2016-09-09   \n",
       "4           6             6     PAIDOFF       1000     30     2016-09-09   \n",
       "\n",
       "    due_date  age             education  Gender  dayofweek  weekend  \n",
       "0 2016-10-07   45  High School or Below    male          3        0  \n",
       "1 2016-10-07   33              Bechalor  female          3        0  \n",
       "2 2016-09-22   27               college    male          3        0  \n",
       "3 2016-10-08   28               college  female          4        1  \n",
       "4 2016-10-08   29               college    male          4        1  "
      ]
     },
     "execution_count": 11,
     "metadata": {},
     "output_type": "execute_result"
    }
   ],
   "source": [
    "df['weekend'] = df['dayofweek'].apply(lambda x: 1 if (x>3)  else 0)\n",
    "df.head()"
   ]
  },
  {
   "cell_type": "markdown",
   "id": "618b23ce",
   "metadata": {
    "button": false,
    "new_sheet": false,
    "papermill": {
     "duration": 0.023371,
     "end_time": "2022-06-16T20:56:36.409068",
     "exception": false,
     "start_time": "2022-06-16T20:56:36.385697",
     "status": "completed"
    },
    "run_control": {
     "read_only": false
    },
    "tags": []
   },
   "source": [
    "## Convert Categorical features to numerical values\n"
   ]
  },
  {
   "cell_type": "markdown",
   "id": "a1e3aa79",
   "metadata": {
    "button": false,
    "new_sheet": false,
    "papermill": {
     "duration": 0.023229,
     "end_time": "2022-06-16T20:56:36.462612",
     "exception": false,
     "start_time": "2022-06-16T20:56:36.439383",
     "status": "completed"
    },
    "run_control": {
     "read_only": false
    },
    "tags": []
   },
   "source": [
    "Let's look at gender:\n"
   ]
  },
  {
   "cell_type": "code",
   "execution_count": 12,
   "id": "183efde9",
   "metadata": {
    "button": false,
    "execution": {
     "iopub.execute_input": "2022-06-16T20:56:36.513591Z",
     "iopub.status.busy": "2022-06-16T20:56:36.512636Z",
     "iopub.status.idle": "2022-06-16T20:56:36.525952Z",
     "shell.execute_reply": "2022-06-16T20:56:36.524903Z"
    },
    "new_sheet": false,
    "papermill": {
     "duration": 0.044527,
     "end_time": "2022-06-16T20:56:36.529141",
     "exception": false,
     "start_time": "2022-06-16T20:56:36.484614",
     "status": "completed"
    },
    "run_control": {
     "read_only": false
    },
    "tags": []
   },
   "outputs": [
    {
     "data": {
      "text/plain": [
       "Gender  loan_status\n",
       "female  PAIDOFF        0.865385\n",
       "        COLLECTION     0.134615\n",
       "male    PAIDOFF        0.731293\n",
       "        COLLECTION     0.268707\n",
       "Name: loan_status, dtype: float64"
      ]
     },
     "execution_count": 12,
     "metadata": {},
     "output_type": "execute_result"
    }
   ],
   "source": [
    "df.groupby(['Gender'])['loan_status'].value_counts(normalize=True)"
   ]
  },
  {
   "cell_type": "markdown",
   "id": "4361a41e",
   "metadata": {
    "button": false,
    "new_sheet": false,
    "papermill": {
     "duration": 0.029184,
     "end_time": "2022-06-16T20:56:36.594467",
     "exception": false,
     "start_time": "2022-06-16T20:56:36.565283",
     "status": "completed"
    },
    "run_control": {
     "read_only": false
    },
    "tags": []
   },
   "source": [
    "86 % of female pay there loans while only 73 % of males pay there loan\n"
   ]
  },
  {
   "cell_type": "markdown",
   "id": "960167b8",
   "metadata": {
    "button": false,
    "new_sheet": false,
    "papermill": {
     "duration": 0.02185,
     "end_time": "2022-06-16T20:56:36.638559",
     "exception": false,
     "start_time": "2022-06-16T20:56:36.616709",
     "status": "completed"
    },
    "run_control": {
     "read_only": false
    },
    "tags": []
   },
   "source": [
    "Let's convert male to 0 and female to 1:\n"
   ]
  },
  {
   "cell_type": "code",
   "execution_count": 13,
   "id": "81f866ce",
   "metadata": {
    "button": false,
    "execution": {
     "iopub.execute_input": "2022-06-16T20:56:36.685633Z",
     "iopub.status.busy": "2022-06-16T20:56:36.684265Z",
     "iopub.status.idle": "2022-06-16T20:56:36.703324Z",
     "shell.execute_reply": "2022-06-16T20:56:36.702365Z"
    },
    "new_sheet": false,
    "papermill": {
     "duration": 0.044816,
     "end_time": "2022-06-16T20:56:36.705519",
     "exception": false,
     "start_time": "2022-06-16T20:56:36.660703",
     "status": "completed"
    },
    "run_control": {
     "read_only": false
    },
    "tags": []
   },
   "outputs": [
    {
     "data": {
      "text/html": [
       "<div>\n",
       "<style scoped>\n",
       "    .dataframe tbody tr th:only-of-type {\n",
       "        vertical-align: middle;\n",
       "    }\n",
       "\n",
       "    .dataframe tbody tr th {\n",
       "        vertical-align: top;\n",
       "    }\n",
       "\n",
       "    .dataframe thead th {\n",
       "        text-align: right;\n",
       "    }\n",
       "</style>\n",
       "<table border=\"1\" class=\"dataframe\">\n",
       "  <thead>\n",
       "    <tr style=\"text-align: right;\">\n",
       "      <th></th>\n",
       "      <th>Unnamed: 0</th>\n",
       "      <th>Unnamed: 0.1</th>\n",
       "      <th>loan_status</th>\n",
       "      <th>Principal</th>\n",
       "      <th>terms</th>\n",
       "      <th>effective_date</th>\n",
       "      <th>due_date</th>\n",
       "      <th>age</th>\n",
       "      <th>education</th>\n",
       "      <th>Gender</th>\n",
       "      <th>dayofweek</th>\n",
       "      <th>weekend</th>\n",
       "    </tr>\n",
       "  </thead>\n",
       "  <tbody>\n",
       "    <tr>\n",
       "      <th>0</th>\n",
       "      <td>0</td>\n",
       "      <td>0</td>\n",
       "      <td>PAIDOFF</td>\n",
       "      <td>1000</td>\n",
       "      <td>30</td>\n",
       "      <td>2016-09-08</td>\n",
       "      <td>2016-10-07</td>\n",
       "      <td>45</td>\n",
       "      <td>High School or Below</td>\n",
       "      <td>0</td>\n",
       "      <td>3</td>\n",
       "      <td>0</td>\n",
       "    </tr>\n",
       "    <tr>\n",
       "      <th>1</th>\n",
       "      <td>2</td>\n",
       "      <td>2</td>\n",
       "      <td>PAIDOFF</td>\n",
       "      <td>1000</td>\n",
       "      <td>30</td>\n",
       "      <td>2016-09-08</td>\n",
       "      <td>2016-10-07</td>\n",
       "      <td>33</td>\n",
       "      <td>Bechalor</td>\n",
       "      <td>1</td>\n",
       "      <td>3</td>\n",
       "      <td>0</td>\n",
       "    </tr>\n",
       "    <tr>\n",
       "      <th>2</th>\n",
       "      <td>3</td>\n",
       "      <td>3</td>\n",
       "      <td>PAIDOFF</td>\n",
       "      <td>1000</td>\n",
       "      <td>15</td>\n",
       "      <td>2016-09-08</td>\n",
       "      <td>2016-09-22</td>\n",
       "      <td>27</td>\n",
       "      <td>college</td>\n",
       "      <td>0</td>\n",
       "      <td>3</td>\n",
       "      <td>0</td>\n",
       "    </tr>\n",
       "    <tr>\n",
       "      <th>3</th>\n",
       "      <td>4</td>\n",
       "      <td>4</td>\n",
       "      <td>PAIDOFF</td>\n",
       "      <td>1000</td>\n",
       "      <td>30</td>\n",
       "      <td>2016-09-09</td>\n",
       "      <td>2016-10-08</td>\n",
       "      <td>28</td>\n",
       "      <td>college</td>\n",
       "      <td>1</td>\n",
       "      <td>4</td>\n",
       "      <td>1</td>\n",
       "    </tr>\n",
       "    <tr>\n",
       "      <th>4</th>\n",
       "      <td>6</td>\n",
       "      <td>6</td>\n",
       "      <td>PAIDOFF</td>\n",
       "      <td>1000</td>\n",
       "      <td>30</td>\n",
       "      <td>2016-09-09</td>\n",
       "      <td>2016-10-08</td>\n",
       "      <td>29</td>\n",
       "      <td>college</td>\n",
       "      <td>0</td>\n",
       "      <td>4</td>\n",
       "      <td>1</td>\n",
       "    </tr>\n",
       "  </tbody>\n",
       "</table>\n",
       "</div>"
      ],
      "text/plain": [
       "   Unnamed: 0  Unnamed: 0.1 loan_status  Principal  terms effective_date  \\\n",
       "0           0             0     PAIDOFF       1000     30     2016-09-08   \n",
       "1           2             2     PAIDOFF       1000     30     2016-09-08   \n",
       "2           3             3     PAIDOFF       1000     15     2016-09-08   \n",
       "3           4             4     PAIDOFF       1000     30     2016-09-09   \n",
       "4           6             6     PAIDOFF       1000     30     2016-09-09   \n",
       "\n",
       "    due_date  age             education  Gender  dayofweek  weekend  \n",
       "0 2016-10-07   45  High School or Below       0          3        0  \n",
       "1 2016-10-07   33              Bechalor       1          3        0  \n",
       "2 2016-09-22   27               college       0          3        0  \n",
       "3 2016-10-08   28               college       1          4        1  \n",
       "4 2016-10-08   29               college       0          4        1  "
      ]
     },
     "execution_count": 13,
     "metadata": {},
     "output_type": "execute_result"
    }
   ],
   "source": [
    "df['Gender'].replace(to_replace=['male','female'], value=[0,1],inplace=True)\n",
    "df.head()"
   ]
  },
  {
   "cell_type": "markdown",
   "id": "86f54009",
   "metadata": {
    "button": false,
    "new_sheet": false,
    "papermill": {
     "duration": 0.021682,
     "end_time": "2022-06-16T20:56:36.749347",
     "exception": false,
     "start_time": "2022-06-16T20:56:36.727665",
     "status": "completed"
    },
    "run_control": {
     "read_only": false
    },
    "tags": []
   },
   "source": [
    "## One Hot Encoding\n",
    "\n",
    "#### How about education?\n"
   ]
  },
  {
   "cell_type": "code",
   "execution_count": 14,
   "id": "f4b19a28",
   "metadata": {
    "button": false,
    "execution": {
     "iopub.execute_input": "2022-06-16T20:56:36.796089Z",
     "iopub.status.busy": "2022-06-16T20:56:36.794888Z",
     "iopub.status.idle": "2022-06-16T20:56:36.806330Z",
     "shell.execute_reply": "2022-06-16T20:56:36.805327Z"
    },
    "new_sheet": false,
    "papermill": {
     "duration": 0.037123,
     "end_time": "2022-06-16T20:56:36.808336",
     "exception": false,
     "start_time": "2022-06-16T20:56:36.771213",
     "status": "completed"
    },
    "run_control": {
     "read_only": false
    },
    "tags": []
   },
   "outputs": [
    {
     "data": {
      "text/plain": [
       "education             loan_status\n",
       "Bechalor              PAIDOFF        0.750000\n",
       "                      COLLECTION     0.250000\n",
       "High School or Below  PAIDOFF        0.741722\n",
       "                      COLLECTION     0.258278\n",
       "Master or Above       COLLECTION     0.500000\n",
       "                      PAIDOFF        0.500000\n",
       "college               PAIDOFF        0.765101\n",
       "                      COLLECTION     0.234899\n",
       "Name: loan_status, dtype: float64"
      ]
     },
     "execution_count": 14,
     "metadata": {},
     "output_type": "execute_result"
    }
   ],
   "source": [
    "df.groupby(['education'])['loan_status'].value_counts(normalize=True)"
   ]
  },
  {
   "cell_type": "markdown",
   "id": "e19091de",
   "metadata": {
    "button": false,
    "new_sheet": false,
    "papermill": {
     "duration": 0.021743,
     "end_time": "2022-06-16T20:56:36.852154",
     "exception": false,
     "start_time": "2022-06-16T20:56:36.830411",
     "status": "completed"
    },
    "run_control": {
     "read_only": false
    },
    "tags": []
   },
   "source": [
    "#### Features before One Hot Encoding\n"
   ]
  },
  {
   "cell_type": "code",
   "execution_count": 15,
   "id": "522914be",
   "metadata": {
    "button": false,
    "execution": {
     "iopub.execute_input": "2022-06-16T20:56:36.899708Z",
     "iopub.status.busy": "2022-06-16T20:56:36.898345Z",
     "iopub.status.idle": "2022-06-16T20:56:36.913210Z",
     "shell.execute_reply": "2022-06-16T20:56:36.912151Z"
    },
    "new_sheet": false,
    "papermill": {
     "duration": 0.041214,
     "end_time": "2022-06-16T20:56:36.915515",
     "exception": false,
     "start_time": "2022-06-16T20:56:36.874301",
     "status": "completed"
    },
    "run_control": {
     "read_only": false
    },
    "tags": []
   },
   "outputs": [
    {
     "data": {
      "text/html": [
       "<div>\n",
       "<style scoped>\n",
       "    .dataframe tbody tr th:only-of-type {\n",
       "        vertical-align: middle;\n",
       "    }\n",
       "\n",
       "    .dataframe tbody tr th {\n",
       "        vertical-align: top;\n",
       "    }\n",
       "\n",
       "    .dataframe thead th {\n",
       "        text-align: right;\n",
       "    }\n",
       "</style>\n",
       "<table border=\"1\" class=\"dataframe\">\n",
       "  <thead>\n",
       "    <tr style=\"text-align: right;\">\n",
       "      <th></th>\n",
       "      <th>Principal</th>\n",
       "      <th>terms</th>\n",
       "      <th>age</th>\n",
       "      <th>Gender</th>\n",
       "      <th>education</th>\n",
       "    </tr>\n",
       "  </thead>\n",
       "  <tbody>\n",
       "    <tr>\n",
       "      <th>0</th>\n",
       "      <td>1000</td>\n",
       "      <td>30</td>\n",
       "      <td>45</td>\n",
       "      <td>0</td>\n",
       "      <td>High School or Below</td>\n",
       "    </tr>\n",
       "    <tr>\n",
       "      <th>1</th>\n",
       "      <td>1000</td>\n",
       "      <td>30</td>\n",
       "      <td>33</td>\n",
       "      <td>1</td>\n",
       "      <td>Bechalor</td>\n",
       "    </tr>\n",
       "    <tr>\n",
       "      <th>2</th>\n",
       "      <td>1000</td>\n",
       "      <td>15</td>\n",
       "      <td>27</td>\n",
       "      <td>0</td>\n",
       "      <td>college</td>\n",
       "    </tr>\n",
       "    <tr>\n",
       "      <th>3</th>\n",
       "      <td>1000</td>\n",
       "      <td>30</td>\n",
       "      <td>28</td>\n",
       "      <td>1</td>\n",
       "      <td>college</td>\n",
       "    </tr>\n",
       "    <tr>\n",
       "      <th>4</th>\n",
       "      <td>1000</td>\n",
       "      <td>30</td>\n",
       "      <td>29</td>\n",
       "      <td>0</td>\n",
       "      <td>college</td>\n",
       "    </tr>\n",
       "  </tbody>\n",
       "</table>\n",
       "</div>"
      ],
      "text/plain": [
       "   Principal  terms  age  Gender             education\n",
       "0       1000     30   45       0  High School or Below\n",
       "1       1000     30   33       1              Bechalor\n",
       "2       1000     15   27       0               college\n",
       "3       1000     30   28       1               college\n",
       "4       1000     30   29       0               college"
      ]
     },
     "execution_count": 15,
     "metadata": {},
     "output_type": "execute_result"
    }
   ],
   "source": [
    "df[['Principal','terms','age','Gender','education']].head()"
   ]
  },
  {
   "cell_type": "markdown",
   "id": "d3cb4112",
   "metadata": {
    "button": false,
    "new_sheet": false,
    "papermill": {
     "duration": 0.02219,
     "end_time": "2022-06-16T20:56:36.961103",
     "exception": false,
     "start_time": "2022-06-16T20:56:36.938913",
     "status": "completed"
    },
    "run_control": {
     "read_only": false
    },
    "tags": []
   },
   "source": [
    "#### Use one hot encoding technique to conver categorical varables to binary variables and append them to the feature Data Frame\n"
   ]
  },
  {
   "cell_type": "code",
   "execution_count": 16,
   "id": "5e6069c8",
   "metadata": {
    "button": false,
    "execution": {
     "iopub.execute_input": "2022-06-16T20:56:37.008896Z",
     "iopub.status.busy": "2022-06-16T20:56:37.008001Z",
     "iopub.status.idle": "2022-06-16T20:56:37.026790Z",
     "shell.execute_reply": "2022-06-16T20:56:37.025818Z"
    },
    "new_sheet": false,
    "papermill": {
     "duration": 0.045483,
     "end_time": "2022-06-16T20:56:37.029009",
     "exception": false,
     "start_time": "2022-06-16T20:56:36.983526",
     "status": "completed"
    },
    "run_control": {
     "read_only": false
    },
    "tags": []
   },
   "outputs": [
    {
     "data": {
      "text/html": [
       "<div>\n",
       "<style scoped>\n",
       "    .dataframe tbody tr th:only-of-type {\n",
       "        vertical-align: middle;\n",
       "    }\n",
       "\n",
       "    .dataframe tbody tr th {\n",
       "        vertical-align: top;\n",
       "    }\n",
       "\n",
       "    .dataframe thead th {\n",
       "        text-align: right;\n",
       "    }\n",
       "</style>\n",
       "<table border=\"1\" class=\"dataframe\">\n",
       "  <thead>\n",
       "    <tr style=\"text-align: right;\">\n",
       "      <th></th>\n",
       "      <th>Principal</th>\n",
       "      <th>terms</th>\n",
       "      <th>age</th>\n",
       "      <th>Gender</th>\n",
       "      <th>weekend</th>\n",
       "      <th>Bechalor</th>\n",
       "      <th>High School or Below</th>\n",
       "      <th>college</th>\n",
       "    </tr>\n",
       "  </thead>\n",
       "  <tbody>\n",
       "    <tr>\n",
       "      <th>0</th>\n",
       "      <td>1000</td>\n",
       "      <td>30</td>\n",
       "      <td>45</td>\n",
       "      <td>0</td>\n",
       "      <td>0</td>\n",
       "      <td>0</td>\n",
       "      <td>1</td>\n",
       "      <td>0</td>\n",
       "    </tr>\n",
       "    <tr>\n",
       "      <th>1</th>\n",
       "      <td>1000</td>\n",
       "      <td>30</td>\n",
       "      <td>33</td>\n",
       "      <td>1</td>\n",
       "      <td>0</td>\n",
       "      <td>1</td>\n",
       "      <td>0</td>\n",
       "      <td>0</td>\n",
       "    </tr>\n",
       "    <tr>\n",
       "      <th>2</th>\n",
       "      <td>1000</td>\n",
       "      <td>15</td>\n",
       "      <td>27</td>\n",
       "      <td>0</td>\n",
       "      <td>0</td>\n",
       "      <td>0</td>\n",
       "      <td>0</td>\n",
       "      <td>1</td>\n",
       "    </tr>\n",
       "    <tr>\n",
       "      <th>3</th>\n",
       "      <td>1000</td>\n",
       "      <td>30</td>\n",
       "      <td>28</td>\n",
       "      <td>1</td>\n",
       "      <td>1</td>\n",
       "      <td>0</td>\n",
       "      <td>0</td>\n",
       "      <td>1</td>\n",
       "    </tr>\n",
       "    <tr>\n",
       "      <th>4</th>\n",
       "      <td>1000</td>\n",
       "      <td>30</td>\n",
       "      <td>29</td>\n",
       "      <td>0</td>\n",
       "      <td>1</td>\n",
       "      <td>0</td>\n",
       "      <td>0</td>\n",
       "      <td>1</td>\n",
       "    </tr>\n",
       "  </tbody>\n",
       "</table>\n",
       "</div>"
      ],
      "text/plain": [
       "   Principal  terms  age  Gender  weekend  Bechalor  High School or Below  \\\n",
       "0       1000     30   45       0        0         0                     1   \n",
       "1       1000     30   33       1        0         1                     0   \n",
       "2       1000     15   27       0        0         0                     0   \n",
       "3       1000     30   28       1        1         0                     0   \n",
       "4       1000     30   29       0        1         0                     0   \n",
       "\n",
       "   college  \n",
       "0        0  \n",
       "1        0  \n",
       "2        1  \n",
       "3        1  \n",
       "4        1  "
      ]
     },
     "execution_count": 16,
     "metadata": {},
     "output_type": "execute_result"
    }
   ],
   "source": [
    "Feature = df[['Principal','terms','age','Gender','weekend']]\n",
    "Feature = pd.concat([Feature,pd.get_dummies(df['education'])], axis=1)\n",
    "Feature.drop(['Master or Above'], axis = 1,inplace=True)\n",
    "Feature.head()"
   ]
  },
  {
   "cell_type": "markdown",
   "id": "9e31e165",
   "metadata": {
    "button": false,
    "new_sheet": false,
    "papermill": {
     "duration": 0.022606,
     "end_time": "2022-06-16T20:56:37.075874",
     "exception": false,
     "start_time": "2022-06-16T20:56:37.053268",
     "status": "completed"
    },
    "run_control": {
     "read_only": false
    },
    "tags": []
   },
   "source": [
    "### Feature Selection\n"
   ]
  },
  {
   "cell_type": "markdown",
   "id": "d61c766c",
   "metadata": {
    "button": false,
    "new_sheet": false,
    "papermill": {
     "duration": 0.022554,
     "end_time": "2022-06-16T20:56:37.121108",
     "exception": false,
     "start_time": "2022-06-16T20:56:37.098554",
     "status": "completed"
    },
    "run_control": {
     "read_only": false
    },
    "tags": []
   },
   "source": [
    "Let's define feature sets, X:\n"
   ]
  },
  {
   "cell_type": "code",
   "execution_count": 17,
   "id": "36fe501e",
   "metadata": {
    "button": false,
    "execution": {
     "iopub.execute_input": "2022-06-16T20:56:37.169218Z",
     "iopub.status.busy": "2022-06-16T20:56:37.168369Z",
     "iopub.status.idle": "2022-06-16T20:56:37.182196Z",
     "shell.execute_reply": "2022-06-16T20:56:37.180994Z"
    },
    "new_sheet": false,
    "papermill": {
     "duration": 0.040482,
     "end_time": "2022-06-16T20:56:37.184358",
     "exception": false,
     "start_time": "2022-06-16T20:56:37.143876",
     "status": "completed"
    },
    "run_control": {
     "read_only": false
    },
    "tags": []
   },
   "outputs": [
    {
     "data": {
      "text/html": [
       "<div>\n",
       "<style scoped>\n",
       "    .dataframe tbody tr th:only-of-type {\n",
       "        vertical-align: middle;\n",
       "    }\n",
       "\n",
       "    .dataframe tbody tr th {\n",
       "        vertical-align: top;\n",
       "    }\n",
       "\n",
       "    .dataframe thead th {\n",
       "        text-align: right;\n",
       "    }\n",
       "</style>\n",
       "<table border=\"1\" class=\"dataframe\">\n",
       "  <thead>\n",
       "    <tr style=\"text-align: right;\">\n",
       "      <th></th>\n",
       "      <th>Principal</th>\n",
       "      <th>terms</th>\n",
       "      <th>age</th>\n",
       "      <th>Gender</th>\n",
       "      <th>weekend</th>\n",
       "      <th>Bechalor</th>\n",
       "      <th>High School or Below</th>\n",
       "      <th>college</th>\n",
       "    </tr>\n",
       "  </thead>\n",
       "  <tbody>\n",
       "    <tr>\n",
       "      <th>0</th>\n",
       "      <td>1000</td>\n",
       "      <td>30</td>\n",
       "      <td>45</td>\n",
       "      <td>0</td>\n",
       "      <td>0</td>\n",
       "      <td>0</td>\n",
       "      <td>1</td>\n",
       "      <td>0</td>\n",
       "    </tr>\n",
       "    <tr>\n",
       "      <th>1</th>\n",
       "      <td>1000</td>\n",
       "      <td>30</td>\n",
       "      <td>33</td>\n",
       "      <td>1</td>\n",
       "      <td>0</td>\n",
       "      <td>1</td>\n",
       "      <td>0</td>\n",
       "      <td>0</td>\n",
       "    </tr>\n",
       "    <tr>\n",
       "      <th>2</th>\n",
       "      <td>1000</td>\n",
       "      <td>15</td>\n",
       "      <td>27</td>\n",
       "      <td>0</td>\n",
       "      <td>0</td>\n",
       "      <td>0</td>\n",
       "      <td>0</td>\n",
       "      <td>1</td>\n",
       "    </tr>\n",
       "    <tr>\n",
       "      <th>3</th>\n",
       "      <td>1000</td>\n",
       "      <td>30</td>\n",
       "      <td>28</td>\n",
       "      <td>1</td>\n",
       "      <td>1</td>\n",
       "      <td>0</td>\n",
       "      <td>0</td>\n",
       "      <td>1</td>\n",
       "    </tr>\n",
       "    <tr>\n",
       "      <th>4</th>\n",
       "      <td>1000</td>\n",
       "      <td>30</td>\n",
       "      <td>29</td>\n",
       "      <td>0</td>\n",
       "      <td>1</td>\n",
       "      <td>0</td>\n",
       "      <td>0</td>\n",
       "      <td>1</td>\n",
       "    </tr>\n",
       "  </tbody>\n",
       "</table>\n",
       "</div>"
      ],
      "text/plain": [
       "   Principal  terms  age  Gender  weekend  Bechalor  High School or Below  \\\n",
       "0       1000     30   45       0        0         0                     1   \n",
       "1       1000     30   33       1        0         1                     0   \n",
       "2       1000     15   27       0        0         0                     0   \n",
       "3       1000     30   28       1        1         0                     0   \n",
       "4       1000     30   29       0        1         0                     0   \n",
       "\n",
       "   college  \n",
       "0        0  \n",
       "1        0  \n",
       "2        1  \n",
       "3        1  \n",
       "4        1  "
      ]
     },
     "execution_count": 17,
     "metadata": {},
     "output_type": "execute_result"
    }
   ],
   "source": [
    "X = Feature\n",
    "X[0:5]"
   ]
  },
  {
   "cell_type": "markdown",
   "id": "30af7796",
   "metadata": {
    "button": false,
    "new_sheet": false,
    "papermill": {
     "duration": 0.022982,
     "end_time": "2022-06-16T20:56:37.230328",
     "exception": false,
     "start_time": "2022-06-16T20:56:37.207346",
     "status": "completed"
    },
    "run_control": {
     "read_only": false
    },
    "tags": []
   },
   "source": [
    "What are our lables?\n"
   ]
  },
  {
   "cell_type": "code",
   "execution_count": 18,
   "id": "f639aaf4",
   "metadata": {
    "button": false,
    "execution": {
     "iopub.execute_input": "2022-06-16T20:56:37.278623Z",
     "iopub.status.busy": "2022-06-16T20:56:37.278172Z",
     "iopub.status.idle": "2022-06-16T20:56:37.284555Z",
     "shell.execute_reply": "2022-06-16T20:56:37.283867Z"
    },
    "new_sheet": false,
    "papermill": {
     "duration": 0.033263,
     "end_time": "2022-06-16T20:56:37.286602",
     "exception": false,
     "start_time": "2022-06-16T20:56:37.253339",
     "status": "completed"
    },
    "run_control": {
     "read_only": false
    },
    "tags": []
   },
   "outputs": [
    {
     "data": {
      "text/plain": [
       "array(['PAIDOFF', 'PAIDOFF', 'PAIDOFF', 'PAIDOFF', 'PAIDOFF'],\n",
       "      dtype=object)"
      ]
     },
     "execution_count": 18,
     "metadata": {},
     "output_type": "execute_result"
    }
   ],
   "source": [
    "y = df['loan_status'].values\n",
    "y[0:5]"
   ]
  },
  {
   "cell_type": "markdown",
   "id": "4876e62b",
   "metadata": {
    "button": false,
    "new_sheet": false,
    "papermill": {
     "duration": 0.023009,
     "end_time": "2022-06-16T20:56:37.332635",
     "exception": false,
     "start_time": "2022-06-16T20:56:37.309626",
     "status": "completed"
    },
    "run_control": {
     "read_only": false
    },
    "tags": []
   },
   "source": [
    "## Normalize Data\n"
   ]
  },
  {
   "cell_type": "markdown",
   "id": "08f4dd50",
   "metadata": {
    "button": false,
    "new_sheet": false,
    "papermill": {
     "duration": 0.02258,
     "end_time": "2022-06-16T20:56:37.378439",
     "exception": false,
     "start_time": "2022-06-16T20:56:37.355859",
     "status": "completed"
    },
    "run_control": {
     "read_only": false
    },
    "tags": []
   },
   "source": [
    "Data Standardization give data zero mean and unit variance (technically should be done after train test split)\n"
   ]
  },
  {
   "cell_type": "code",
   "execution_count": 19,
   "id": "0afa4d09",
   "metadata": {
    "button": false,
    "execution": {
     "iopub.execute_input": "2022-06-16T20:56:37.427774Z",
     "iopub.status.busy": "2022-06-16T20:56:37.426438Z",
     "iopub.status.idle": "2022-06-16T20:56:37.439391Z",
     "shell.execute_reply": "2022-06-16T20:56:37.438704Z"
    },
    "new_sheet": false,
    "papermill": {
     "duration": 0.040139,
     "end_time": "2022-06-16T20:56:37.441626",
     "exception": false,
     "start_time": "2022-06-16T20:56:37.401487",
     "status": "completed"
    },
    "run_control": {
     "read_only": false
    },
    "tags": []
   },
   "outputs": [
    {
     "data": {
      "text/plain": [
       "array([[ 0.51578458,  0.92071769,  2.33152555, -0.42056004, -1.20577805,\n",
       "        -0.38170062,  1.13639374, -0.86968108],\n",
       "       [ 0.51578458,  0.92071769,  0.34170148,  2.37778177, -1.20577805,\n",
       "         2.61985426, -0.87997669, -0.86968108],\n",
       "       [ 0.51578458, -0.95911111, -0.65321055, -0.42056004, -1.20577805,\n",
       "        -0.38170062, -0.87997669,  1.14984679],\n",
       "       [ 0.51578458,  0.92071769, -0.48739188,  2.37778177,  0.82934003,\n",
       "        -0.38170062, -0.87997669,  1.14984679],\n",
       "       [ 0.51578458,  0.92071769, -0.3215732 , -0.42056004,  0.82934003,\n",
       "        -0.38170062, -0.87997669,  1.14984679]])"
      ]
     },
     "execution_count": 19,
     "metadata": {},
     "output_type": "execute_result"
    }
   ],
   "source": [
    "X= preprocessing.StandardScaler().fit(X).transform(X)\n",
    "X[0:5]"
   ]
  },
  {
   "cell_type": "markdown",
   "id": "590fcbc5",
   "metadata": {
    "button": false,
    "new_sheet": false,
    "papermill": {
     "duration": 0.023459,
     "end_time": "2022-06-16T20:56:37.489402",
     "exception": false,
     "start_time": "2022-06-16T20:56:37.465943",
     "status": "completed"
    },
    "run_control": {
     "read_only": false
    },
    "tags": []
   },
   "source": [
    "# Classification\n"
   ]
  },
  {
   "cell_type": "markdown",
   "id": "d0fddf06",
   "metadata": {
    "button": false,
    "new_sheet": false,
    "papermill": {
     "duration": 0.026104,
     "end_time": "2022-06-16T20:56:37.538996",
     "exception": false,
     "start_time": "2022-06-16T20:56:37.512892",
     "status": "completed"
    },
    "run_control": {
     "read_only": false
    },
    "tags": []
   },
   "source": [
    "Now, it is your turn, use the training set to build an accurate model. Then use the test set to report the accuracy of the model\n",
    "You should use the following algorithm:\n",
    "\n",
    "*   K Nearest Neighbor(KNN)\n",
    "*   Decision Tree\n",
    "*   Support Vector Machine\n",
    "*   Logistic Regression\n",
    "\n",
    "\\__ Notice:\\__\n",
    "\n",
    "*   You can go above and change the pre-processing, feature selection, feature-extraction, and so on, to make a better model.\n",
    "*   You should use either scikit-learn, Scipy or Numpy libraries for developing the classification algorithms.\n",
    "*   You should include the code of the algorithm in the following cells.\n"
   ]
  },
  {
   "cell_type": "markdown",
   "id": "4b2b75d0",
   "metadata": {
    "papermill": {
     "duration": 0.023041,
     "end_time": "2022-06-16T20:56:37.585711",
     "exception": false,
     "start_time": "2022-06-16T20:56:37.562670",
     "status": "completed"
    },
    "tags": []
   },
   "source": [
    "# K Nearest Neighbor(KNN)\n",
    "\n",
    "Notice: You should find the best k to build the model with the best accuracy.\\\n",
    "**warning:** You should not use the **loan_test.csv** for finding the best k, however, you can split your train_loan.csv into train and test to find the best **k**.\n"
   ]
  },
  {
   "cell_type": "code",
   "execution_count": 20,
   "id": "fc2af9b6",
   "metadata": {
    "execution": {
     "iopub.execute_input": "2022-06-16T20:56:37.636862Z",
     "iopub.status.busy": "2022-06-16T20:56:37.635676Z",
     "iopub.status.idle": "2022-06-16T20:56:37.661137Z",
     "shell.execute_reply": "2022-06-16T20:56:37.660365Z"
    },
    "papermill": {
     "duration": 0.053572,
     "end_time": "2022-06-16T20:56:37.663453",
     "exception": false,
     "start_time": "2022-06-16T20:56:37.609881",
     "status": "completed"
    },
    "tags": []
   },
   "outputs": [
    {
     "name": "stdout",
     "output_type": "stream",
     "text": [
      "Train set: (276, 8) (276,)\n",
      "Test set: (70, 8) (70,)\n"
     ]
    }
   ],
   "source": [
    "# Split into train and test\n",
    "from sklearn.model_selection import train_test_split\n",
    "X_train, X_test, y_train, y_test = train_test_split( X, y, test_size=0.2, random_state=4)\n",
    "print ('Train set:', X_train.shape,  y_train.shape)\n",
    "print ('Test set:', X_test.shape,  y_test.shape)"
   ]
  },
  {
   "cell_type": "code",
   "execution_count": 21,
   "id": "101ed59a",
   "metadata": {
    "execution": {
     "iopub.execute_input": "2022-06-16T20:56:37.714354Z",
     "iopub.status.busy": "2022-06-16T20:56:37.713362Z",
     "iopub.status.idle": "2022-06-16T20:56:38.108993Z",
     "shell.execute_reply": "2022-06-16T20:56:38.107992Z"
    },
    "papermill": {
     "duration": 0.423242,
     "end_time": "2022-06-16T20:56:38.111060",
     "exception": false,
     "start_time": "2022-06-16T20:56:37.687818",
     "status": "completed"
    },
    "tags": []
   },
   "outputs": [
    {
     "data": {
      "image/png": "[encoded data removed]",
      "text/plain": [
       "<Figure size 432x288 with 1 Axes>"
      ]
     },
     "metadata": {
      "needs_background": "light"
     },
     "output_type": "display_data"
    }
   ],
   "source": [
    "# Finding best K\n",
    "from sklearn.neighbors import KNeighborsClassifier\n",
    "from sklearn import metrics\n",
    "\n",
    "Ks = 10\n",
    "mean_acc = np.zeros((Ks-1))\n",
    "std_acc = np.zeros((Ks-1))\n",
    "\n",
    "for n in range(1,Ks):   \n",
    "    #Train Model and Predict  \n",
    "    neigh = KNeighborsClassifier(n_neighbors = n).fit(X_train,y_train)\n",
    "    yhat=neigh.predict(X_test)\n",
    "    mean_acc[n-1] = metrics.accuracy_score(y_test, yhat)   \n",
    "    std_acc[n-1]=np.std(yhat==y_test)/np.sqrt(yhat.shape[0])\n",
    "\n",
    "plt.plot(range(1,Ks),mean_acc,'g')\n",
    "plt.ylabel('Accuracy ')\n",
    "plt.xlabel('Number of Neighbors (K)')\n",
    "plt.show()"
   ]
  },
  {
   "cell_type": "code",
   "execution_count": 22,
   "id": "c707da30",
   "metadata": {
    "execution": {
     "iopub.execute_input": "2022-06-16T20:56:38.160635Z",
     "iopub.status.busy": "2022-06-16T20:56:38.160132Z",
     "iopub.status.idle": "2022-06-16T20:56:38.167739Z",
     "shell.execute_reply": "2022-06-16T20:56:38.166716Z"
    },
    "papermill": {
     "duration": 0.035744,
     "end_time": "2022-06-16T20:56:38.170262",
     "exception": false,
     "start_time": "2022-06-16T20:56:38.134518",
     "status": "completed"
    },
    "tags": []
   },
   "outputs": [
    {
     "name": "stdout",
     "output_type": "stream",
     "text": [
      "The best accuracy was with 0.8 with k= 7\n"
     ]
    }
   ],
   "source": [
    "knnc = KNeighborsClassifier(n_neighbors = 7).fit(X_train,y_train)\n",
    "print( \"The best accuracy was with\", mean_acc.max(), \"with k=\", mean_acc.argmax()+1) "
   ]
  },
  {
   "cell_type": "markdown",
   "id": "3a89362d",
   "metadata": {
    "papermill": {
     "duration": 0.022978,
     "end_time": "2022-06-16T20:56:38.216724",
     "exception": false,
     "start_time": "2022-06-16T20:56:38.193746",
     "status": "completed"
    },
    "tags": []
   },
   "source": [
    "# Decision Tree\n"
   ]
  },
  {
   "cell_type": "code",
   "execution_count": 23,
   "id": "188c9a6c",
   "metadata": {
    "execution": {
     "iopub.execute_input": "2022-06-16T20:56:38.266150Z",
     "iopub.status.busy": "2022-06-16T20:56:38.265277Z",
     "iopub.status.idle": "2022-06-16T20:56:38.302173Z",
     "shell.execute_reply": "2022-06-16T20:56:38.301075Z"
    },
    "papermill": {
     "duration": 0.064569,
     "end_time": "2022-06-16T20:56:38.304653",
     "exception": false,
     "start_time": "2022-06-16T20:56:38.240084",
     "status": "completed"
    },
    "tags": []
   },
   "outputs": [],
   "source": [
    "# Import library\n",
    "from sklearn.tree import DecisionTreeClassifier\n",
    "tree = DecisionTreeClassifier(max_depth = 6)"
   ]
  },
  {
   "cell_type": "code",
   "execution_count": 24,
   "id": "4d049022",
   "metadata": {
    "execution": {
     "iopub.execute_input": "2022-06-16T20:56:38.353586Z",
     "iopub.status.busy": "2022-06-16T20:56:38.353054Z",
     "iopub.status.idle": "2022-06-16T20:56:38.361473Z",
     "shell.execute_reply": "2022-06-16T20:56:38.360270Z"
    },
    "papermill": {
     "duration": 0.035555,
     "end_time": "2022-06-16T20:56:38.363666",
     "exception": false,
     "start_time": "2022-06-16T20:56:38.328111",
     "status": "completed"
    },
    "tags": []
   },
   "outputs": [],
   "source": [
    "# Train the model\n",
    "tree.fit(X_train,y_train)\n",
    "y_pred = tree.predict(X_test)"
   ]
  },
  {
   "cell_type": "code",
   "execution_count": 25,
   "id": "9f740eb5",
   "metadata": {
    "execution": {
     "iopub.execute_input": "2022-06-16T20:56:38.413139Z",
     "iopub.status.busy": "2022-06-16T20:56:38.412623Z",
     "iopub.status.idle": "2022-06-16T20:56:38.420086Z",
     "shell.execute_reply": "2022-06-16T20:56:38.418366Z"
    },
    "papermill": {
     "duration": 0.035448,
     "end_time": "2022-06-16T20:56:38.422952",
     "exception": false,
     "start_time": "2022-06-16T20:56:38.387504",
     "status": "completed"
    },
    "tags": []
   },
   "outputs": [
    {
     "name": "stdout",
     "output_type": "stream",
     "text": [
      "Tree's Accuracy:  0.7714285714285715\n"
     ]
    }
   ],
   "source": [
    "# Print accuracy\n",
    "print(\"Tree's Accuracy: \", metrics.accuracy_score(y_test, y_pred))"
   ]
  },
  {
   "cell_type": "markdown",
   "id": "109e881a",
   "metadata": {
    "papermill": {
     "duration": 0.023662,
     "end_time": "2022-06-16T20:56:38.470852",
     "exception": false,
     "start_time": "2022-06-16T20:56:38.447190",
     "status": "completed"
    },
    "tags": []
   },
   "source": [
    "# Support Vector Machine\n"
   ]
  },
  {
   "cell_type": "code",
   "execution_count": 26,
   "id": "24fe9deb",
   "metadata": {
    "execution": {
     "iopub.execute_input": "2022-06-16T20:56:38.520132Z",
     "iopub.status.busy": "2022-06-16T20:56:38.519010Z",
     "iopub.status.idle": "2022-06-16T20:56:38.524116Z",
     "shell.execute_reply": "2022-06-16T20:56:38.523270Z"
    },
    "papermill": {
     "duration": 0.031857,
     "end_time": "2022-06-16T20:56:38.526038",
     "exception": false,
     "start_time": "2022-06-16T20:56:38.494181",
     "status": "completed"
    },
    "tags": []
   },
   "outputs": [],
   "source": [
    "# Import library\n",
    "from sklearn import svm\n",
    "svmc = svm.SVC(kernel='rbf')"
   ]
  },
  {
   "cell_type": "code",
   "execution_count": 27,
   "id": "6ad45ba9",
   "metadata": {
    "execution": {
     "iopub.execute_input": "2022-06-16T20:56:38.576459Z",
     "iopub.status.busy": "2022-06-16T20:56:38.576023Z",
     "iopub.status.idle": "2022-06-16T20:56:38.586419Z",
     "shell.execute_reply": "2022-06-16T20:56:38.585465Z"
    },
    "papermill": {
     "duration": 0.038076,
     "end_time": "2022-06-16T20:56:38.588322",
     "exception": false,
     "start_time": "2022-06-16T20:56:38.550246",
     "status": "completed"
    },
    "tags": []
   },
   "outputs": [],
   "source": [
    "# Train and predict\n",
    "svmc.fit(X_train, y_train) \n",
    "y_pred = svmc.predict(X_test)"
   ]
  },
  {
   "cell_type": "code",
   "execution_count": 28,
   "id": "2317ffb0",
   "metadata": {
    "execution": {
     "iopub.execute_input": "2022-06-16T20:56:38.637817Z",
     "iopub.status.busy": "2022-06-16T20:56:38.637081Z",
     "iopub.status.idle": "2022-06-16T20:56:38.645679Z",
     "shell.execute_reply": "2022-06-16T20:56:38.644920Z"
    },
    "papermill": {
     "duration": 0.036009,
     "end_time": "2022-06-16T20:56:38.647720",
     "exception": false,
     "start_time": "2022-06-16T20:56:38.611711",
     "status": "completed"
    },
    "tags": []
   },
   "outputs": [
    {
     "data": {
      "text/plain": [
       "0.7272727272727273"
      ]
     },
     "execution_count": 28,
     "metadata": {},
     "output_type": "execute_result"
    }
   ],
   "source": [
    "# Test accuracy\n",
    "from sklearn.metrics import jaccard_score\n",
    "jaccard_score(y_test, y_pred,pos_label=\"PAIDOFF\")"
   ]
  },
  {
   "cell_type": "markdown",
   "id": "f3263842",
   "metadata": {
    "papermill": {
     "duration": 0.023613,
     "end_time": "2022-06-16T20:56:38.695147",
     "exception": false,
     "start_time": "2022-06-16T20:56:38.671534",
     "status": "completed"
    },
    "tags": []
   },
   "source": [
    "# Logistic Regression\n"
   ]
  },
  {
   "cell_type": "code",
   "execution_count": 29,
   "id": "ed8a4f30",
   "metadata": {
    "execution": {
     "iopub.execute_input": "2022-06-16T20:56:38.744733Z",
     "iopub.status.busy": "2022-06-16T20:56:38.743847Z",
     "iopub.status.idle": "2022-06-16T20:56:38.758778Z",
     "shell.execute_reply": "2022-06-16T20:56:38.757923Z"
    },
    "papermill": {
     "duration": 0.042454,
     "end_time": "2022-06-16T20:56:38.761068",
     "exception": false,
     "start_time": "2022-06-16T20:56:38.718614",
     "status": "completed"
    },
    "tags": []
   },
   "outputs": [],
   "source": [
    "from sklearn.linear_model import LogisticRegression\n",
    "lr = LogisticRegression(C=0.01).fit(X_train,y_train)"
   ]
  },
  {
   "cell_type": "code",
   "execution_count": 30,
   "id": "40313dd0",
   "metadata": {
    "execution": {
     "iopub.execute_input": "2022-06-16T20:56:38.810433Z",
     "iopub.status.busy": "2022-06-16T20:56:38.809696Z",
     "iopub.status.idle": "2022-06-16T20:56:38.815102Z",
     "shell.execute_reply": "2022-06-16T20:56:38.813910Z"
    },
    "papermill": {
     "duration": 0.032723,
     "end_time": "2022-06-16T20:56:38.817361",
     "exception": false,
     "start_time": "2022-06-16T20:56:38.784638",
     "status": "completed"
    },
    "tags": []
   },
   "outputs": [],
   "source": [
    "y_pred = lr.predict(X_test)"
   ]
  },
  {
   "cell_type": "code",
   "execution_count": 31,
   "id": "481d0124",
   "metadata": {
    "execution": {
     "iopub.execute_input": "2022-06-16T20:56:38.866887Z",
     "iopub.status.busy": "2022-06-16T20:56:38.866366Z",
     "iopub.status.idle": "2022-06-16T20:56:38.875473Z",
     "shell.execute_reply": "2022-06-16T20:56:38.874452Z"
    },
    "papermill": {
     "duration": 0.036294,
     "end_time": "2022-06-16T20:56:38.877465",
     "exception": false,
     "start_time": "2022-06-16T20:56:38.841171",
     "status": "completed"
    },
    "tags": []
   },
   "outputs": [
    {
     "data": {
      "text/plain": [
       "0.7857142857142857"
      ]
     },
     "execution_count": 31,
     "metadata": {},
     "output_type": "execute_result"
    }
   ],
   "source": [
    "jaccard_score(y_test, y_pred,pos_label='PAIDOFF')"
   ]
  },
  {
   "cell_type": "markdown",
   "id": "592cc47d",
   "metadata": {
    "papermill": {
     "duration": 0.023255,
     "end_time": "2022-06-16T20:56:38.924416",
     "exception": false,
     "start_time": "2022-06-16T20:56:38.901161",
     "status": "completed"
    },
    "tags": []
   },
   "source": [
    "# Model Evaluation using Test set\n"
   ]
  },
  {
   "cell_type": "code",
   "execution_count": 32,
   "id": "e518ae63",
   "metadata": {
    "execution": {
     "iopub.execute_input": "2022-06-16T20:56:38.974743Z",
     "iopub.status.busy": "2022-06-16T20:56:38.973369Z",
     "iopub.status.idle": "2022-06-16T20:56:38.979344Z",
     "shell.execute_reply": "2022-06-16T20:56:38.978231Z"
    },
    "papermill": {
     "duration": 0.033322,
     "end_time": "2022-06-16T20:56:38.981366",
     "exception": false,
     "start_time": "2022-06-16T20:56:38.948044",
     "status": "completed"
    },
    "tags": []
   },
   "outputs": [],
   "source": [
    "from sklearn.metrics import jaccard_score\n",
    "from sklearn.metrics import f1_score\n",
    "from sklearn.metrics import log_loss\n"
   ]
  },
  {
   "cell_type": "markdown",
   "id": "7d112ff8",
   "metadata": {
    "papermill": {
     "duration": 0.023732,
     "end_time": "2022-06-16T20:56:39.029383",
     "exception": false,
     "start_time": "2022-06-16T20:56:39.005651",
     "status": "completed"
    },
    "tags": []
   },
   "source": [
    "First, download and load the test set:\n"
   ]
  },
  {
   "cell_type": "code",
   "execution_count": 33,
   "id": "adf21c88",
   "metadata": {
    "execution": {
     "iopub.execute_input": "2022-06-16T20:56:39.079869Z",
     "iopub.status.busy": "2022-06-16T20:56:39.079086Z",
     "iopub.status.idle": "2022-06-16T20:56:40.297442Z",
     "shell.execute_reply": "2022-06-16T20:56:40.295926Z"
    },
    "papermill": {
     "duration": 1.246633,
     "end_time": "2022-06-16T20:56:40.300295",
     "exception": false,
     "start_time": "2022-06-16T20:56:39.053662",
     "status": "completed"
    },
    "tags": []
   },
   "outputs": [
    {
     "name": "stdout",
     "output_type": "stream",
     "text": [
      "--2022-06-16 20:56:39--  https://s3-api.us-geo.objectstorage.softlayer.net/cf-courses-data/CognitiveClass/ML0101ENv3/labs/loan_test.csv\r\n",
      "Resolving s3-api.us-geo.objectstorage.softlayer.net (s3-api.us-geo.objectstorage.softlayer.net)... 67.228.254.196\r\n",
      "Connecting to s3-api.us-geo.objectstorage.softlayer.net (s3-api.us-geo.objectstorage.softlayer.net)|67.228.254.196|:443... connected.\r\n",
      "HTTP request sent, awaiting response... 200 OK\r\n",
      "Length: 3642 (3.6K) [text/csv]\r\n",
      "Saving to: ‘loan_test.csv’\r\n",
      "\r\n",
      "loan_test.csv       100%[===================>]   3.56K  --.-KB/s    in 0s      \r\n",
      "\r\n",
      "2022-06-16 20:56:40 (350 MB/s) - ‘loan_test.csv’ saved [3642/3642]\r\n",
      "\r\n"
     ]
    }
   ],
   "source": [
    "!wget -O loan_test.csv https://s3-api.us-geo.objectstorage.softlayer.net/cf-courses-data/CognitiveClass/ML0101ENv3/labs/loan_test.csv"
   ]
  },
  {
   "cell_type": "markdown",
   "id": "6497f253",
   "metadata": {
    "button": false,
    "new_sheet": false,
    "papermill": {
     "duration": 0.025113,
     "end_time": "2022-06-16T20:56:40.350425",
     "exception": false,
     "start_time": "2022-06-16T20:56:40.325312",
     "status": "completed"
    },
    "run_control": {
     "read_only": false
    },
    "tags": []
   },
   "source": [
    "### Load Test set for evaluation\n"
   ]
  },
  {
   "cell_type": "code",
   "execution_count": 34,
   "id": "96e6c581",
   "metadata": {
    "button": false,
    "execution": {
     "iopub.execute_input": "2022-06-16T20:56:40.402692Z",
     "iopub.status.busy": "2022-06-16T20:56:40.401804Z",
     "iopub.status.idle": "2022-06-16T20:56:40.421665Z",
     "shell.execute_reply": "2022-06-16T20:56:40.420769Z"
    },
    "new_sheet": false,
    "papermill": {
     "duration": 0.048752,
     "end_time": "2022-06-16T20:56:40.423833",
     "exception": false,
     "start_time": "2022-06-16T20:56:40.375081",
     "status": "completed"
    },
    "run_control": {
     "read_only": false
    },
    "tags": []
   },
   "outputs": [
    {
     "data": {
      "text/html": [
       "<div>\n",
       "<style scoped>\n",
       "    .dataframe tbody tr th:only-of-type {\n",
       "        vertical-align: middle;\n",
       "    }\n",
       "\n",
       "    .dataframe tbody tr th {\n",
       "        vertical-align: top;\n",
       "    }\n",
       "\n",
       "    .dataframe thead th {\n",
       "        text-align: right;\n",
       "    }\n",
       "</style>\n",
       "<table border=\"1\" class=\"dataframe\">\n",
       "  <thead>\n",
       "    <tr style=\"text-align: right;\">\n",
       "      <th></th>\n",
       "      <th>Unnamed: 0</th>\n",
       "      <th>Unnamed: 0.1</th>\n",
       "      <th>loan_status</th>\n",
       "      <th>Principal</th>\n",
       "      <th>terms</th>\n",
       "      <th>effective_date</th>\n",
       "      <th>due_date</th>\n",
       "      <th>age</th>\n",
       "      <th>education</th>\n",
       "      <th>Gender</th>\n",
       "    </tr>\n",
       "  </thead>\n",
       "  <tbody>\n",
       "    <tr>\n",
       "      <th>0</th>\n",
       "      <td>1</td>\n",
       "      <td>1</td>\n",
       "      <td>PAIDOFF</td>\n",
       "      <td>1000</td>\n",
       "      <td>30</td>\n",
       "      <td>9/8/2016</td>\n",
       "      <td>10/7/2016</td>\n",
       "      <td>50</td>\n",
       "      <td>Bechalor</td>\n",
       "      <td>female</td>\n",
       "    </tr>\n",
       "    <tr>\n",
       "      <th>1</th>\n",
       "      <td>5</td>\n",
       "      <td>5</td>\n",
       "      <td>PAIDOFF</td>\n",
       "      <td>300</td>\n",
       "      <td>7</td>\n",
       "      <td>9/9/2016</td>\n",
       "      <td>9/15/2016</td>\n",
       "      <td>35</td>\n",
       "      <td>Master or Above</td>\n",
       "      <td>male</td>\n",
       "    </tr>\n",
       "    <tr>\n",
       "      <th>2</th>\n",
       "      <td>21</td>\n",
       "      <td>21</td>\n",
       "      <td>PAIDOFF</td>\n",
       "      <td>1000</td>\n",
       "      <td>30</td>\n",
       "      <td>9/10/2016</td>\n",
       "      <td>10/9/2016</td>\n",
       "      <td>43</td>\n",
       "      <td>High School or Below</td>\n",
       "      <td>female</td>\n",
       "    </tr>\n",
       "    <tr>\n",
       "      <th>3</th>\n",
       "      <td>24</td>\n",
       "      <td>24</td>\n",
       "      <td>PAIDOFF</td>\n",
       "      <td>1000</td>\n",
       "      <td>30</td>\n",
       "      <td>9/10/2016</td>\n",
       "      <td>10/9/2016</td>\n",
       "      <td>26</td>\n",
       "      <td>college</td>\n",
       "      <td>male</td>\n",
       "    </tr>\n",
       "    <tr>\n",
       "      <th>4</th>\n",
       "      <td>35</td>\n",
       "      <td>35</td>\n",
       "      <td>PAIDOFF</td>\n",
       "      <td>800</td>\n",
       "      <td>15</td>\n",
       "      <td>9/11/2016</td>\n",
       "      <td>9/25/2016</td>\n",
       "      <td>29</td>\n",
       "      <td>Bechalor</td>\n",
       "      <td>male</td>\n",
       "    </tr>\n",
       "  </tbody>\n",
       "</table>\n",
       "</div>"
      ],
      "text/plain": [
       "   Unnamed: 0  Unnamed: 0.1 loan_status  Principal  terms effective_date  \\\n",
       "0           1             1     PAIDOFF       1000     30       9/8/2016   \n",
       "1           5             5     PAIDOFF        300      7       9/9/2016   \n",
       "2          21            21     PAIDOFF       1000     30      9/10/2016   \n",
       "3          24            24     PAIDOFF       1000     30      9/10/2016   \n",
       "4          35            35     PAIDOFF        800     15      9/11/2016   \n",
       "\n",
       "    due_date  age             education  Gender  \n",
       "0  10/7/2016   50              Bechalor  female  \n",
       "1  9/15/2016   35       Master or Above    male  \n",
       "2  10/9/2016   43  High School or Below  female  \n",
       "3  10/9/2016   26               college    male  \n",
       "4  9/25/2016   29              Bechalor    male  "
      ]
     },
     "execution_count": 34,
     "metadata": {},
     "output_type": "execute_result"
    }
   ],
   "source": [
    "test_df = pd.read_csv('loan_test.csv')\n",
    "test_df.head()"
   ]
  },
  {
   "cell_type": "code",
   "execution_count": 35,
   "id": "c051d9a0",
   "metadata": {
    "execution": {
     "iopub.execute_input": "2022-06-16T20:56:40.473981Z",
     "iopub.status.busy": "2022-06-16T20:56:40.472995Z",
     "iopub.status.idle": "2022-06-16T20:56:40.503212Z",
     "shell.execute_reply": "2022-06-16T20:56:40.502069Z"
    },
    "papermill": {
     "duration": 0.057763,
     "end_time": "2022-06-16T20:56:40.505631",
     "exception": false,
     "start_time": "2022-06-16T20:56:40.447868",
     "status": "completed"
    },
    "tags": []
   },
   "outputs": [],
   "source": [
    "# Proces evaluation data\n",
    "test_df['due_date'] = pd.to_datetime(test_df['due_date'])\n",
    "test_df['effective_date'] = pd.to_datetime(test_df['effective_date'])\n",
    "test_df['Gender'].replace(to_replace=['male','female'], value=[0,1],inplace=True)\n",
    "test_df['dayofweek'] = test_df['effective_date'].dt.dayofweek\n",
    "test_df['weekend'] = test_df['dayofweek'].apply(lambda x: 1 if (x>3)  else 0)\n",
    "Feature = test_df[['Principal','terms','age','Gender','weekend']]\n",
    "Feature = pd.concat([Feature,pd.get_dummies(test_df['education'])], axis=1)\n",
    "Feature.drop(['Master or Above'], axis = 1,inplace=True)\n",
    "X = Feature\n",
    "y = test_df['loan_status'].values\n",
    "X= preprocessing.StandardScaler().fit(X).transform(X)"
   ]
  },
  {
   "cell_type": "code",
   "execution_count": 36,
   "id": "7e36beca",
   "metadata": {
    "execution": {
     "iopub.execute_input": "2022-06-16T20:56:40.563244Z",
     "iopub.status.busy": "2022-06-16T20:56:40.561372Z",
     "iopub.status.idle": "2022-06-16T20:56:40.574021Z",
     "shell.execute_reply": "2022-06-16T20:56:40.573060Z"
    },
    "papermill": {
     "duration": 0.043387,
     "end_time": "2022-06-16T20:56:40.576487",
     "exception": false,
     "start_time": "2022-06-16T20:56:40.533100",
     "status": "completed"
    },
    "tags": []
   },
   "outputs": [],
   "source": [
    "# Doing our predictions with the diferents models\n",
    "y_pred_knn = knnc.predict(X)\n",
    "y_pred_tree = tree.predict(X)\n",
    "y_pred_svm = svmc.predict(X)\n",
    "y_pred_log = lr.predict(X)\n",
    "y_pred_log_prob = lr.predict_proba(X)"
   ]
  },
  {
   "cell_type": "code",
   "execution_count": 37,
   "id": "2d6c5ed3",
   "metadata": {
    "execution": {
     "iopub.execute_input": "2022-06-16T20:56:40.636057Z",
     "iopub.status.busy": "2022-06-16T20:56:40.634398Z",
     "iopub.status.idle": "2022-06-16T20:56:40.650634Z",
     "shell.execute_reply": "2022-06-16T20:56:40.649901Z"
    },
    "papermill": {
     "duration": 0.047088,
     "end_time": "2022-06-16T20:56:40.652388",
     "exception": false,
     "start_time": "2022-06-16T20:56:40.605300",
     "status": "completed"
    },
    "tags": []
   },
   "outputs": [
    {
     "data": {
      "text/plain": [
       "[0.6666666666666666, 0.72, 0.78, 0.7407407407407407]"
      ]
     },
     "execution_count": 37,
     "metadata": {},
     "output_type": "execute_result"
    }
   ],
   "source": [
    "# Apply Jaccard Score\n",
    "knn_j = jaccard_score(y, y_pred_knn, pos_label='PAIDOFF')\n",
    "tree_j = jaccard_score(y, y_pred_tree, pos_label='PAIDOFF')\n",
    "svm_j = jaccard_score(y, y_pred_svm, pos_label='PAIDOFF')\n",
    "log_j = jaccard_score(y, y_pred_log, pos_label='PAIDOFF')\n",
    "jaccard_scores = [knn_j, tree_j, svm_j, log_j]\n",
    "jaccard_scores"
   ]
  },
  {
   "cell_type": "code",
   "execution_count": 38,
   "id": "cba5fbfa",
   "metadata": {
    "execution": {
     "iopub.execute_input": "2022-06-16T20:56:40.703150Z",
     "iopub.status.busy": "2022-06-16T20:56:40.702460Z",
     "iopub.status.idle": "2022-06-16T20:56:40.715568Z",
     "shell.execute_reply": "2022-06-16T20:56:40.714879Z"
    },
    "papermill": {
     "duration": 0.040805,
     "end_time": "2022-06-16T20:56:40.717463",
     "exception": false,
     "start_time": "2022-06-16T20:56:40.676658",
     "status": "completed"
    },
    "tags": []
   },
   "outputs": [
    {
     "data": {
      "text/plain": [
       "[0.6602254428341383,\n",
       " 0.7144311330357843,\n",
       " 0.7583503077293734,\n",
       " 0.6304176516942475]"
      ]
     },
     "execution_count": 38,
     "metadata": {},
     "output_type": "execute_result"
    }
   ],
   "source": [
    "from sklearn.metrics import f1_score\n",
    "# Apply F1-Score\n",
    "knn_f1 = f1_score(y, y_pred_knn, average=\"weighted\")\n",
    "tree_f1 = f1_score(y, y_pred_tree, average=\"weighted\")\n",
    "svm_f1 = f1_score(y, y_pred_svm, average=\"weighted\")\n",
    "log_f1 = f1_score(y, y_pred_log, average=\"weighted\")\n",
    "f1_scores = [knn_f1, tree_f1, svm_f1, log_f1]\n",
    "f1_scores"
   ]
  },
  {
   "cell_type": "code",
   "execution_count": 39,
   "id": "772f6bf9",
   "metadata": {
    "execution": {
     "iopub.execute_input": "2022-06-16T20:56:40.768631Z",
     "iopub.status.busy": "2022-06-16T20:56:40.767952Z",
     "iopub.status.idle": "2022-06-16T20:56:40.776648Z",
     "shell.execute_reply": "2022-06-16T20:56:40.775897Z"
    },
    "papermill": {
     "duration": 0.036868,
     "end_time": "2022-06-16T20:56:40.778528",
     "exception": false,
     "start_time": "2022-06-16T20:56:40.741660",
     "status": "completed"
    },
    "tags": []
   },
   "outputs": [
    {
     "data": {
      "text/plain": [
       "[None, None, None, 0.5163663771215675]"
      ]
     },
     "execution_count": 39,
     "metadata": {},
     "output_type": "execute_result"
    }
   ],
   "source": [
    "from sklearn.metrics import log_loss\n",
    "log_loss_scores = [None, None, None, 0]\n",
    "log_loss_scores[3] = log_loss(y, y_pred_log_prob)\n",
    "log_loss_scores"
   ]
  },
  {
   "cell_type": "code",
   "execution_count": 40,
   "id": "128fe1e0",
   "metadata": {
    "execution": {
     "iopub.execute_input": "2022-06-16T20:56:40.829253Z",
     "iopub.status.busy": "2022-06-16T20:56:40.828744Z",
     "iopub.status.idle": "2022-06-16T20:56:40.843138Z",
     "shell.execute_reply": "2022-06-16T20:56:40.842247Z"
    },
    "papermill": {
     "duration": 0.042125,
     "end_time": "2022-06-16T20:56:40.845100",
     "exception": false,
     "start_time": "2022-06-16T20:56:40.802975",
     "status": "completed"
    },
    "tags": []
   },
   "outputs": [
    {
     "data": {
      "text/html": [
       "<div>\n",
       "<style scoped>\n",
       "    .dataframe tbody tr th:only-of-type {\n",
       "        vertical-align: middle;\n",
       "    }\n",
       "\n",
       "    .dataframe tbody tr th {\n",
       "        vertical-align: top;\n",
       "    }\n",
       "\n",
       "    .dataframe thead th {\n",
       "        text-align: right;\n",
       "    }\n",
       "</style>\n",
       "<table border=\"1\" class=\"dataframe\">\n",
       "  <thead>\n",
       "    <tr style=\"text-align: right;\">\n",
       "      <th></th>\n",
       "      <th>Jaccard</th>\n",
       "      <th>F1-Score</th>\n",
       "      <th>LogLoss</th>\n",
       "    </tr>\n",
       "    <tr>\n",
       "      <th>Algorithm</th>\n",
       "      <th></th>\n",
       "      <th></th>\n",
       "      <th></th>\n",
       "    </tr>\n",
       "  </thead>\n",
       "  <tbody>\n",
       "    <tr>\n",
       "      <th>KNN</th>\n",
       "      <td>0.666667</td>\n",
       "      <td>0.660225</td>\n",
       "      <td>NaN</td>\n",
       "    </tr>\n",
       "    <tr>\n",
       "      <th>Decision Tree</th>\n",
       "      <td>0.720000</td>\n",
       "      <td>0.714431</td>\n",
       "      <td>NaN</td>\n",
       "    </tr>\n",
       "    <tr>\n",
       "      <th>SVM</th>\n",
       "      <td>0.780000</td>\n",
       "      <td>0.758350</td>\n",
       "      <td>NaN</td>\n",
       "    </tr>\n",
       "    <tr>\n",
       "      <th>LogisticRegression</th>\n",
       "      <td>0.740741</td>\n",
       "      <td>0.630418</td>\n",
       "      <td>0.516366</td>\n",
       "    </tr>\n",
       "  </tbody>\n",
       "</table>\n",
       "</div>"
      ],
      "text/plain": [
       "                     Jaccard  F1-Score   LogLoss\n",
       "Algorithm                                       \n",
       "KNN                 0.666667  0.660225       NaN\n",
       "Decision Tree       0.720000  0.714431       NaN\n",
       "SVM                 0.780000  0.758350       NaN\n",
       "LogisticRegression  0.740741  0.630418  0.516366"
      ]
     },
     "execution_count": 40,
     "metadata": {},
     "output_type": "execute_result"
    }
   ],
   "source": [
    "pd.DataFrame({'Algorithm':['KNN', 'Decision Tree', 'SVM', 'LogisticRegression'],\n",
    "              'Jaccard':jaccard_scores,\n",
    "              'F1-Score':f1_scores,\n",
    "              'LogLoss':log_loss_scores}).set_index('Algorithm')"
   ]
  },
  {
   "cell_type": "markdown",
   "id": "079a8d98",
   "metadata": {
    "papermill": {
     "duration": 0.024402,
     "end_time": "2022-06-16T20:56:40.894430",
     "exception": false,
     "start_time": "2022-06-16T20:56:40.870028",
     "status": "completed"
    },
    "tags": []
   },
   "source": [
    "# Report\n",
    "\n",
    "You should be able to report the accuracy of the built model using different evaluation metrics:\n"
   ]
  },
  {
   "cell_type": "markdown",
   "id": "1ab05014",
   "metadata": {
    "papermill": {
     "duration": 0.024457,
     "end_time": "2022-06-16T20:56:40.943612",
     "exception": false,
     "start_time": "2022-06-16T20:56:40.919155",
     "status": "completed"
    },
    "tags": []
   },
   "source": [
    "| Algorithm          | Jaccard | F1-score | LogLoss |\n",
    "| ------------------ | ------- | -------- | ------- |\n",
    "| KNN                | ?       | ?        | NA      |\n",
    "| Decision Tree      | ?       | ?        | NA      |\n",
    "| SVM                | ?       | ?        | NA      |\n",
    "| LogisticRegression | ?       | ?        | ?       |\n"
   ]
  },
  {
   "cell_type": "markdown",
   "id": "46b05a6e",
   "metadata": {
    "button": false,
    "new_sheet": false,
    "papermill": {
     "duration": 0.024285,
     "end_time": "2022-06-16T20:56:40.993325",
     "exception": false,
     "start_time": "2022-06-16T20:56:40.969040",
     "status": "completed"
    },
    "run_control": {
     "read_only": false
    },
    "tags": []
   },
   "source": [
    "<h2>Want to learn more?</h2>\n",
    "\n",
    "IBM SPSS Modeler is a comprehensive analytics platform that has many machine learning algorithms. It has been designed to bring predictive intelligence to decisions made by individuals, by groups, by systems – by your enterprise as a whole. A free trial is available through this course, available here: <a href=\"http://cocl.us/ML0101EN-SPSSModeler?utm_medium=Exinfluencer&utm_source=Exinfluencer&utm_content=000026UJ&utm_term=10006555&utm_id=NA-SkillsNetwork-Channel-SkillsNetworkCoursesIBMDeveloperSkillsNetworkML0101ENSkillsNetwork20718538-2022-01-01\">SPSS Modeler</a>\n",
    "\n",
    "Also, you can use Watson Studio to run these notebooks faster with bigger datasets. Watson Studio is IBM's leading cloud solution for data scientists, built by data scientists. With Jupyter notebooks, RStudio, Apache Spark and popular libraries pre-packaged in the cloud, Watson Studio enables data scientists to collaborate on their projects without having to install anything. Join the fast-growing community of Watson Studio users today with a free account at <a href=\"https://cocl.us/ML0101EN_DSX?utm_medium=Exinfluencer&utm_source=Exinfluencer&utm_content=000026UJ&utm_term=10006555&utm_id=NA-SkillsNetwork-Channel-SkillsNetworkCoursesIBMDeveloperSkillsNetworkML0101ENSkillsNetwork20718538-2022-01-01\">Watson Studio</a>\n",
    "\n",
    "<h3>Thanks for completing this lesson!</h3>\n",
    "\n",
    "<h4>Author:  <a href=\"https://ca.linkedin.com/in/saeedaghabozorgi?utm_medium=Exinfluencer&utm_source=Exinfluencer&utm_content=000026UJ&utm_term=10006555&utm_id=NA-SkillsNetwork-Channel-SkillsNetworkCoursesIBMDeveloperSkillsNetworkML0101ENSkillsNetwork20718538-2022-01-01?utm_medium=Exinfluencer&utm_source=Exinfluencer&utm_content=000026UJ&utm_term=10006555&utm_id=NA-SkillsNetwork-Channel-SkillsNetworkCoursesIBMDeveloperSkillsNetworkML0101ENSkillsNetwork20718538-2022-01-01\">Saeed Aghabozorgi</a></h4>\n",
    "<p><a href=\"https://ca.linkedin.com/in/saeedaghabozorgi\">Saeed Aghabozorgi</a>, PhD is a Data Scientist in IBM with a track record of developing enterprise level applications that substantially increases clients’ ability to turn data into actionable knowledge. He is a researcher in data mining field and expert in developing advanced analytic methods like machine learning and statistical modelling on large datasets.</p>\n",
    "\n",
    "<hr>\n",
    "\n",
    "## Change Log\n",
    "\n",
    "| Date (YYYY-MM-DD) | Version | Changed By    | Change Description                                                             |\n",
    "| ----------------- | ------- | ------------- | ------------------------------------------------------------------------------ |\n",
    "| 2020-10-27        | 2.1     | Lakshmi Holla | Made changes in import statement due to updates in version of  sklearn library |\n",
    "| 2020-08-27        | 2.0     | Malika Singla | Added lab to GitLab                                                            |\n",
    "\n",
    "<hr>\n",
    "\n",
    "## <h3 align=\"center\"> © IBM Corporation 2020. All rights reserved. <h3/>\n",
    "\n",
    "<p>\n"
   ]
  }
 ],
 "metadata": {
  "kernelspec": {
   "display_name": "Python 3",
   "language": "python",
   "name": "python3"
  },
  "language_info": {
   "codemirror_mode": {
    "name": "ipython",
    "version": 3
   },
   "file_extension": ".py",
   "mimetype": "text/x-python",
   "name": "python",
   "nbconvert_exporter": "python",
   "pygments_lexer": "ipython3",
   "version": "3.7.12"
  },
  "papermill": {
   "default_parameters": {},
   "duration": 22.143696,
   "end_time": "2022-06-16T20:56:42.243309",
   "environment_variables": {},
   "exception": null,
   "input_path": "__notebook__.ipynb",
   "output_path": "__notebook__.ipynb",
   "parameters": {},
   "start_time": "2022-06-16T20:56:20.099613",
   "version": "2.3.4"
  }
 },
 "nbformat": 4,
 "nbformat_minor": 5
}
