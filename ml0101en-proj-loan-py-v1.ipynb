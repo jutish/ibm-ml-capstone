{
 "cells": [
  {
   "cell_type": "markdown",
   "id": "de32cbc8",
   "metadata": {
    "button": false,
    "new_sheet": false,
    "papermill": {
     "duration": 0.020796,
     "end_time": "2022-06-24T14:42:13.668647",
     "exception": false,
     "start_time": "2022-06-24T14:42:13.647851",
     "status": "completed"
    },
    "run_control": {
     "read_only": false
    },
    "tags": []
   },
   "source": [
    "<p style=\"text-align:center\">\n",
    "    <a href=\"https://skills.network/?utm_medium=Exinfluencer&utm_source=Exinfluencer&utm_content=000026UJ&utm_term=10006555&utm_id=NA-SkillsNetwork-Channel-SkillsNetworkCoursesIBMDeveloperSkillsNetworkML0101ENSkillsNetwork20718538-2022-01-01\" target=\"_blank\">\n",
    "    <img src=\"https://cf-courses-data.s3.us.cloud-object-storage.appdomain.cloud/assets/logos/SN_web_lightmode.png\" width=\"200\" alt=\"Skills Network Logo\"  />\n",
    "    </a>\n",
    "</p>\n",
    "\n",
    "<h1 align=\"center\"><font size=\"5\">Classification with Python</font></h1>\n"
   ]
  },
  {
   "cell_type": "markdown",
   "id": "c9271eb2",
   "metadata": {
    "button": false,
    "new_sheet": false,
    "papermill": {
     "duration": 0.019397,
     "end_time": "2022-06-24T14:42:13.707572",
     "exception": false,
     "start_time": "2022-06-24T14:42:13.688175",
     "status": "completed"
    },
    "run_control": {
     "read_only": false
    },
    "tags": []
   },
   "source": [
    "In this notebook we try to practice all the classification algorithms that we have learned in this course.\n",
    "\n",
    "We load a dataset using Pandas library, and apply the following algorithms, and find the best one for this specific dataset by accuracy evaluation methods.\n",
    "\n",
    "Let's first load required libraries:\n"
   ]
  },
  {
   "cell_type": "code",
   "execution_count": 1,
   "id": "5fd3214b",
   "metadata": {
    "button": false,
    "execution": {
     "iopub.execute_input": "2022-06-24T14:42:13.749783Z",
     "iopub.status.busy": "2022-06-24T14:42:13.749164Z",
     "iopub.status.idle": "2022-06-24T14:42:15.057845Z",
     "shell.execute_reply": "2022-06-24T14:42:15.056713Z"
    },
    "new_sheet": false,
    "papermill": {
     "duration": 1.33235,
     "end_time": "2022-06-24T14:42:15.060686",
     "exception": false,
     "start_time": "2022-06-24T14:42:13.728336",
     "status": "completed"
    },
    "run_control": {
     "read_only": false
    },
    "tags": []
   },
   "outputs": [],
   "source": [
    "#Import usesfull tools\n",
    "import itertools\n",
    "import numpy as np\n",
    "import matplotlib.pyplot as plt\n",
    "from matplotlib.ticker import NullFormatter\n",
    "import pandas as pd\n",
    "import matplotlib.ticker as ticker\n",
    "from sklearn import preprocessing\n",
    "from sklearn.model_selection import train_test_split\n",
    "%matplotlib inline\n",
    "\n",
    "# Import metrics libraries\n",
    "from sklearn import metrics\n",
    "from sklearn.metrics import jaccard_score\n",
    "from sklearn.metrics import f1_score\n",
    "from sklearn.metrics import log_loss\n",
    "\n",
    "# Import models\n",
    "from sklearn.linear_model import LogisticRegression\n",
    "from sklearn.neighbors import KNeighborsClassifier\n",
    "from sklearn.tree import DecisionTreeClassifier\n",
    "from sklearn import svm\n",
    "\n"
   ]
  },
  {
   "cell_type": "markdown",
   "id": "93206649",
   "metadata": {
    "button": false,
    "new_sheet": false,
    "papermill": {
     "duration": 0.020163,
     "end_time": "2022-06-24T14:42:15.101434",
     "exception": false,
     "start_time": "2022-06-24T14:42:15.081271",
     "status": "completed"
    },
    "run_control": {
     "read_only": false
    },
    "tags": []
   },
   "source": [
    "### About dataset\n"
   ]
  },
  {
   "cell_type": "markdown",
   "id": "41b23266",
   "metadata": {
    "button": false,
    "new_sheet": false,
    "papermill": {
     "duration": 0.019529,
     "end_time": "2022-06-24T14:42:15.141321",
     "exception": false,
     "start_time": "2022-06-24T14:42:15.121792",
     "status": "completed"
    },
    "run_control": {
     "read_only": false
    },
    "tags": []
   },
   "source": [
    "This dataset is about past loans. The **Loan_train.csv** data set includes details of 346 customers whose loan are already paid off or defaulted. It includes following fields:\n",
    "\n",
    "| Field          | Description                                                                           |\n",
    "| -------------- | ------------------------------------------------------------------------------------- |\n",
    "| Loan_status    | Whether a loan is paid off on in collection                                           |\n",
    "| Principal      | Basic principal loan amount at the                                                    |\n",
    "| Terms          | Origination terms which can be weekly (7 days), biweekly, and monthly payoff schedule |\n",
    "| Effective_date | When the loan got originated and took effects                                         |\n",
    "| Due_date       | Since it’s one-time payoff schedule, each loan has one single due date                |\n",
    "| Age            | Age of applicant                                                                      |\n",
    "| Education      | Education of applicant                                                                |\n",
    "| Gender         | The gender of applicant                                                               |\n"
   ]
  },
  {
   "cell_type": "markdown",
   "id": "32b09651",
   "metadata": {
    "button": false,
    "new_sheet": false,
    "papermill": {
     "duration": 0.01897,
     "end_time": "2022-06-24T14:42:15.180153",
     "exception": false,
     "start_time": "2022-06-24T14:42:15.161183",
     "status": "completed"
    },
    "run_control": {
     "read_only": false
    },
    "tags": []
   },
   "source": [
    "Let's download the dataset\n"
   ]
  },
  {
   "cell_type": "code",
   "execution_count": 2,
   "id": "9ebe2e55",
   "metadata": {
    "button": false,
    "execution": {
     "iopub.execute_input": "2022-06-24T14:42:15.221439Z",
     "iopub.status.busy": "2022-06-24T14:42:15.221005Z",
     "iopub.status.idle": "2022-06-24T14:42:17.268279Z",
     "shell.execute_reply": "2022-06-24T14:42:17.266969Z"
    },
    "new_sheet": false,
    "papermill": {
     "duration": 2.071291,
     "end_time": "2022-06-24T14:42:17.270866",
     "exception": false,
     "start_time": "2022-06-24T14:42:15.199575",
     "status": "completed"
    },
    "run_control": {
     "read_only": false
    },
    "tags": []
   },
   "outputs": [
    {
     "name": "stdout",
     "output_type": "stream",
     "text": [
      "--2022-06-24 14:42:15--  https://cf-courses-data.s3.us.cloud-object-storage.appdomain.cloud/IBMDeveloperSkillsNetwork-ML0101EN-SkillsNetwork/labs/FinalModule_Coursera/data/loan_train.csv\r\n",
      "Resolving cf-courses-data.s3.us.cloud-object-storage.appdomain.cloud (cf-courses-data.s3.us.cloud-object-storage.appdomain.cloud)... 198.23.119.245\r\n",
      "Connecting to cf-courses-data.s3.us.cloud-object-storage.appdomain.cloud (cf-courses-data.s3.us.cloud-object-storage.appdomain.cloud)|198.23.119.245|:443... connected.\r\n",
      "HTTP request sent, awaiting response... 200 OK\r\n",
      "Length: 23101 (23K) [text/csv]\r\n",
      "Saving to: ‘loan_train.csv’\r\n",
      "\r\n",
      "loan_train.csv      100%[===================>]  22.56K  --.-KB/s    in 0s      \r\n",
      "\r\n",
      "2022-06-24 14:42:17 (153 MB/s) - ‘loan_train.csv’ saved [23101/23101]\r\n",
      "\r\n"
     ]
    }
   ],
   "source": [
    "!wget -O loan_train.csv https://cf-courses-data.s3.us.cloud-object-storage.appdomain.cloud/IBMDeveloperSkillsNetwork-ML0101EN-SkillsNetwork/labs/FinalModule_Coursera/data/loan_train.csv"
   ]
  },
  {
   "cell_type": "markdown",
   "id": "2a94821e",
   "metadata": {
    "button": false,
    "new_sheet": false,
    "papermill": {
     "duration": 0.019432,
     "end_time": "2022-06-24T14:42:17.310581",
     "exception": false,
     "start_time": "2022-06-24T14:42:17.291149",
     "status": "completed"
    },
    "run_control": {
     "read_only": false
    },
    "tags": []
   },
   "source": [
    "### Load Data From CSV File\n"
   ]
  },
  {
   "cell_type": "code",
   "execution_count": 3,
   "id": "067b6a5f",
   "metadata": {
    "button": false,
    "execution": {
     "iopub.execute_input": "2022-06-24T14:42:17.352271Z",
     "iopub.status.busy": "2022-06-24T14:42:17.351847Z",
     "iopub.status.idle": "2022-06-24T14:42:17.384385Z",
     "shell.execute_reply": "2022-06-24T14:42:17.383430Z"
    },
    "new_sheet": false,
    "papermill": {
     "duration": 0.056241,
     "end_time": "2022-06-24T14:42:17.386858",
     "exception": false,
     "start_time": "2022-06-24T14:42:17.330617",
     "status": "completed"
    },
    "run_control": {
     "read_only": false
    },
    "tags": []
   },
   "outputs": [
    {
     "data": {
      "text/html": [
       "<div>\n",
       "<style scoped>\n",
       "    .dataframe tbody tr th:only-of-type {\n",
       "        vertical-align: middle;\n",
       "    }\n",
       "\n",
       "    .dataframe tbody tr th {\n",
       "        vertical-align: top;\n",
       "    }\n",
       "\n",
       "    .dataframe thead th {\n",
       "        text-align: right;\n",
       "    }\n",
       "</style>\n",
       "<table border=\"1\" class=\"dataframe\">\n",
       "  <thead>\n",
       "    <tr style=\"text-align: right;\">\n",
       "      <th></th>\n",
       "      <th>Unnamed: 0</th>\n",
       "      <th>Unnamed: 0.1</th>\n",
       "      <th>loan_status</th>\n",
       "      <th>Principal</th>\n",
       "      <th>terms</th>\n",
       "      <th>effective_date</th>\n",
       "      <th>due_date</th>\n",
       "      <th>age</th>\n",
       "      <th>education</th>\n",
       "      <th>Gender</th>\n",
       "    </tr>\n",
       "  </thead>\n",
       "  <tbody>\n",
       "    <tr>\n",
       "      <th>0</th>\n",
       "      <td>0</td>\n",
       "      <td>0</td>\n",
       "      <td>PAIDOFF</td>\n",
       "      <td>1000</td>\n",
       "      <td>30</td>\n",
       "      <td>9/8/2016</td>\n",
       "      <td>10/7/2016</td>\n",
       "      <td>45</td>\n",
       "      <td>High School or Below</td>\n",
       "      <td>male</td>\n",
       "    </tr>\n",
       "    <tr>\n",
       "      <th>1</th>\n",
       "      <td>2</td>\n",
       "      <td>2</td>\n",
       "      <td>PAIDOFF</td>\n",
       "      <td>1000</td>\n",
       "      <td>30</td>\n",
       "      <td>9/8/2016</td>\n",
       "      <td>10/7/2016</td>\n",
       "      <td>33</td>\n",
       "      <td>Bechalor</td>\n",
       "      <td>female</td>\n",
       "    </tr>\n",
       "    <tr>\n",
       "      <th>2</th>\n",
       "      <td>3</td>\n",
       "      <td>3</td>\n",
       "      <td>PAIDOFF</td>\n",
       "      <td>1000</td>\n",
       "      <td>15</td>\n",
       "      <td>9/8/2016</td>\n",
       "      <td>9/22/2016</td>\n",
       "      <td>27</td>\n",
       "      <td>college</td>\n",
       "      <td>male</td>\n",
       "    </tr>\n",
       "    <tr>\n",
       "      <th>3</th>\n",
       "      <td>4</td>\n",
       "      <td>4</td>\n",
       "      <td>PAIDOFF</td>\n",
       "      <td>1000</td>\n",
       "      <td>30</td>\n",
       "      <td>9/9/2016</td>\n",
       "      <td>10/8/2016</td>\n",
       "      <td>28</td>\n",
       "      <td>college</td>\n",
       "      <td>female</td>\n",
       "    </tr>\n",
       "    <tr>\n",
       "      <th>4</th>\n",
       "      <td>6</td>\n",
       "      <td>6</td>\n",
       "      <td>PAIDOFF</td>\n",
       "      <td>1000</td>\n",
       "      <td>30</td>\n",
       "      <td>9/9/2016</td>\n",
       "      <td>10/8/2016</td>\n",
       "      <td>29</td>\n",
       "      <td>college</td>\n",
       "      <td>male</td>\n",
       "    </tr>\n",
       "  </tbody>\n",
       "</table>\n",
       "</div>"
      ],
      "text/plain": [
       "   Unnamed: 0  Unnamed: 0.1 loan_status  Principal  terms effective_date  \\\n",
       "0           0             0     PAIDOFF       1000     30       9/8/2016   \n",
       "1           2             2     PAIDOFF       1000     30       9/8/2016   \n",
       "2           3             3     PAIDOFF       1000     15       9/8/2016   \n",
       "3           4             4     PAIDOFF       1000     30       9/9/2016   \n",
       "4           6             6     PAIDOFF       1000     30       9/9/2016   \n",
       "\n",
       "    due_date  age             education  Gender  \n",
       "0  10/7/2016   45  High School or Below    male  \n",
       "1  10/7/2016   33              Bechalor  female  \n",
       "2  9/22/2016   27               college    male  \n",
       "3  10/8/2016   28               college  female  \n",
       "4  10/8/2016   29               college    male  "
      ]
     },
     "execution_count": 3,
     "metadata": {},
     "output_type": "execute_result"
    }
   ],
   "source": [
    "df = pd.read_csv('loan_train.csv')\n",
    "df.head()"
   ]
  },
  {
   "cell_type": "code",
   "execution_count": 4,
   "id": "bc78ef51",
   "metadata": {
    "execution": {
     "iopub.execute_input": "2022-06-24T14:42:17.430128Z",
     "iopub.status.busy": "2022-06-24T14:42:17.429564Z",
     "iopub.status.idle": "2022-06-24T14:42:17.435832Z",
     "shell.execute_reply": "2022-06-24T14:42:17.434851Z"
    },
    "papermill": {
     "duration": 0.029802,
     "end_time": "2022-06-24T14:42:17.437678",
     "exception": false,
     "start_time": "2022-06-24T14:42:17.407876",
     "status": "completed"
    },
    "tags": []
   },
   "outputs": [
    {
     "data": {
      "text/plain": [
       "(346, 10)"
      ]
     },
     "execution_count": 4,
     "metadata": {},
     "output_type": "execute_result"
    }
   ],
   "source": [
    "df.shape"
   ]
  },
  {
   "cell_type": "markdown",
   "id": "8d7dd913",
   "metadata": {
    "button": false,
    "new_sheet": false,
    "papermill": {
     "duration": 0.019966,
     "end_time": "2022-06-24T14:42:17.477985",
     "exception": false,
     "start_time": "2022-06-24T14:42:17.458019",
     "status": "completed"
    },
    "run_control": {
     "read_only": false
    },
    "tags": []
   },
   "source": [
    "### Convert to date time object\n"
   ]
  },
  {
   "cell_type": "code",
   "execution_count": 5,
   "id": "688675f8",
   "metadata": {
    "button": false,
    "execution": {
     "iopub.execute_input": "2022-06-24T14:42:17.520306Z",
     "iopub.status.busy": "2022-06-24T14:42:17.519716Z",
     "iopub.status.idle": "2022-06-24T14:42:17.551558Z",
     "shell.execute_reply": "2022-06-24T14:42:17.550640Z"
    },
    "new_sheet": false,
    "papermill": {
     "duration": 0.055445,
     "end_time": "2022-06-24T14:42:17.553637",
     "exception": false,
     "start_time": "2022-06-24T14:42:17.498192",
     "status": "completed"
    },
    "run_control": {
     "read_only": false
    },
    "tags": []
   },
   "outputs": [
    {
     "data": {
      "text/html": [
       "<div>\n",
       "<style scoped>\n",
       "    .dataframe tbody tr th:only-of-type {\n",
       "        vertical-align: middle;\n",
       "    }\n",
       "\n",
       "    .dataframe tbody tr th {\n",
       "        vertical-align: top;\n",
       "    }\n",
       "\n",
       "    .dataframe thead th {\n",
       "        text-align: right;\n",
       "    }\n",
       "</style>\n",
       "<table border=\"1\" class=\"dataframe\">\n",
       "  <thead>\n",
       "    <tr style=\"text-align: right;\">\n",
       "      <th></th>\n",
       "      <th>Unnamed: 0</th>\n",
       "      <th>Unnamed: 0.1</th>\n",
       "      <th>loan_status</th>\n",
       "      <th>Principal</th>\n",
       "      <th>terms</th>\n",
       "      <th>effective_date</th>\n",
       "      <th>due_date</th>\n",
       "      <th>age</th>\n",
       "      <th>education</th>\n",
       "      <th>Gender</th>\n",
       "    </tr>\n",
       "  </thead>\n",
       "  <tbody>\n",
       "    <tr>\n",
       "      <th>0</th>\n",
       "      <td>0</td>\n",
       "      <td>0</td>\n",
       "      <td>PAIDOFF</td>\n",
       "      <td>1000</td>\n",
       "      <td>30</td>\n",
       "      <td>2016-09-08</td>\n",
       "      <td>2016-10-07</td>\n",
       "      <td>45</td>\n",
       "      <td>High School or Below</td>\n",
       "      <td>male</td>\n",
       "    </tr>\n",
       "    <tr>\n",
       "      <th>1</th>\n",
       "      <td>2</td>\n",
       "      <td>2</td>\n",
       "      <td>PAIDOFF</td>\n",
       "      <td>1000</td>\n",
       "      <td>30</td>\n",
       "      <td>2016-09-08</td>\n",
       "      <td>2016-10-07</td>\n",
       "      <td>33</td>\n",
       "      <td>Bechalor</td>\n",
       "      <td>female</td>\n",
       "    </tr>\n",
       "    <tr>\n",
       "      <th>2</th>\n",
       "      <td>3</td>\n",
       "      <td>3</td>\n",
       "      <td>PAIDOFF</td>\n",
       "      <td>1000</td>\n",
       "      <td>15</td>\n",
       "      <td>2016-09-08</td>\n",
       "      <td>2016-09-22</td>\n",
       "      <td>27</td>\n",
       "      <td>college</td>\n",
       "      <td>male</td>\n",
       "    </tr>\n",
       "    <tr>\n",
       "      <th>3</th>\n",
       "      <td>4</td>\n",
       "      <td>4</td>\n",
       "      <td>PAIDOFF</td>\n",
       "      <td>1000</td>\n",
       "      <td>30</td>\n",
       "      <td>2016-09-09</td>\n",
       "      <td>2016-10-08</td>\n",
       "      <td>28</td>\n",
       "      <td>college</td>\n",
       "      <td>female</td>\n",
       "    </tr>\n",
       "    <tr>\n",
       "      <th>4</th>\n",
       "      <td>6</td>\n",
       "      <td>6</td>\n",
       "      <td>PAIDOFF</td>\n",
       "      <td>1000</td>\n",
       "      <td>30</td>\n",
       "      <td>2016-09-09</td>\n",
       "      <td>2016-10-08</td>\n",
       "      <td>29</td>\n",
       "      <td>college</td>\n",
       "      <td>male</td>\n",
       "    </tr>\n",
       "  </tbody>\n",
       "</table>\n",
       "</div>"
      ],
      "text/plain": [
       "   Unnamed: 0  Unnamed: 0.1 loan_status  Principal  terms effective_date  \\\n",
       "0           0             0     PAIDOFF       1000     30     2016-09-08   \n",
       "1           2             2     PAIDOFF       1000     30     2016-09-08   \n",
       "2           3             3     PAIDOFF       1000     15     2016-09-08   \n",
       "3           4             4     PAIDOFF       1000     30     2016-09-09   \n",
       "4           6             6     PAIDOFF       1000     30     2016-09-09   \n",
       "\n",
       "    due_date  age             education  Gender  \n",
       "0 2016-10-07   45  High School or Below    male  \n",
       "1 2016-10-07   33              Bechalor  female  \n",
       "2 2016-09-22   27               college    male  \n",
       "3 2016-10-08   28               college  female  \n",
       "4 2016-10-08   29               college    male  "
      ]
     },
     "execution_count": 5,
     "metadata": {},
     "output_type": "execute_result"
    }
   ],
   "source": [
    "df['due_date'] = pd.to_datetime(df['due_date'])\n",
    "df['effective_date'] = pd.to_datetime(df['effective_date'])\n",
    "df.head()"
   ]
  },
  {
   "cell_type": "markdown",
   "id": "5f2c514c",
   "metadata": {
    "button": false,
    "new_sheet": false,
    "papermill": {
     "duration": 0.020196,
     "end_time": "2022-06-24T14:42:17.594200",
     "exception": false,
     "start_time": "2022-06-24T14:42:17.574004",
     "status": "completed"
    },
    "run_control": {
     "read_only": false
    },
    "tags": []
   },
   "source": [
    "# Data visualization and pre-processing\n"
   ]
  },
  {
   "cell_type": "markdown",
   "id": "36d0c574",
   "metadata": {
    "button": false,
    "new_sheet": false,
    "papermill": {
     "duration": 0.02024,
     "end_time": "2022-06-24T14:42:17.634851",
     "exception": false,
     "start_time": "2022-06-24T14:42:17.614611",
     "status": "completed"
    },
    "run_control": {
     "read_only": false
    },
    "tags": []
   },
   "source": [
    "Let’s see how many of each class is in our data set\n"
   ]
  },
  {
   "cell_type": "code",
   "execution_count": 6,
   "id": "3e3799a8",
   "metadata": {
    "button": false,
    "execution": {
     "iopub.execute_input": "2022-06-24T14:42:17.677798Z",
     "iopub.status.busy": "2022-06-24T14:42:17.677225Z",
     "iopub.status.idle": "2022-06-24T14:42:17.686716Z",
     "shell.execute_reply": "2022-06-24T14:42:17.685789Z"
    },
    "new_sheet": false,
    "papermill": {
     "duration": 0.033199,
     "end_time": "2022-06-24T14:42:17.688702",
     "exception": false,
     "start_time": "2022-06-24T14:42:17.655503",
     "status": "completed"
    },
    "run_control": {
     "read_only": false
    },
    "tags": []
   },
   "outputs": [
    {
     "data": {
      "text/plain": [
       "PAIDOFF       260\n",
       "COLLECTION     86\n",
       "Name: loan_status, dtype: int64"
      ]
     },
     "execution_count": 6,
     "metadata": {},
     "output_type": "execute_result"
    }
   ],
   "source": [
    "df['loan_status'].value_counts()"
   ]
  },
  {
   "cell_type": "markdown",
   "id": "b8c3c981",
   "metadata": {
    "button": false,
    "new_sheet": false,
    "papermill": {
     "duration": 0.0206,
     "end_time": "2022-06-24T14:42:17.729821",
     "exception": false,
     "start_time": "2022-06-24T14:42:17.709221",
     "status": "completed"
    },
    "run_control": {
     "read_only": false
    },
    "tags": []
   },
   "source": [
    "260 people have paid off the loan on time while 86 have gone into collection\n"
   ]
  },
  {
   "cell_type": "markdown",
   "id": "d7a83d71",
   "metadata": {
    "papermill": {
     "duration": 0.020407,
     "end_time": "2022-06-24T14:42:17.770858",
     "exception": false,
     "start_time": "2022-06-24T14:42:17.750451",
     "status": "completed"
    },
    "tags": []
   },
   "source": [
    "Let's plot some columns to underestand data better:\n"
   ]
  },
  {
   "cell_type": "code",
   "execution_count": 7,
   "id": "45cc5f39",
   "metadata": {
    "execution": {
     "iopub.execute_input": "2022-06-24T14:42:17.814087Z",
     "iopub.status.busy": "2022-06-24T14:42:17.813532Z",
     "iopub.status.idle": "2022-06-24T14:42:17.817272Z",
     "shell.execute_reply": "2022-06-24T14:42:17.816650Z"
    },
    "papermill": {
     "duration": 0.027691,
     "end_time": "2022-06-24T14:42:17.819149",
     "exception": false,
     "start_time": "2022-06-24T14:42:17.791458",
     "status": "completed"
    },
    "tags": []
   },
   "outputs": [],
   "source": [
    "# notice: installing seaborn might takes a few minutes\n",
    "#!conda install -c anaconda seaborn -y"
   ]
  },
  {
   "cell_type": "code",
   "execution_count": 8,
   "id": "02795927",
   "metadata": {
    "execution": {
     "iopub.execute_input": "2022-06-24T14:42:17.862499Z",
     "iopub.status.busy": "2022-06-24T14:42:17.861922Z",
     "iopub.status.idle": "2022-06-24T14:42:18.556599Z",
     "shell.execute_reply": "2022-06-24T14:42:18.555682Z"
    },
    "papermill": {
     "duration": 0.718907,
     "end_time": "2022-06-24T14:42:18.558631",
     "exception": false,
     "start_time": "2022-06-24T14:42:17.839724",
     "status": "completed"
    },
    "tags": []
   },
   "outputs": [
    {
     "data": {
      "image/png": "[encoded data removed]",
      "text/plain": [
       "<Figure size 432x216 with 2 Axes>"
      ]
     },
     "metadata": {
      "needs_background": "light"
     },
     "output_type": "display_data"
    }
   ],
   "source": [
    "import seaborn as sns\n",
    "\n",
    "bins = np.linspace(df.Principal.min(), df.Principal.max(), 10)\n",
    "g = sns.FacetGrid(df, col=\"Gender\", hue=\"loan_status\", palette=\"Set1\", col_wrap=2)\n",
    "g.map(plt.hist, 'Principal', bins=bins, ec=\"k\")\n",
    "\n",
    "g.axes[-1].legend()\n",
    "plt.show()"
   ]
  },
  {
   "cell_type": "code",
   "execution_count": 9,
   "id": "2b66211c",
   "metadata": {
    "button": false,
    "execution": {
     "iopub.execute_input": "2022-06-24T14:42:18.605283Z",
     "iopub.status.busy": "2022-06-24T14:42:18.604695Z",
     "iopub.status.idle": "2022-06-24T14:42:19.074395Z",
     "shell.execute_reply": "2022-06-24T14:42:19.073434Z"
    },
    "new_sheet": false,
    "papermill": {
     "duration": 0.495551,
     "end_time": "2022-06-24T14:42:19.076483",
     "exception": false,
     "start_time": "2022-06-24T14:42:18.580932",
     "status": "completed"
    },
    "run_control": {
     "read_only": false
    },
    "tags": []
   },
   "outputs": [
    {
     "data": {
      "image/png": "[encoded data removed]",
      "text/plain": [
       "<Figure size 432x216 with 2 Axes>"
      ]
     },
     "metadata": {
      "needs_background": "light"
     },
     "output_type": "display_data"
    }
   ],
   "source": [
    "bins = np.linspace(df.age.min(), df.age.max(), 10)\n",
    "g = sns.FacetGrid(df, col=\"Gender\", hue=\"loan_status\", palette=\"Set1\", col_wrap=2)\n",
    "g.map(plt.hist, 'age', bins=bins, ec=\"k\")\n",
    "\n",
    "g.axes[-1].legend()\n",
    "plt.show()"
   ]
  },
  {
   "cell_type": "markdown",
   "id": "047d295c",
   "metadata": {
    "button": false,
    "new_sheet": false,
    "papermill": {
     "duration": 0.020946,
     "end_time": "2022-06-24T14:42:19.118510",
     "exception": false,
     "start_time": "2022-06-24T14:42:19.097564",
     "status": "completed"
    },
    "run_control": {
     "read_only": false
    },
    "tags": []
   },
   "source": [
    "# Pre-processing:  Feature selection/extraction\n"
   ]
  },
  {
   "cell_type": "markdown",
   "id": "f7f2deb3",
   "metadata": {
    "button": false,
    "new_sheet": false,
    "papermill": {
     "duration": 0.021155,
     "end_time": "2022-06-24T14:42:19.161450",
     "exception": false,
     "start_time": "2022-06-24T14:42:19.140295",
     "status": "completed"
    },
    "run_control": {
     "read_only": false
    },
    "tags": []
   },
   "source": [
    "### Let's look at the day of the week people get the loan\n"
   ]
  },
  {
   "cell_type": "code",
   "execution_count": 10,
   "id": "3abcb448",
   "metadata": {
    "button": false,
    "execution": {
     "iopub.execute_input": "2022-06-24T14:42:19.205977Z",
     "iopub.status.busy": "2022-06-24T14:42:19.205389Z",
     "iopub.status.idle": "2022-06-24T14:42:19.648606Z",
     "shell.execute_reply": "2022-06-24T14:42:19.647666Z"
    },
    "new_sheet": false,
    "papermill": {
     "duration": 0.467828,
     "end_time": "2022-06-24T14:42:19.650590",
     "exception": false,
     "start_time": "2022-06-24T14:42:19.182762",
     "status": "completed"
    },
    "run_control": {
     "read_only": false
    },
    "tags": []
   },
   "outputs": [
    {
     "data": {
      "image/png": "[encoded data removed]",
      "text/plain": [
       "<Figure size 432x216 with 2 Axes>"
      ]
     },
     "metadata": {
      "needs_background": "light"
     },
     "output_type": "display_data"
    }
   ],
   "source": [
    "df['dayofweek'] = df['effective_date'].dt.dayofweek\n",
    "bins = np.linspace(df.dayofweek.min(), df.dayofweek.max(), 10)\n",
    "g = sns.FacetGrid(df, col=\"Gender\", hue=\"loan_status\", palette=\"Set1\", col_wrap=2)\n",
    "g.map(plt.hist, 'dayofweek', bins=bins, ec=\"k\")\n",
    "g.axes[-1].legend()\n",
    "plt.show()\n"
   ]
  },
  {
   "cell_type": "markdown",
   "id": "53b4dfe6",
   "metadata": {
    "button": false,
    "new_sheet": false,
    "papermill": {
     "duration": 0.021247,
     "end_time": "2022-06-24T14:42:19.693195",
     "exception": false,
     "start_time": "2022-06-24T14:42:19.671948",
     "status": "completed"
    },
    "run_control": {
     "read_only": false
    },
    "tags": []
   },
   "source": [
    "We see that people who get the loan at the end of the week don't pay it off, so let's use Feature binarization to set a threshold value less than day 4\n"
   ]
  },
  {
   "cell_type": "code",
   "execution_count": 11,
   "id": "1d79a569",
   "metadata": {
    "button": false,
    "execution": {
     "iopub.execute_input": "2022-06-24T14:42:19.738220Z",
     "iopub.status.busy": "2022-06-24T14:42:19.737650Z",
     "iopub.status.idle": "2022-06-24T14:42:19.755403Z",
     "shell.execute_reply": "2022-06-24T14:42:19.754439Z"
    },
    "new_sheet": false,
    "papermill": {
     "duration": 0.042859,
     "end_time": "2022-06-24T14:42:19.757514",
     "exception": false,
     "start_time": "2022-06-24T14:42:19.714655",
     "status": "completed"
    },
    "run_control": {
     "read_only": false
    },
    "tags": []
   },
   "outputs": [
    {
     "data": {
      "text/html": [
       "<div>\n",
       "<style scoped>\n",
       "    .dataframe tbody tr th:only-of-type {\n",
       "        vertical-align: middle;\n",
       "    }\n",
       "\n",
       "    .dataframe tbody tr th {\n",
       "        vertical-align: top;\n",
       "    }\n",
       "\n",
       "    .dataframe thead th {\n",
       "        text-align: right;\n",
       "    }\n",
       "</style>\n",
       "<table border=\"1\" class=\"dataframe\">\n",
       "  <thead>\n",
       "    <tr style=\"text-align: right;\">\n",
       "      <th></th>\n",
       "      <th>Unnamed: 0</th>\n",
       "      <th>Unnamed: 0.1</th>\n",
       "      <th>loan_status</th>\n",
       "      <th>Principal</th>\n",
       "      <th>terms</th>\n",
       "      <th>effective_date</th>\n",
       "      <th>due_date</th>\n",
       "      <th>age</th>\n",
       "      <th>education</th>\n",
       "      <th>Gender</th>\n",
       "      <th>dayofweek</th>\n",
       "      <th>weekend</th>\n",
       "    </tr>\n",
       "  </thead>\n",
       "  <tbody>\n",
       "    <tr>\n",
       "      <th>0</th>\n",
       "      <td>0</td>\n",
       "      <td>0</td>\n",
       "      <td>PAIDOFF</td>\n",
       "      <td>1000</td>\n",
       "      <td>30</td>\n",
       "      <td>2016-09-08</td>\n",
       "      <td>2016-10-07</td>\n",
       "      <td>45</td>\n",
       "      <td>High School or Below</td>\n",
       "      <td>male</td>\n",
       "      <td>3</td>\n",
       "      <td>0</td>\n",
       "    </tr>\n",
       "    <tr>\n",
       "      <th>1</th>\n",
       "      <td>2</td>\n",
       "      <td>2</td>\n",
       "      <td>PAIDOFF</td>\n",
       "      <td>1000</td>\n",
       "      <td>30</td>\n",
       "      <td>2016-09-08</td>\n",
       "      <td>2016-10-07</td>\n",
       "      <td>33</td>\n",
       "      <td>Bechalor</td>\n",
       "      <td>female</td>\n",
       "      <td>3</td>\n",
       "      <td>0</td>\n",
       "    </tr>\n",
       "    <tr>\n",
       "      <th>2</th>\n",
       "      <td>3</td>\n",
       "      <td>3</td>\n",
       "      <td>PAIDOFF</td>\n",
       "      <td>1000</td>\n",
       "      <td>15</td>\n",
       "      <td>2016-09-08</td>\n",
       "      <td>2016-09-22</td>\n",
       "      <td>27</td>\n",
       "      <td>college</td>\n",
       "      <td>male</td>\n",
       "      <td>3</td>\n",
       "      <td>0</td>\n",
       "    </tr>\n",
       "    <tr>\n",
       "      <th>3</th>\n",
       "      <td>4</td>\n",
       "      <td>4</td>\n",
       "      <td>PAIDOFF</td>\n",
       "      <td>1000</td>\n",
       "      <td>30</td>\n",
       "      <td>2016-09-09</td>\n",
       "      <td>2016-10-08</td>\n",
       "      <td>28</td>\n",
       "      <td>college</td>\n",
       "      <td>female</td>\n",
       "      <td>4</td>\n",
       "      <td>1</td>\n",
       "    </tr>\n",
       "    <tr>\n",
       "      <th>4</th>\n",
       "      <td>6</td>\n",
       "      <td>6</td>\n",
       "      <td>PAIDOFF</td>\n",
       "      <td>1000</td>\n",
       "      <td>30</td>\n",
       "      <td>2016-09-09</td>\n",
       "      <td>2016-10-08</td>\n",
       "      <td>29</td>\n",
       "      <td>college</td>\n",
       "      <td>male</td>\n",
       "      <td>4</td>\n",
       "      <td>1</td>\n",
       "    </tr>\n",
       "  </tbody>\n",
       "</table>\n",
       "</div>"
      ],
      "text/plain": [
       "   Unnamed: 0  Unnamed: 0.1 loan_status  Principal  terms effective_date  \\\n",
       "0           0             0     PAIDOFF       1000     30     2016-09-08   \n",
       "1           2             2     PAIDOFF       1000     30     2016-09-08   \n",
       "2           3             3     PAIDOFF       1000     15     2016-09-08   \n",
       "3           4             4     PAIDOFF       1000     30     2016-09-09   \n",
       "4           6             6     PAIDOFF       1000     30     2016-09-09   \n",
       "\n",
       "    due_date  age             education  Gender  dayofweek  weekend  \n",
       "0 2016-10-07   45  High School or Below    male          3        0  \n",
       "1 2016-10-07   33              Bechalor  female          3        0  \n",
       "2 2016-09-22   27               college    male          3        0  \n",
       "3 2016-10-08   28               college  female          4        1  \n",
       "4 2016-10-08   29               college    male          4        1  "
      ]
     },
     "execution_count": 11,
     "metadata": {},
     "output_type": "execute_result"
    }
   ],
   "source": [
    "df['weekend'] = df['dayofweek'].apply(lambda x: 1 if (x>3)  else 0)\n",
    "df.head()"
   ]
  },
  {
   "cell_type": "markdown",
   "id": "61bcfb62",
   "metadata": {
    "button": false,
    "new_sheet": false,
    "papermill": {
     "duration": 0.02201,
     "end_time": "2022-06-24T14:42:19.802202",
     "exception": false,
     "start_time": "2022-06-24T14:42:19.780192",
     "status": "completed"
    },
    "run_control": {
     "read_only": false
    },
    "tags": []
   },
   "source": [
    "## Convert Categorical features to numerical values\n"
   ]
  },
  {
   "cell_type": "markdown",
   "id": "f51f8549",
   "metadata": {
    "button": false,
    "new_sheet": false,
    "papermill": {
     "duration": 0.022352,
     "end_time": "2022-06-24T14:42:19.847176",
     "exception": false,
     "start_time": "2022-06-24T14:42:19.824824",
     "status": "completed"
    },
    "run_control": {
     "read_only": false
    },
    "tags": []
   },
   "source": [
    "Let's look at gender:\n"
   ]
  },
  {
   "cell_type": "code",
   "execution_count": 12,
   "id": "4659c3c5",
   "metadata": {
    "button": false,
    "execution": {
     "iopub.execute_input": "2022-06-24T14:42:19.892333Z",
     "iopub.status.busy": "2022-06-24T14:42:19.891930Z",
     "iopub.status.idle": "2022-06-24T14:42:19.902061Z",
     "shell.execute_reply": "2022-06-24T14:42:19.901384Z"
    },
    "new_sheet": false,
    "papermill": {
     "duration": 0.034919,
     "end_time": "2022-06-24T14:42:19.903933",
     "exception": false,
     "start_time": "2022-06-24T14:42:19.869014",
     "status": "completed"
    },
    "run_control": {
     "read_only": false
    },
    "tags": []
   },
   "outputs": [
    {
     "data": {
      "text/plain": [
       "Gender  loan_status\n",
       "female  PAIDOFF        0.865385\n",
       "        COLLECTION     0.134615\n",
       "male    PAIDOFF        0.731293\n",
       "        COLLECTION     0.268707\n",
       "Name: loan_status, dtype: float64"
      ]
     },
     "execution_count": 12,
     "metadata": {},
     "output_type": "execute_result"
    }
   ],
   "source": [
    "df.groupby(['Gender'])['loan_status'].value_counts(normalize=True)"
   ]
  },
  {
   "cell_type": "markdown",
   "id": "104c2600",
   "metadata": {
    "button": false,
    "new_sheet": false,
    "papermill": {
     "duration": 0.022377,
     "end_time": "2022-06-24T14:42:19.949106",
     "exception": false,
     "start_time": "2022-06-24T14:42:19.926729",
     "status": "completed"
    },
    "run_control": {
     "read_only": false
    },
    "tags": []
   },
   "source": [
    "86 % of female pay there loans while only 73 % of males pay there loan\n"
   ]
  },
  {
   "cell_type": "markdown",
   "id": "105fdf56",
   "metadata": {
    "button": false,
    "new_sheet": false,
    "papermill": {
     "duration": 0.021854,
     "end_time": "2022-06-24T14:42:19.992771",
     "exception": false,
     "start_time": "2022-06-24T14:42:19.970917",
     "status": "completed"
    },
    "run_control": {
     "read_only": false
    },
    "tags": []
   },
   "source": [
    "Let's convert male to 0 and female to 1:\n"
   ]
  },
  {
   "cell_type": "code",
   "execution_count": 13,
   "id": "70df566f",
   "metadata": {
    "button": false,
    "execution": {
     "iopub.execute_input": "2022-06-24T14:42:20.039254Z",
     "iopub.status.busy": "2022-06-24T14:42:20.038596Z",
     "iopub.status.idle": "2022-06-24T14:42:20.054991Z",
     "shell.execute_reply": "2022-06-24T14:42:20.054340Z"
    },
    "new_sheet": false,
    "papermill": {
     "duration": 0.041893,
     "end_time": "2022-06-24T14:42:20.056897",
     "exception": false,
     "start_time": "2022-06-24T14:42:20.015004",
     "status": "completed"
    },
    "run_control": {
     "read_only": false
    },
    "tags": []
   },
   "outputs": [
    {
     "data": {
      "text/html": [
       "<div>\n",
       "<style scoped>\n",
       "    .dataframe tbody tr th:only-of-type {\n",
       "        vertical-align: middle;\n",
       "    }\n",
       "\n",
       "    .dataframe tbody tr th {\n",
       "        vertical-align: top;\n",
       "    }\n",
       "\n",
       "    .dataframe thead th {\n",
       "        text-align: right;\n",
       "    }\n",
       "</style>\n",
       "<table border=\"1\" class=\"dataframe\">\n",
       "  <thead>\n",
       "    <tr style=\"text-align: right;\">\n",
       "      <th></th>\n",
       "      <th>Unnamed: 0</th>\n",
       "      <th>Unnamed: 0.1</th>\n",
       "      <th>loan_status</th>\n",
       "      <th>Principal</th>\n",
       "      <th>terms</th>\n",
       "      <th>effective_date</th>\n",
       "      <th>due_date</th>\n",
       "      <th>age</th>\n",
       "      <th>education</th>\n",
       "      <th>Gender</th>\n",
       "      <th>dayofweek</th>\n",
       "      <th>weekend</th>\n",
       "    </tr>\n",
       "  </thead>\n",
       "  <tbody>\n",
       "    <tr>\n",
       "      <th>0</th>\n",
       "      <td>0</td>\n",
       "      <td>0</td>\n",
       "      <td>PAIDOFF</td>\n",
       "      <td>1000</td>\n",
       "      <td>30</td>\n",
       "      <td>2016-09-08</td>\n",
       "      <td>2016-10-07</td>\n",
       "      <td>45</td>\n",
       "      <td>High School or Below</td>\n",
       "      <td>0</td>\n",
       "      <td>3</td>\n",
       "      <td>0</td>\n",
       "    </tr>\n",
       "    <tr>\n",
       "      <th>1</th>\n",
       "      <td>2</td>\n",
       "      <td>2</td>\n",
       "      <td>PAIDOFF</td>\n",
       "      <td>1000</td>\n",
       "      <td>30</td>\n",
       "      <td>2016-09-08</td>\n",
       "      <td>2016-10-07</td>\n",
       "      <td>33</td>\n",
       "      <td>Bechalor</td>\n",
       "      <td>1</td>\n",
       "      <td>3</td>\n",
       "      <td>0</td>\n",
       "    </tr>\n",
       "    <tr>\n",
       "      <th>2</th>\n",
       "      <td>3</td>\n",
       "      <td>3</td>\n",
       "      <td>PAIDOFF</td>\n",
       "      <td>1000</td>\n",
       "      <td>15</td>\n",
       "      <td>2016-09-08</td>\n",
       "      <td>2016-09-22</td>\n",
       "      <td>27</td>\n",
       "      <td>college</td>\n",
       "      <td>0</td>\n",
       "      <td>3</td>\n",
       "      <td>0</td>\n",
       "    </tr>\n",
       "    <tr>\n",
       "      <th>3</th>\n",
       "      <td>4</td>\n",
       "      <td>4</td>\n",
       "      <td>PAIDOFF</td>\n",
       "      <td>1000</td>\n",
       "      <td>30</td>\n",
       "      <td>2016-09-09</td>\n",
       "      <td>2016-10-08</td>\n",
       "      <td>28</td>\n",
       "      <td>college</td>\n",
       "      <td>1</td>\n",
       "      <td>4</td>\n",
       "      <td>1</td>\n",
       "    </tr>\n",
       "    <tr>\n",
       "      <th>4</th>\n",
       "      <td>6</td>\n",
       "      <td>6</td>\n",
       "      <td>PAIDOFF</td>\n",
       "      <td>1000</td>\n",
       "      <td>30</td>\n",
       "      <td>2016-09-09</td>\n",
       "      <td>2016-10-08</td>\n",
       "      <td>29</td>\n",
       "      <td>college</td>\n",
       "      <td>0</td>\n",
       "      <td>4</td>\n",
       "      <td>1</td>\n",
       "    </tr>\n",
       "  </tbody>\n",
       "</table>\n",
       "</div>"
      ],
      "text/plain": [
       "   Unnamed: 0  Unnamed: 0.1 loan_status  Principal  terms effective_date  \\\n",
       "0           0             0     PAIDOFF       1000     30     2016-09-08   \n",
       "1           2             2     PAIDOFF       1000     30     2016-09-08   \n",
       "2           3             3     PAIDOFF       1000     15     2016-09-08   \n",
       "3           4             4     PAIDOFF       1000     30     2016-09-09   \n",
       "4           6             6     PAIDOFF       1000     30     2016-09-09   \n",
       "\n",
       "    due_date  age             education  Gender  dayofweek  weekend  \n",
       "0 2016-10-07   45  High School or Below       0          3        0  \n",
       "1 2016-10-07   33              Bechalor       1          3        0  \n",
       "2 2016-09-22   27               college       0          3        0  \n",
       "3 2016-10-08   28               college       1          4        1  \n",
       "4 2016-10-08   29               college       0          4        1  "
      ]
     },
     "execution_count": 13,
     "metadata": {},
     "output_type": "execute_result"
    }
   ],
   "source": [
    "df['Gender'].replace(to_replace=['male','female'], value=[0,1],inplace=True)\n",
    "df.head()"
   ]
  },
  {
   "cell_type": "markdown",
   "id": "f31e1382",
   "metadata": {
    "button": false,
    "new_sheet": false,
    "papermill": {
     "duration": 0.022255,
     "end_time": "2022-06-24T14:42:20.101991",
     "exception": false,
     "start_time": "2022-06-24T14:42:20.079736",
     "status": "completed"
    },
    "run_control": {
     "read_only": false
    },
    "tags": []
   },
   "source": [
    "## One Hot Encoding\n",
    "\n",
    "#### How about education?\n"
   ]
  },
  {
   "cell_type": "code",
   "execution_count": 14,
   "id": "6e9c49a8",
   "metadata": {
    "button": false,
    "execution": {
     "iopub.execute_input": "2022-06-24T14:42:20.148015Z",
     "iopub.status.busy": "2022-06-24T14:42:20.147123Z",
     "iopub.status.idle": "2022-06-24T14:42:20.156602Z",
     "shell.execute_reply": "2022-06-24T14:42:20.155855Z"
    },
    "new_sheet": false,
    "papermill": {
     "duration": 0.034744,
     "end_time": "2022-06-24T14:42:20.158636",
     "exception": false,
     "start_time": "2022-06-24T14:42:20.123892",
     "status": "completed"
    },
    "run_control": {
     "read_only": false
    },
    "tags": []
   },
   "outputs": [
    {
     "data": {
      "text/plain": [
       "education             loan_status\n",
       "Bechalor              PAIDOFF        0.750000\n",
       "                      COLLECTION     0.250000\n",
       "High School or Below  PAIDOFF        0.741722\n",
       "                      COLLECTION     0.258278\n",
       "Master or Above       COLLECTION     0.500000\n",
       "                      PAIDOFF        0.500000\n",
       "college               PAIDOFF        0.765101\n",
       "                      COLLECTION     0.234899\n",
       "Name: loan_status, dtype: float64"
      ]
     },
     "execution_count": 14,
     "metadata": {},
     "output_type": "execute_result"
    }
   ],
   "source": [
    "df.groupby(['education'])['loan_status'].value_counts(normalize=True)"
   ]
  },
  {
   "cell_type": "markdown",
   "id": "37aebb45",
   "metadata": {
    "button": false,
    "new_sheet": false,
    "papermill": {
     "duration": 0.022482,
     "end_time": "2022-06-24T14:42:20.204229",
     "exception": false,
     "start_time": "2022-06-24T14:42:20.181747",
     "status": "completed"
    },
    "run_control": {
     "read_only": false
    },
    "tags": []
   },
   "source": [
    "#### Features before One Hot Encoding\n"
   ]
  },
  {
   "cell_type": "code",
   "execution_count": 15,
   "id": "88d60b09",
   "metadata": {
    "button": false,
    "execution": {
     "iopub.execute_input": "2022-06-24T14:42:20.251594Z",
     "iopub.status.busy": "2022-06-24T14:42:20.250934Z",
     "iopub.status.idle": "2022-06-24T14:42:20.262481Z",
     "shell.execute_reply": "2022-06-24T14:42:20.261819Z"
    },
    "new_sheet": false,
    "papermill": {
     "duration": 0.036843,
     "end_time": "2022-06-24T14:42:20.264398",
     "exception": false,
     "start_time": "2022-06-24T14:42:20.227555",
     "status": "completed"
    },
    "run_control": {
     "read_only": false
    },
    "tags": []
   },
   "outputs": [
    {
     "data": {
      "text/html": [
       "<div>\n",
       "<style scoped>\n",
       "    .dataframe tbody tr th:only-of-type {\n",
       "        vertical-align: middle;\n",
       "    }\n",
       "\n",
       "    .dataframe tbody tr th {\n",
       "        vertical-align: top;\n",
       "    }\n",
       "\n",
       "    .dataframe thead th {\n",
       "        text-align: right;\n",
       "    }\n",
       "</style>\n",
       "<table border=\"1\" class=\"dataframe\">\n",
       "  <thead>\n",
       "    <tr style=\"text-align: right;\">\n",
       "      <th></th>\n",
       "      <th>Principal</th>\n",
       "      <th>terms</th>\n",
       "      <th>age</th>\n",
       "      <th>Gender</th>\n",
       "      <th>education</th>\n",
       "    </tr>\n",
       "  </thead>\n",
       "  <tbody>\n",
       "    <tr>\n",
       "      <th>0</th>\n",
       "      <td>1000</td>\n",
       "      <td>30</td>\n",
       "      <td>45</td>\n",
       "      <td>0</td>\n",
       "      <td>High School or Below</td>\n",
       "    </tr>\n",
       "    <tr>\n",
       "      <th>1</th>\n",
       "      <td>1000</td>\n",
       "      <td>30</td>\n",
       "      <td>33</td>\n",
       "      <td>1</td>\n",
       "      <td>Bechalor</td>\n",
       "    </tr>\n",
       "    <tr>\n",
       "      <th>2</th>\n",
       "      <td>1000</td>\n",
       "      <td>15</td>\n",
       "      <td>27</td>\n",
       "      <td>0</td>\n",
       "      <td>college</td>\n",
       "    </tr>\n",
       "    <tr>\n",
       "      <th>3</th>\n",
       "      <td>1000</td>\n",
       "      <td>30</td>\n",
       "      <td>28</td>\n",
       "      <td>1</td>\n",
       "      <td>college</td>\n",
       "    </tr>\n",
       "    <tr>\n",
       "      <th>4</th>\n",
       "      <td>1000</td>\n",
       "      <td>30</td>\n",
       "      <td>29</td>\n",
       "      <td>0</td>\n",
       "      <td>college</td>\n",
       "    </tr>\n",
       "  </tbody>\n",
       "</table>\n",
       "</div>"
      ],
      "text/plain": [
       "   Principal  terms  age  Gender             education\n",
       "0       1000     30   45       0  High School or Below\n",
       "1       1000     30   33       1              Bechalor\n",
       "2       1000     15   27       0               college\n",
       "3       1000     30   28       1               college\n",
       "4       1000     30   29       0               college"
      ]
     },
     "execution_count": 15,
     "metadata": {},
     "output_type": "execute_result"
    }
   ],
   "source": [
    "df[['Principal','terms','age','Gender','education']].head()"
   ]
  },
  {
   "cell_type": "markdown",
   "id": "81f459f4",
   "metadata": {
    "button": false,
    "new_sheet": false,
    "papermill": {
     "duration": 0.023073,
     "end_time": "2022-06-24T14:42:20.310627",
     "exception": false,
     "start_time": "2022-06-24T14:42:20.287554",
     "status": "completed"
    },
    "run_control": {
     "read_only": false
    },
    "tags": []
   },
   "source": [
    "#### Use one hot encoding technique to conver categorical varables to binary variables and append them to the feature Data Frame\n"
   ]
  },
  {
   "cell_type": "code",
   "execution_count": 16,
   "id": "abf00c39",
   "metadata": {
    "button": false,
    "execution": {
     "iopub.execute_input": "2022-06-24T14:42:20.357218Z",
     "iopub.status.busy": "2022-06-24T14:42:20.356586Z",
     "iopub.status.idle": "2022-06-24T14:42:20.372098Z",
     "shell.execute_reply": "2022-06-24T14:42:20.371394Z"
    },
    "new_sheet": false,
    "papermill": {
     "duration": 0.041074,
     "end_time": "2022-06-24T14:42:20.374095",
     "exception": false,
     "start_time": "2022-06-24T14:42:20.333021",
     "status": "completed"
    },
    "run_control": {
     "read_only": false
    },
    "tags": []
   },
   "outputs": [
    {
     "data": {
      "text/html": [
       "<div>\n",
       "<style scoped>\n",
       "    .dataframe tbody tr th:only-of-type {\n",
       "        vertical-align: middle;\n",
       "    }\n",
       "\n",
       "    .dataframe tbody tr th {\n",
       "        vertical-align: top;\n",
       "    }\n",
       "\n",
       "    .dataframe thead th {\n",
       "        text-align: right;\n",
       "    }\n",
       "</style>\n",
       "<table border=\"1\" class=\"dataframe\">\n",
       "  <thead>\n",
       "    <tr style=\"text-align: right;\">\n",
       "      <th></th>\n",
       "      <th>Principal</th>\n",
       "      <th>terms</th>\n",
       "      <th>age</th>\n",
       "      <th>Gender</th>\n",
       "      <th>weekend</th>\n",
       "      <th>Bechalor</th>\n",
       "      <th>High School or Below</th>\n",
       "      <th>college</th>\n",
       "    </tr>\n",
       "  </thead>\n",
       "  <tbody>\n",
       "    <tr>\n",
       "      <th>0</th>\n",
       "      <td>1000</td>\n",
       "      <td>30</td>\n",
       "      <td>45</td>\n",
       "      <td>0</td>\n",
       "      <td>0</td>\n",
       "      <td>0</td>\n",
       "      <td>1</td>\n",
       "      <td>0</td>\n",
       "    </tr>\n",
       "    <tr>\n",
       "      <th>1</th>\n",
       "      <td>1000</td>\n",
       "      <td>30</td>\n",
       "      <td>33</td>\n",
       "      <td>1</td>\n",
       "      <td>0</td>\n",
       "      <td>1</td>\n",
       "      <td>0</td>\n",
       "      <td>0</td>\n",
       "    </tr>\n",
       "    <tr>\n",
       "      <th>2</th>\n",
       "      <td>1000</td>\n",
       "      <td>15</td>\n",
       "      <td>27</td>\n",
       "      <td>0</td>\n",
       "      <td>0</td>\n",
       "      <td>0</td>\n",
       "      <td>0</td>\n",
       "      <td>1</td>\n",
       "    </tr>\n",
       "    <tr>\n",
       "      <th>3</th>\n",
       "      <td>1000</td>\n",
       "      <td>30</td>\n",
       "      <td>28</td>\n",
       "      <td>1</td>\n",
       "      <td>1</td>\n",
       "      <td>0</td>\n",
       "      <td>0</td>\n",
       "      <td>1</td>\n",
       "    </tr>\n",
       "    <tr>\n",
       "      <th>4</th>\n",
       "      <td>1000</td>\n",
       "      <td>30</td>\n",
       "      <td>29</td>\n",
       "      <td>0</td>\n",
       "      <td>1</td>\n",
       "      <td>0</td>\n",
       "      <td>0</td>\n",
       "      <td>1</td>\n",
       "    </tr>\n",
       "  </tbody>\n",
       "</table>\n",
       "</div>"
      ],
      "text/plain": [
       "   Principal  terms  age  Gender  weekend  Bechalor  High School or Below  \\\n",
       "0       1000     30   45       0        0         0                     1   \n",
       "1       1000     30   33       1        0         1                     0   \n",
       "2       1000     15   27       0        0         0                     0   \n",
       "3       1000     30   28       1        1         0                     0   \n",
       "4       1000     30   29       0        1         0                     0   \n",
       "\n",
       "   college  \n",
       "0        0  \n",
       "1        0  \n",
       "2        1  \n",
       "3        1  \n",
       "4        1  "
      ]
     },
     "execution_count": 16,
     "metadata": {},
     "output_type": "execute_result"
    }
   ],
   "source": [
    "Feature = df[['Principal','terms','age','Gender','weekend']]\n",
    "Feature = pd.concat([Feature,pd.get_dummies(df['education'])], axis=1)\n",
    "Feature.drop(['Master or Above'], axis = 1,inplace=True)\n",
    "Feature.head()"
   ]
  },
  {
   "cell_type": "markdown",
   "id": "eb18bb03",
   "metadata": {
    "button": false,
    "new_sheet": false,
    "papermill": {
     "duration": 0.022486,
     "end_time": "2022-06-24T14:42:20.420289",
     "exception": false,
     "start_time": "2022-06-24T14:42:20.397803",
     "status": "completed"
    },
    "run_control": {
     "read_only": false
    },
    "tags": []
   },
   "source": [
    "### Feature Selection\n"
   ]
  },
  {
   "cell_type": "markdown",
   "id": "bfba5799",
   "metadata": {
    "button": false,
    "new_sheet": false,
    "papermill": {
     "duration": 0.022446,
     "end_time": "2022-06-24T14:42:20.465495",
     "exception": false,
     "start_time": "2022-06-24T14:42:20.443049",
     "status": "completed"
    },
    "run_control": {
     "read_only": false
    },
    "tags": []
   },
   "source": [
    "Let's define feature sets, X:\n"
   ]
  },
  {
   "cell_type": "code",
   "execution_count": 17,
   "id": "9fd04b44",
   "metadata": {
    "button": false,
    "execution": {
     "iopub.execute_input": "2022-06-24T14:42:20.512841Z",
     "iopub.status.busy": "2022-06-24T14:42:20.512107Z",
     "iopub.status.idle": "2022-06-24T14:42:20.523066Z",
     "shell.execute_reply": "2022-06-24T14:42:20.522263Z"
    },
    "new_sheet": false,
    "papermill": {
     "duration": 0.036882,
     "end_time": "2022-06-24T14:42:20.524957",
     "exception": false,
     "start_time": "2022-06-24T14:42:20.488075",
     "status": "completed"
    },
    "run_control": {
     "read_only": false
    },
    "tags": []
   },
   "outputs": [
    {
     "data": {
      "text/html": [
       "<div>\n",
       "<style scoped>\n",
       "    .dataframe tbody tr th:only-of-type {\n",
       "        vertical-align: middle;\n",
       "    }\n",
       "\n",
       "    .dataframe tbody tr th {\n",
       "        vertical-align: top;\n",
       "    }\n",
       "\n",
       "    .dataframe thead th {\n",
       "        text-align: right;\n",
       "    }\n",
       "</style>\n",
       "<table border=\"1\" class=\"dataframe\">\n",
       "  <thead>\n",
       "    <tr style=\"text-align: right;\">\n",
       "      <th></th>\n",
       "      <th>Principal</th>\n",
       "      <th>terms</th>\n",
       "      <th>age</th>\n",
       "      <th>Gender</th>\n",
       "      <th>weekend</th>\n",
       "      <th>Bechalor</th>\n",
       "      <th>High School or Below</th>\n",
       "      <th>college</th>\n",
       "    </tr>\n",
       "  </thead>\n",
       "  <tbody>\n",
       "    <tr>\n",
       "      <th>0</th>\n",
       "      <td>1000</td>\n",
       "      <td>30</td>\n",
       "      <td>45</td>\n",
       "      <td>0</td>\n",
       "      <td>0</td>\n",
       "      <td>0</td>\n",
       "      <td>1</td>\n",
       "      <td>0</td>\n",
       "    </tr>\n",
       "    <tr>\n",
       "      <th>1</th>\n",
       "      <td>1000</td>\n",
       "      <td>30</td>\n",
       "      <td>33</td>\n",
       "      <td>1</td>\n",
       "      <td>0</td>\n",
       "      <td>1</td>\n",
       "      <td>0</td>\n",
       "      <td>0</td>\n",
       "    </tr>\n",
       "    <tr>\n",
       "      <th>2</th>\n",
       "      <td>1000</td>\n",
       "      <td>15</td>\n",
       "      <td>27</td>\n",
       "      <td>0</td>\n",
       "      <td>0</td>\n",
       "      <td>0</td>\n",
       "      <td>0</td>\n",
       "      <td>1</td>\n",
       "    </tr>\n",
       "    <tr>\n",
       "      <th>3</th>\n",
       "      <td>1000</td>\n",
       "      <td>30</td>\n",
       "      <td>28</td>\n",
       "      <td>1</td>\n",
       "      <td>1</td>\n",
       "      <td>0</td>\n",
       "      <td>0</td>\n",
       "      <td>1</td>\n",
       "    </tr>\n",
       "    <tr>\n",
       "      <th>4</th>\n",
       "      <td>1000</td>\n",
       "      <td>30</td>\n",
       "      <td>29</td>\n",
       "      <td>0</td>\n",
       "      <td>1</td>\n",
       "      <td>0</td>\n",
       "      <td>0</td>\n",
       "      <td>1</td>\n",
       "    </tr>\n",
       "  </tbody>\n",
       "</table>\n",
       "</div>"
      ],
      "text/plain": [
       "   Principal  terms  age  Gender  weekend  Bechalor  High School or Below  \\\n",
       "0       1000     30   45       0        0         0                     1   \n",
       "1       1000     30   33       1        0         1                     0   \n",
       "2       1000     15   27       0        0         0                     0   \n",
       "3       1000     30   28       1        1         0                     0   \n",
       "4       1000     30   29       0        1         0                     0   \n",
       "\n",
       "   college  \n",
       "0        0  \n",
       "1        0  \n",
       "2        1  \n",
       "3        1  \n",
       "4        1  "
      ]
     },
     "execution_count": 17,
     "metadata": {},
     "output_type": "execute_result"
    }
   ],
   "source": [
    "X = Feature\n",
    "X[0:5]"
   ]
  },
  {
   "cell_type": "markdown",
   "id": "8453c186",
   "metadata": {
    "button": false,
    "new_sheet": false,
    "papermill": {
     "duration": 0.023674,
     "end_time": "2022-06-24T14:42:20.571653",
     "exception": false,
     "start_time": "2022-06-24T14:42:20.547979",
     "status": "completed"
    },
    "run_control": {
     "read_only": false
    },
    "tags": []
   },
   "source": [
    "What are our lables?\n"
   ]
  },
  {
   "cell_type": "code",
   "execution_count": 18,
   "id": "67f9399e",
   "metadata": {
    "button": false,
    "execution": {
     "iopub.execute_input": "2022-06-24T14:42:20.621525Z",
     "iopub.status.busy": "2022-06-24T14:42:20.620388Z",
     "iopub.status.idle": "2022-06-24T14:42:20.627360Z",
     "shell.execute_reply": "2022-06-24T14:42:20.626704Z"
    },
    "new_sheet": false,
    "papermill": {
     "duration": 0.033639,
     "end_time": "2022-06-24T14:42:20.629264",
     "exception": false,
     "start_time": "2022-06-24T14:42:20.595625",
     "status": "completed"
    },
    "run_control": {
     "read_only": false
    },
    "tags": []
   },
   "outputs": [
    {
     "data": {
      "text/plain": [
       "array(['PAIDOFF', 'PAIDOFF', 'PAIDOFF', 'PAIDOFF', 'PAIDOFF'],\n",
       "      dtype=object)"
      ]
     },
     "execution_count": 18,
     "metadata": {},
     "output_type": "execute_result"
    }
   ],
   "source": [
    "y = df['loan_status'].values\n",
    "y[0:5]"
   ]
  },
  {
   "cell_type": "markdown",
   "id": "fe91b9c8",
   "metadata": {
    "button": false,
    "new_sheet": false,
    "papermill": {
     "duration": 0.022596,
     "end_time": "2022-06-24T14:42:20.675044",
     "exception": false,
     "start_time": "2022-06-24T14:42:20.652448",
     "status": "completed"
    },
    "run_control": {
     "read_only": false
    },
    "tags": []
   },
   "source": [
    "## Normalize Data\n"
   ]
  },
  {
   "cell_type": "markdown",
   "id": "e89d0645",
   "metadata": {
    "button": false,
    "new_sheet": false,
    "papermill": {
     "duration": 0.022721,
     "end_time": "2022-06-24T14:42:20.720735",
     "exception": false,
     "start_time": "2022-06-24T14:42:20.698014",
     "status": "completed"
    },
    "run_control": {
     "read_only": false
    },
    "tags": []
   },
   "source": [
    "Data Standardization give data zero mean and unit variance (technically should be done after train test split)\n"
   ]
  },
  {
   "cell_type": "code",
   "execution_count": 19,
   "id": "29f21605",
   "metadata": {
    "button": false,
    "execution": {
     "iopub.execute_input": "2022-06-24T14:42:20.768768Z",
     "iopub.status.busy": "2022-06-24T14:42:20.767868Z",
     "iopub.status.idle": "2022-06-24T14:42:20.779622Z",
     "shell.execute_reply": "2022-06-24T14:42:20.778736Z"
    },
    "new_sheet": false,
    "papermill": {
     "duration": 0.038308,
     "end_time": "2022-06-24T14:42:20.781930",
     "exception": false,
     "start_time": "2022-06-24T14:42:20.743622",
     "status": "completed"
    },
    "run_control": {
     "read_only": false
    },
    "tags": []
   },
   "outputs": [
    {
     "data": {
      "text/plain": [
       "array([[ 0.51578458,  0.92071769,  2.33152555, -0.42056004, -1.20577805,\n",
       "        -0.38170062,  1.13639374, -0.86968108],\n",
       "       [ 0.51578458,  0.92071769,  0.34170148,  2.37778177, -1.20577805,\n",
       "         2.61985426, -0.87997669, -0.86968108],\n",
       "       [ 0.51578458, -0.95911111, -0.65321055, -0.42056004, -1.20577805,\n",
       "        -0.38170062, -0.87997669,  1.14984679],\n",
       "       [ 0.51578458,  0.92071769, -0.48739188,  2.37778177,  0.82934003,\n",
       "        -0.38170062, -0.87997669,  1.14984679],\n",
       "       [ 0.51578458,  0.92071769, -0.3215732 , -0.42056004,  0.82934003,\n",
       "        -0.38170062, -0.87997669,  1.14984679]])"
      ]
     },
     "execution_count": 19,
     "metadata": {},
     "output_type": "execute_result"
    }
   ],
   "source": [
    "X= preprocessing.StandardScaler().fit(X).transform(X)\n",
    "X[0:5]"
   ]
  },
  {
   "cell_type": "markdown",
   "id": "ac0c71f5",
   "metadata": {
    "button": false,
    "new_sheet": false,
    "papermill": {
     "duration": 0.02423,
     "end_time": "2022-06-24T14:42:20.830486",
     "exception": false,
     "start_time": "2022-06-24T14:42:20.806256",
     "status": "completed"
    },
    "run_control": {
     "read_only": false
    },
    "tags": []
   },
   "source": [
    "# Classification\n"
   ]
  },
  {
   "cell_type": "markdown",
   "id": "846513b2",
   "metadata": {
    "button": false,
    "new_sheet": false,
    "papermill": {
     "duration": 0.023387,
     "end_time": "2022-06-24T14:42:20.877919",
     "exception": false,
     "start_time": "2022-06-24T14:42:20.854532",
     "status": "completed"
    },
    "run_control": {
     "read_only": false
    },
    "tags": []
   },
   "source": [
    "Now, it is your turn, use the training set to build an accurate model. Then use the test set to report the accuracy of the model\n",
    "You should use the following algorithm:\n",
    "\n",
    "*   K Nearest Neighbor(KNN)\n",
    "*   Decision Tree\n",
    "*   Support Vector Machine\n",
    "*   Logistic Regression\n",
    "\n",
    "\\__ Notice:\\__\n",
    "\n",
    "*   You can go above and change the pre-processing, feature selection, feature-extraction, and so on, to make a better model.\n",
    "*   You should use either scikit-learn, Scipy or Numpy libraries for developing the classification algorithms.\n",
    "*   You should include the code of the algorithm in the following cells.\n"
   ]
  },
  {
   "cell_type": "markdown",
   "id": "9114abf1",
   "metadata": {
    "papermill": {
     "duration": 0.023617,
     "end_time": "2022-06-24T14:42:20.925534",
     "exception": false,
     "start_time": "2022-06-24T14:42:20.901917",
     "status": "completed"
    },
    "tags": []
   },
   "source": [
    "# K Nearest Neighbor(KNN)\n",
    "\n",
    "Notice: You should find the best k to build the model with the best accuracy.\\\n",
    "**warning:** You should not use the **loan_test.csv** for finding the best k, however, you can split your train_loan.csv into train and test to find the best **k**.\n"
   ]
  },
  {
   "cell_type": "code",
   "execution_count": 20,
   "id": "5e5ed8bd",
   "metadata": {
    "execution": {
     "iopub.execute_input": "2022-06-24T14:42:20.973922Z",
     "iopub.status.busy": "2022-06-24T14:42:20.973293Z",
     "iopub.status.idle": "2022-06-24T14:42:20.979880Z",
     "shell.execute_reply": "2022-06-24T14:42:20.979016Z"
    },
    "papermill": {
     "duration": 0.033598,
     "end_time": "2022-06-24T14:42:20.982530",
     "exception": false,
     "start_time": "2022-06-24T14:42:20.948932",
     "status": "completed"
    },
    "tags": []
   },
   "outputs": [
    {
     "name": "stdout",
     "output_type": "stream",
     "text": [
      "Train set: (276, 8) (276,)\n",
      "Test set: (70, 8) (70,)\n"
     ]
    }
   ],
   "source": [
    "# Split into train and test\n",
    "X_train, X_test, y_train, y_test = train_test_split( X, y, test_size=0.2, random_state=4)\n",
    "print ('Train set:', X_train.shape,  y_train.shape)\n",
    "print ('Test set:', X_test.shape,  y_test.shape)"
   ]
  },
  {
   "cell_type": "code",
   "execution_count": 21,
   "id": "c2febdc3",
   "metadata": {
    "execution": {
     "iopub.execute_input": "2022-06-24T14:42:21.033669Z",
     "iopub.status.busy": "2022-06-24T14:42:21.033014Z",
     "iopub.status.idle": "2022-06-24T14:42:21.320873Z",
     "shell.execute_reply": "2022-06-24T14:42:21.320205Z"
    },
    "papermill": {
     "duration": 0.315739,
     "end_time": "2022-06-24T14:42:21.322737",
     "exception": false,
     "start_time": "2022-06-24T14:42:21.006998",
     "status": "completed"
    },
    "tags": []
   },
   "outputs": [
    {
     "data": {
      "image/png": "[encoded data removed]",
      "text/plain": [
       "<Figure size 432x288 with 1 Axes>"
      ]
     },
     "metadata": {
      "needs_background": "light"
     },
     "output_type": "display_data"
    }
   ],
   "source": [
    "# Finding best K\n",
    "Ks = 10\n",
    "mean_acc = np.zeros((Ks-1))\n",
    "f1_scores = np.zeros((Ks-1))\n",
    "jaccard_scores = np.zeros((Ks-1))\n",
    "\n",
    "for n in range(1,Ks):   \n",
    "    #Train Model and Predict  \n",
    "    neigh = KNeighborsClassifier(n_neighbors = n).fit(X_train,y_train)\n",
    "    yhat=neigh.predict(X_test)\n",
    "    mean_acc[n-1] = metrics.accuracy_score(y_test, yhat)\n",
    "    f1_scores[n-1] = f1_score(y_test, yhat, average=\"weighted\")\n",
    "    jaccard_scores[n-1] = jaccard_score(y_test, yhat, pos_label='PAIDOFF')\n",
    "\n",
    "plt.plot(range(1,Ks),mean_acc,'g')\n",
    "plt.plot(range(1,Ks),f1_scores,'r')\n",
    "plt.plot(range(1,Ks),jaccard_scores,'b')\n",
    "plt.legend(['Accuracy','F1 Score', 'Jaccard Score'])\n",
    "plt.ylabel('Score ')\n",
    "plt.xlabel('Number of Neighbors (K)')\n",
    "plt.show()"
   ]
  },
  {
   "cell_type": "code",
   "execution_count": 22,
   "id": "dbe0d895",
   "metadata": {
    "execution": {
     "iopub.execute_input": "2022-06-24T14:42:21.376710Z",
     "iopub.status.busy": "2022-06-24T14:42:21.375969Z",
     "iopub.status.idle": "2022-06-24T14:42:21.385330Z",
     "shell.execute_reply": "2022-06-24T14:42:21.384385Z"
    },
    "papermill": {
     "duration": 0.040958,
     "end_time": "2022-06-24T14:42:21.388540",
     "exception": false,
     "start_time": "2022-06-24T14:42:21.347582",
     "status": "completed"
    },
    "tags": []
   },
   "outputs": [
    {
     "name": "stdout",
     "output_type": "stream",
     "text": [
      "The best Accuracy was 0.8 with k= 7\n",
      "The best F1 Score was 0.8 with k= 7\n",
      "The best Jaccard Score was 0.7741935483870968 with k= 7\n"
     ]
    }
   ],
   "source": [
    "# Get scores results\n",
    "print(\"The best Accuracy was\", mean_acc.max(), \"with k=\", mean_acc.argmax()+1) \n",
    "print(\"The best F1 Score was\", f1_scores.max(), \"with k=\", f1_scores.argmax()+1) \n",
    "print(\"The best Jaccard Score was\", jaccard_scores.max(), \"with k=\", jaccard_scores.argmax()+1)"
   ]
  },
  {
   "cell_type": "code",
   "execution_count": 23,
   "id": "fe5890ce",
   "metadata": {
    "execution": {
     "iopub.execute_input": "2022-06-24T14:42:21.439599Z",
     "iopub.status.busy": "2022-06-24T14:42:21.438763Z",
     "iopub.status.idle": "2022-06-24T14:42:21.454483Z",
     "shell.execute_reply": "2022-06-24T14:42:21.453516Z"
    },
    "papermill": {
     "duration": 0.043989,
     "end_time": "2022-06-24T14:42:21.457421",
     "exception": false,
     "start_time": "2022-06-24T14:42:21.413432",
     "status": "completed"
    },
    "tags": []
   },
   "outputs": [
    {
     "name": "stdout",
     "output_type": "stream",
     "text": [
      "KNN's Accuracy:  0.8\n",
      "KNN's F1 Score:  0.8\n",
      "KNN's Jaccard Score:  0.7741935483870968\n"
     ]
    }
   ],
   "source": [
    "# Train and predict with the best k = 7\n",
    "knnc = KNeighborsClassifier(n_neighbors = 7).fit(X_train,y_train)\n",
    "y_pred = knnc.predict(X_test)\n",
    "\n",
    "# Get Scores \n",
    "knnc_accuracy = metrics.accuracy_score(y_test, y_pred)\n",
    "knnc_f1_score = f1_score(y_test, y_pred, average=\"weighted\")\n",
    "kncc_jaccard_score = jaccard_score(y_test, y_pred, pos_label='PAIDOFF')\n",
    "\n",
    "print(\"KNN's Accuracy: \", knnc_accuracy)\n",
    "print(\"KNN's F1 Score: \", knnc_f1_score)\n",
    "print(\"KNN's Jaccard Score: \", kncc_jaccard_score)"
   ]
  },
  {
   "cell_type": "markdown",
   "id": "f6373360",
   "metadata": {
    "papermill": {
     "duration": 0.023876,
     "end_time": "2022-06-24T14:42:21.507526",
     "exception": false,
     "start_time": "2022-06-24T14:42:21.483650",
     "status": "completed"
    },
    "tags": []
   },
   "source": [
    "# Decision Tree\n"
   ]
  },
  {
   "cell_type": "code",
   "execution_count": 24,
   "id": "e522b876",
   "metadata": {
    "execution": {
     "iopub.execute_input": "2022-06-24T14:42:21.557867Z",
     "iopub.status.busy": "2022-06-24T14:42:21.557248Z",
     "iopub.status.idle": "2022-06-24T14:42:21.561769Z",
     "shell.execute_reply": "2022-06-24T14:42:21.561000Z"
    },
    "papermill": {
     "duration": 0.031874,
     "end_time": "2022-06-24T14:42:21.563638",
     "exception": false,
     "start_time": "2022-06-24T14:42:21.531764",
     "status": "completed"
    },
    "tags": []
   },
   "outputs": [],
   "source": [
    "# Define the model\n",
    "tree = DecisionTreeClassifier(max_depth = 6)"
   ]
  },
  {
   "cell_type": "code",
   "execution_count": 25,
   "id": "2cf7f54f",
   "metadata": {
    "execution": {
     "iopub.execute_input": "2022-06-24T14:42:21.613774Z",
     "iopub.status.busy": "2022-06-24T14:42:21.612932Z",
     "iopub.status.idle": "2022-06-24T14:42:21.620691Z",
     "shell.execute_reply": "2022-06-24T14:42:21.619997Z"
    },
    "papermill": {
     "duration": 0.034848,
     "end_time": "2022-06-24T14:42:21.622770",
     "exception": false,
     "start_time": "2022-06-24T14:42:21.587922",
     "status": "completed"
    },
    "tags": []
   },
   "outputs": [],
   "source": [
    "# Train the model\n",
    "tree.fit(X_train,y_train)\n",
    "y_pred = tree.predict(X_test)"
   ]
  },
  {
   "cell_type": "code",
   "execution_count": 26,
   "id": "32f607b2",
   "metadata": {
    "execution": {
     "iopub.execute_input": "2022-06-24T14:42:21.672834Z",
     "iopub.status.busy": "2022-06-24T14:42:21.672241Z",
     "iopub.status.idle": "2022-06-24T14:42:21.682376Z",
     "shell.execute_reply": "2022-06-24T14:42:21.680962Z"
    },
    "papermill": {
     "duration": 0.03809,
     "end_time": "2022-06-24T14:42:21.684869",
     "exception": false,
     "start_time": "2022-06-24T14:42:21.646779",
     "status": "completed"
    },
    "tags": []
   },
   "outputs": [
    {
     "name": "stdout",
     "output_type": "stream",
     "text": [
      "Tree's Accuracy:  0.7714285714285715\n",
      "Tree's F1 Score:  0.7238095238095238\n",
      "Tree's Jaccard Score:  0.7647058823529411\n"
     ]
    }
   ],
   "source": [
    "# Get Scores\n",
    "tree_accuracy = metrics.accuracy_score(y_test, y_pred)\n",
    "tree_f1_score = f1_score(y_test, y_pred, average=\"weighted\")\n",
    "tree_jaccard_score = jaccard_score(y_test, y_pred, pos_label='PAIDOFF')\n",
    "\n",
    "# Print Scores\n",
    "print(\"Tree's Accuracy: \", tree_accuracy)\n",
    "print(\"Tree's F1 Score: \", tree_f1_score)\n",
    "print(\"Tree's Jaccard Score: \", tree_jaccard_score)"
   ]
  },
  {
   "cell_type": "markdown",
   "id": "730373b2",
   "metadata": {
    "papermill": {
     "duration": 0.023631,
     "end_time": "2022-06-24T14:42:21.732622",
     "exception": false,
     "start_time": "2022-06-24T14:42:21.708991",
     "status": "completed"
    },
    "tags": []
   },
   "source": [
    "# Support Vector Machine\n"
   ]
  },
  {
   "cell_type": "code",
   "execution_count": 27,
   "id": "9ce54cf9",
   "metadata": {
    "execution": {
     "iopub.execute_input": "2022-06-24T14:42:21.784622Z",
     "iopub.status.busy": "2022-06-24T14:42:21.783914Z",
     "iopub.status.idle": "2022-06-24T14:42:21.788332Z",
     "shell.execute_reply": "2022-06-24T14:42:21.787687Z"
    },
    "papermill": {
     "duration": 0.032666,
     "end_time": "2022-06-24T14:42:21.790223",
     "exception": false,
     "start_time": "2022-06-24T14:42:21.757557",
     "status": "completed"
    },
    "tags": []
   },
   "outputs": [],
   "source": [
    "# Define the model\n",
    "svmc = svm.SVC(kernel='rbf')"
   ]
  },
  {
   "cell_type": "code",
   "execution_count": 28,
   "id": "f1808a74",
   "metadata": {
    "execution": {
     "iopub.execute_input": "2022-06-24T14:42:21.839895Z",
     "iopub.status.busy": "2022-06-24T14:42:21.839463Z",
     "iopub.status.idle": "2022-06-24T14:42:21.849240Z",
     "shell.execute_reply": "2022-06-24T14:42:21.848394Z"
    },
    "papermill": {
     "duration": 0.037149,
     "end_time": "2022-06-24T14:42:21.851378",
     "exception": false,
     "start_time": "2022-06-24T14:42:21.814229",
     "status": "completed"
    },
    "tags": []
   },
   "outputs": [],
   "source": [
    "# Train and predict\n",
    "svmc.fit(X_train, y_train) \n",
    "y_pred = svmc.predict(X_test)"
   ]
  },
  {
   "cell_type": "code",
   "execution_count": 29,
   "id": "06a56995",
   "metadata": {
    "execution": {
     "iopub.execute_input": "2022-06-24T14:42:21.903213Z",
     "iopub.status.busy": "2022-06-24T14:42:21.902834Z",
     "iopub.status.idle": "2022-06-24T14:42:21.913998Z",
     "shell.execute_reply": "2022-06-24T14:42:21.912394Z"
    },
    "papermill": {
     "duration": 0.040897,
     "end_time": "2022-06-24T14:42:21.916863",
     "exception": false,
     "start_time": "2022-06-24T14:42:21.875966",
     "status": "completed"
    },
    "tags": []
   },
   "outputs": [
    {
     "name": "stdout",
     "output_type": "stream",
     "text": [
      "SVMc's Accuracy:  0.7428571428571429\n",
      "SVMc's F1 Score:  0.7275882012724117\n",
      "SVMc's Jaccard Score:  0.7272727272727273\n"
     ]
    }
   ],
   "source": [
    "# Scores\n",
    "svm_accuracy = metrics.accuracy_score(y_test, y_pred)\n",
    "svm_f1_score = f1_score(y_test, y_pred, average=\"weighted\")\n",
    "svm_jaccard_score = jaccard_score(y_test, y_pred, pos_label='PAIDOFF')\n",
    "\n",
    "# Print Scores\n",
    "print(\"SVMc's Accuracy: \", svm_accuracy)\n",
    "print(\"SVMc's F1 Score: \", svm_f1_score)\n",
    "print(\"SVMc's Jaccard Score: \", svm_jaccard_score)\n"
   ]
  },
  {
   "cell_type": "markdown",
   "id": "d7a4994c",
   "metadata": {
    "papermill": {
     "duration": 0.024102,
     "end_time": "2022-06-24T14:42:21.967509",
     "exception": false,
     "start_time": "2022-06-24T14:42:21.943407",
     "status": "completed"
    },
    "tags": []
   },
   "source": [
    "# Logistic Regression\n"
   ]
  },
  {
   "cell_type": "code",
   "execution_count": 30,
   "id": "a2b0b58f",
   "metadata": {
    "execution": {
     "iopub.execute_input": "2022-06-24T14:42:22.018482Z",
     "iopub.status.busy": "2022-06-24T14:42:22.018043Z",
     "iopub.status.idle": "2022-06-24T14:42:22.033508Z",
     "shell.execute_reply": "2022-06-24T14:42:22.032446Z"
    },
    "papermill": {
     "duration": 0.043759,
     "end_time": "2022-06-24T14:42:22.035542",
     "exception": false,
     "start_time": "2022-06-24T14:42:21.991783",
     "status": "completed"
    },
    "tags": []
   },
   "outputs": [],
   "source": [
    "lr = LogisticRegression(C=0.01).fit(X_train,y_train)"
   ]
  },
  {
   "cell_type": "code",
   "execution_count": 31,
   "id": "21df6c05",
   "metadata": {
    "execution": {
     "iopub.execute_input": "2022-06-24T14:42:22.085945Z",
     "iopub.status.busy": "2022-06-24T14:42:22.085536Z",
     "iopub.status.idle": "2022-06-24T14:42:22.091214Z",
     "shell.execute_reply": "2022-06-24T14:42:22.090140Z"
    },
    "papermill": {
     "duration": 0.033216,
     "end_time": "2022-06-24T14:42:22.093242",
     "exception": false,
     "start_time": "2022-06-24T14:42:22.060026",
     "status": "completed"
    },
    "tags": []
   },
   "outputs": [],
   "source": [
    "y_pred = lr.predict(X_test)\n",
    "y_pred_log_prob = lr.predict_proba(X_test)"
   ]
  },
  {
   "cell_type": "code",
   "execution_count": 32,
   "id": "dec34a0b",
   "metadata": {
    "execution": {
     "iopub.execute_input": "2022-06-24T14:42:22.144060Z",
     "iopub.status.busy": "2022-06-24T14:42:22.143578Z",
     "iopub.status.idle": "2022-06-24T14:42:22.156968Z",
     "shell.execute_reply": "2022-06-24T14:42:22.155977Z"
    },
    "papermill": {
     "duration": 0.041928,
     "end_time": "2022-06-24T14:42:22.159848",
     "exception": false,
     "start_time": "2022-06-24T14:42:22.117920",
     "status": "completed"
    },
    "tags": []
   },
   "outputs": [
    {
     "name": "stdout",
     "output_type": "stream",
     "text": [
      "Logistic's Accuracy:  0.7857142857142857\n",
      "Logistic's F1 Score:  0.6914285714285714\n",
      "Logistic's Jaccard Score:  0.7857142857142857\n",
      "Logistic's Log Loss:  0.4920179847937498\n"
     ]
    }
   ],
   "source": [
    "# Scores\n",
    "lg_accuracy = metrics.accuracy_score(y_test, y_pred)\n",
    "lg_f1_score = f1_score(y_test, y_pred, average=\"weighted\")\n",
    "lg_jaccard_score = jaccard_score(y_test, y_pred, pos_label='PAIDOFF')\n",
    "lg_log_loss = log_loss(y_test, y_pred_log_prob) \n",
    "\n",
    "# Print Scores\n",
    "print(\"Logistic's Accuracy: \", lg_accuracy)\n",
    "print(\"Logistic's F1 Score: \", lg_f1_score)\n",
    "print(\"Logistic's Jaccard Score: \", lg_jaccard_score)\n",
    "print(\"Logistic's Log Loss: \", lg_log_loss)"
   ]
  },
  {
   "cell_type": "code",
   "execution_count": 33,
   "id": "73c98579",
   "metadata": {
    "execution": {
     "iopub.execute_input": "2022-06-24T14:42:22.212217Z",
     "iopub.status.busy": "2022-06-24T14:42:22.211817Z",
     "iopub.status.idle": "2022-06-24T14:42:22.225982Z",
     "shell.execute_reply": "2022-06-24T14:42:22.225306Z"
    },
    "papermill": {
     "duration": 0.041647,
     "end_time": "2022-06-24T14:42:22.227671",
     "exception": false,
     "start_time": "2022-06-24T14:42:22.186024",
     "status": "completed"
    },
    "tags": []
   },
   "outputs": [
    {
     "data": {
      "text/html": [
       "<div>\n",
       "<style scoped>\n",
       "    .dataframe tbody tr th:only-of-type {\n",
       "        vertical-align: middle;\n",
       "    }\n",
       "\n",
       "    .dataframe tbody tr th {\n",
       "        vertical-align: top;\n",
       "    }\n",
       "\n",
       "    .dataframe thead th {\n",
       "        text-align: right;\n",
       "    }\n",
       "</style>\n",
       "<table border=\"1\" class=\"dataframe\">\n",
       "  <thead>\n",
       "    <tr style=\"text-align: right;\">\n",
       "      <th></th>\n",
       "      <th>Jaccard</th>\n",
       "      <th>F1-Score</th>\n",
       "      <th>LogLoss</th>\n",
       "    </tr>\n",
       "    <tr>\n",
       "      <th>Algorithm</th>\n",
       "      <th></th>\n",
       "      <th></th>\n",
       "      <th></th>\n",
       "    </tr>\n",
       "  </thead>\n",
       "  <tbody>\n",
       "    <tr>\n",
       "      <th>KNN</th>\n",
       "      <td>0.774194</td>\n",
       "      <td>0.800000</td>\n",
       "      <td>NaN</td>\n",
       "    </tr>\n",
       "    <tr>\n",
       "      <th>Decision Tree</th>\n",
       "      <td>0.764706</td>\n",
       "      <td>0.723810</td>\n",
       "      <td>NaN</td>\n",
       "    </tr>\n",
       "    <tr>\n",
       "      <th>SVM</th>\n",
       "      <td>0.727273</td>\n",
       "      <td>0.727588</td>\n",
       "      <td>NaN</td>\n",
       "    </tr>\n",
       "    <tr>\n",
       "      <th>LogisticRegression</th>\n",
       "      <td>0.785714</td>\n",
       "      <td>0.691429</td>\n",
       "      <td>0.492018</td>\n",
       "    </tr>\n",
       "  </tbody>\n",
       "</table>\n",
       "</div>"
      ],
      "text/plain": [
       "                     Jaccard  F1-Score   LogLoss\n",
       "Algorithm                                       \n",
       "KNN                 0.774194  0.800000       NaN\n",
       "Decision Tree       0.764706  0.723810       NaN\n",
       "SVM                 0.727273  0.727588       NaN\n",
       "LogisticRegression  0.785714  0.691429  0.492018"
      ]
     },
     "execution_count": 33,
     "metadata": {},
     "output_type": "execute_result"
    }
   ],
   "source": [
    "# Print Scores results for train_ test_ split\n",
    "jaccard_scores = [kncc_jaccard_score, tree_jaccard_score,svm_jaccard_score, lg_jaccard_score]\n",
    "f1_scores = [knnc_f1_score , tree_f1_score ,svm_f1_score , lg_f1_score]\n",
    "log_loss_scores = [None, None, None, lg_log_loss]\n",
    "\n",
    "pd.DataFrame({'Algorithm':['KNN', 'Decision Tree', 'SVM', 'LogisticRegression'],\n",
    "              'Jaccard':jaccard_scores,\n",
    "              'F1-Score':f1_scores,\n",
    "              'LogLoss':log_loss_scores}).set_index('Algorithm')"
   ]
  },
  {
   "cell_type": "markdown",
   "id": "0850c0e9",
   "metadata": {
    "papermill": {
     "duration": 0.025049,
     "end_time": "2022-06-24T14:42:22.277001",
     "exception": false,
     "start_time": "2022-06-24T14:42:22.251952",
     "status": "completed"
    },
    "tags": []
   },
   "source": [
    "# Model Evaluation using Test set\n"
   ]
  },
  {
   "cell_type": "markdown",
   "id": "8441afa6",
   "metadata": {
    "papermill": {
     "duration": 0.024991,
     "end_time": "2022-06-24T14:42:22.326460",
     "exception": false,
     "start_time": "2022-06-24T14:42:22.301469",
     "status": "completed"
    },
    "tags": []
   },
   "source": [
    "First, download and load the test set:\n"
   ]
  },
  {
   "cell_type": "code",
   "execution_count": 34,
   "id": "2ea88b51",
   "metadata": {
    "execution": {
     "iopub.execute_input": "2022-06-24T14:42:22.376860Z",
     "iopub.status.busy": "2022-06-24T14:42:22.376442Z",
     "iopub.status.idle": "2022-06-24T14:42:23.878193Z",
     "shell.execute_reply": "2022-06-24T14:42:23.877048Z"
    },
    "papermill": {
     "duration": 1.529957,
     "end_time": "2022-06-24T14:42:23.880714",
     "exception": false,
     "start_time": "2022-06-24T14:42:22.350757",
     "status": "completed"
    },
    "tags": []
   },
   "outputs": [
    {
     "name": "stdout",
     "output_type": "stream",
     "text": [
      "--2022-06-24 14:42:23--  https://s3-api.us-geo.objectstorage.softlayer.net/cf-courses-data/CognitiveClass/ML0101ENv3/labs/loan_test.csv\r\n",
      "Resolving s3-api.us-geo.objectstorage.softlayer.net (s3-api.us-geo.objectstorage.softlayer.net)... 67.228.254.196\r\n",
      "Connecting to s3-api.us-geo.objectstorage.softlayer.net (s3-api.us-geo.objectstorage.softlayer.net)|67.228.254.196|:443... connected.\r\n",
      "HTTP request sent, awaiting response... 200 OK\r\n",
      "Length: 3642 (3.6K) [text/csv]\r\n",
      "Saving to: ‘loan_test.csv’\r\n",
      "\r\n",
      "loan_test.csv       100%[===================>]   3.56K  --.-KB/s    in 0s      \r\n",
      "\r\n",
      "2022-06-24 14:42:23 (634 MB/s) - ‘loan_test.csv’ saved [3642/3642]\r\n",
      "\r\n"
     ]
    }
   ],
   "source": [
    "!wget -O loan_test.csv https://s3-api.us-geo.objectstorage.softlayer.net/cf-courses-data/CognitiveClass/ML0101ENv3/labs/loan_test.csv"
   ]
  },
  {
   "cell_type": "markdown",
   "id": "7c6da9a6",
   "metadata": {
    "button": false,
    "new_sheet": false,
    "papermill": {
     "duration": 0.024035,
     "end_time": "2022-06-24T14:42:23.929526",
     "exception": false,
     "start_time": "2022-06-24T14:42:23.905491",
     "status": "completed"
    },
    "run_control": {
     "read_only": false
    },
    "tags": []
   },
   "source": [
    "### Load Test set for evaluation\n"
   ]
  },
  {
   "cell_type": "code",
   "execution_count": 35,
   "id": "ff19480a",
   "metadata": {
    "button": false,
    "execution": {
     "iopub.execute_input": "2022-06-24T14:42:23.983016Z",
     "iopub.status.busy": "2022-06-24T14:42:23.981712Z",
     "iopub.status.idle": "2022-06-24T14:42:24.001189Z",
     "shell.execute_reply": "2022-06-24T14:42:24.000398Z"
    },
    "new_sheet": false,
    "papermill": {
     "duration": 0.047804,
     "end_time": "2022-06-24T14:42:24.003049",
     "exception": false,
     "start_time": "2022-06-24T14:42:23.955245",
     "status": "completed"
    },
    "run_control": {
     "read_only": false
    },
    "tags": []
   },
   "outputs": [
    {
     "data": {
      "text/html": [
       "<div>\n",
       "<style scoped>\n",
       "    .dataframe tbody tr th:only-of-type {\n",
       "        vertical-align: middle;\n",
       "    }\n",
       "\n",
       "    .dataframe tbody tr th {\n",
       "        vertical-align: top;\n",
       "    }\n",
       "\n",
       "    .dataframe thead th {\n",
       "        text-align: right;\n",
       "    }\n",
       "</style>\n",
       "<table border=\"1\" class=\"dataframe\">\n",
       "  <thead>\n",
       "    <tr style=\"text-align: right;\">\n",
       "      <th></th>\n",
       "      <th>Unnamed: 0</th>\n",
       "      <th>Unnamed: 0.1</th>\n",
       "      <th>loan_status</th>\n",
       "      <th>Principal</th>\n",
       "      <th>terms</th>\n",
       "      <th>effective_date</th>\n",
       "      <th>due_date</th>\n",
       "      <th>age</th>\n",
       "      <th>education</th>\n",
       "      <th>Gender</th>\n",
       "    </tr>\n",
       "  </thead>\n",
       "  <tbody>\n",
       "    <tr>\n",
       "      <th>0</th>\n",
       "      <td>1</td>\n",
       "      <td>1</td>\n",
       "      <td>PAIDOFF</td>\n",
       "      <td>1000</td>\n",
       "      <td>30</td>\n",
       "      <td>9/8/2016</td>\n",
       "      <td>10/7/2016</td>\n",
       "      <td>50</td>\n",
       "      <td>Bechalor</td>\n",
       "      <td>female</td>\n",
       "    </tr>\n",
       "    <tr>\n",
       "      <th>1</th>\n",
       "      <td>5</td>\n",
       "      <td>5</td>\n",
       "      <td>PAIDOFF</td>\n",
       "      <td>300</td>\n",
       "      <td>7</td>\n",
       "      <td>9/9/2016</td>\n",
       "      <td>9/15/2016</td>\n",
       "      <td>35</td>\n",
       "      <td>Master or Above</td>\n",
       "      <td>male</td>\n",
       "    </tr>\n",
       "    <tr>\n",
       "      <th>2</th>\n",
       "      <td>21</td>\n",
       "      <td>21</td>\n",
       "      <td>PAIDOFF</td>\n",
       "      <td>1000</td>\n",
       "      <td>30</td>\n",
       "      <td>9/10/2016</td>\n",
       "      <td>10/9/2016</td>\n",
       "      <td>43</td>\n",
       "      <td>High School or Below</td>\n",
       "      <td>female</td>\n",
       "    </tr>\n",
       "    <tr>\n",
       "      <th>3</th>\n",
       "      <td>24</td>\n",
       "      <td>24</td>\n",
       "      <td>PAIDOFF</td>\n",
       "      <td>1000</td>\n",
       "      <td>30</td>\n",
       "      <td>9/10/2016</td>\n",
       "      <td>10/9/2016</td>\n",
       "      <td>26</td>\n",
       "      <td>college</td>\n",
       "      <td>male</td>\n",
       "    </tr>\n",
       "    <tr>\n",
       "      <th>4</th>\n",
       "      <td>35</td>\n",
       "      <td>35</td>\n",
       "      <td>PAIDOFF</td>\n",
       "      <td>800</td>\n",
       "      <td>15</td>\n",
       "      <td>9/11/2016</td>\n",
       "      <td>9/25/2016</td>\n",
       "      <td>29</td>\n",
       "      <td>Bechalor</td>\n",
       "      <td>male</td>\n",
       "    </tr>\n",
       "  </tbody>\n",
       "</table>\n",
       "</div>"
      ],
      "text/plain": [
       "   Unnamed: 0  Unnamed: 0.1 loan_status  Principal  terms effective_date  \\\n",
       "0           1             1     PAIDOFF       1000     30       9/8/2016   \n",
       "1           5             5     PAIDOFF        300      7       9/9/2016   \n",
       "2          21            21     PAIDOFF       1000     30      9/10/2016   \n",
       "3          24            24     PAIDOFF       1000     30      9/10/2016   \n",
       "4          35            35     PAIDOFF        800     15      9/11/2016   \n",
       "\n",
       "    due_date  age             education  Gender  \n",
       "0  10/7/2016   50              Bechalor  female  \n",
       "1  9/15/2016   35       Master or Above    male  \n",
       "2  10/9/2016   43  High School or Below  female  \n",
       "3  10/9/2016   26               college    male  \n",
       "4  9/25/2016   29              Bechalor    male  "
      ]
     },
     "execution_count": 35,
     "metadata": {},
     "output_type": "execute_result"
    }
   ],
   "source": [
    "test_df = pd.read_csv('loan_test.csv')\n",
    "test_df.head()"
   ]
  },
  {
   "cell_type": "code",
   "execution_count": 36,
   "id": "e3630cc1",
   "metadata": {
    "execution": {
     "iopub.execute_input": "2022-06-24T14:42:24.055777Z",
     "iopub.status.busy": "2022-06-24T14:42:24.054833Z",
     "iopub.status.idle": "2022-06-24T14:42:24.086591Z",
     "shell.execute_reply": "2022-06-24T14:42:24.085514Z"
    },
    "papermill": {
     "duration": 0.060824,
     "end_time": "2022-06-24T14:42:24.089008",
     "exception": false,
     "start_time": "2022-06-24T14:42:24.028184",
     "status": "completed"
    },
    "tags": []
   },
   "outputs": [],
   "source": [
    "# Proces evaluation data\n",
    "test_df['due_date'] = pd.to_datetime(test_df['due_date'])\n",
    "test_df['effective_date'] = pd.to_datetime(test_df['effective_date'])\n",
    "test_df['Gender'].replace(to_replace=['male','female'], value=[0,1],inplace=True)\n",
    "test_df['dayofweek'] = test_df['effective_date'].dt.dayofweek\n",
    "test_df['weekend'] = test_df['dayofweek'].apply(lambda x: 1 if (x>3)  else 0)\n",
    "Feature = test_df[['Principal','terms','age','Gender','weekend']]\n",
    "Feature = pd.concat([Feature,pd.get_dummies(test_df['education'])], axis=1)\n",
    "Feature.drop(['Master or Above'], axis = 1,inplace=True)\n",
    "X = Feature\n",
    "y = test_df['loan_status'].values\n",
    "X= preprocessing.StandardScaler().fit(X).transform(X)"
   ]
  },
  {
   "cell_type": "code",
   "execution_count": 37,
   "id": "88890d21",
   "metadata": {
    "execution": {
     "iopub.execute_input": "2022-06-24T14:42:24.167296Z",
     "iopub.status.busy": "2022-06-24T14:42:24.166287Z",
     "iopub.status.idle": "2022-06-24T14:42:24.177583Z",
     "shell.execute_reply": "2022-06-24T14:42:24.176807Z"
    },
    "papermill": {
     "duration": 0.065377,
     "end_time": "2022-06-24T14:42:24.179832",
     "exception": false,
     "start_time": "2022-06-24T14:42:24.114455",
     "status": "completed"
    },
    "tags": []
   },
   "outputs": [],
   "source": [
    "# Doing our predictions with the diferents models\n",
    "y_pred_knn = knnc.predict(X)\n",
    "y_pred_tree = tree.predict(X)\n",
    "y_pred_svm = svmc.predict(X)\n",
    "y_pred_log = lr.predict(X)\n",
    "y_pred_log_prob = lr.predict_proba(X)"
   ]
  },
  {
   "cell_type": "code",
   "execution_count": 38,
   "id": "4df108ae",
   "metadata": {
    "execution": {
     "iopub.execute_input": "2022-06-24T14:42:24.232153Z",
     "iopub.status.busy": "2022-06-24T14:42:24.231586Z",
     "iopub.status.idle": "2022-06-24T14:42:24.245085Z",
     "shell.execute_reply": "2022-06-24T14:42:24.244339Z"
    },
    "papermill": {
     "duration": 0.041917,
     "end_time": "2022-06-24T14:42:24.247007",
     "exception": false,
     "start_time": "2022-06-24T14:42:24.205090",
     "status": "completed"
    },
    "tags": []
   },
   "outputs": [
    {
     "data": {
      "text/plain": [
       "[0.6666666666666666, 0.72, 0.78, 0.7407407407407407]"
      ]
     },
     "execution_count": 38,
     "metadata": {},
     "output_type": "execute_result"
    }
   ],
   "source": [
    "# Apply Jaccard Score\n",
    "knn_j = jaccard_score(y, y_pred_knn, pos_label='PAIDOFF')\n",
    "tree_j = jaccard_score(y, y_pred_tree, pos_label='PAIDOFF')\n",
    "svm_j = jaccard_score(y, y_pred_svm, pos_label='PAIDOFF')\n",
    "log_j = jaccard_score(y, y_pred_log, pos_label='PAIDOFF')\n",
    "jaccard_scores = [knn_j, tree_j, svm_j, log_j]\n",
    "jaccard_scores"
   ]
  },
  {
   "cell_type": "code",
   "execution_count": 39,
   "id": "aeef79a6",
   "metadata": {
    "execution": {
     "iopub.execute_input": "2022-06-24T14:42:24.301137Z",
     "iopub.status.busy": "2022-06-24T14:42:24.300453Z",
     "iopub.status.idle": "2022-06-24T14:42:24.313190Z",
     "shell.execute_reply": "2022-06-24T14:42:24.312240Z"
    },
    "papermill": {
     "duration": 0.042878,
     "end_time": "2022-06-24T14:42:24.315165",
     "exception": false,
     "start_time": "2022-06-24T14:42:24.272287",
     "status": "completed"
    },
    "tags": []
   },
   "outputs": [
    {
     "data": {
      "text/plain": [
       "[0.6602254428341383,\n",
       " 0.7144311330357843,\n",
       " 0.7583503077293734,\n",
       " 0.6304176516942475]"
      ]
     },
     "execution_count": 39,
     "metadata": {},
     "output_type": "execute_result"
    }
   ],
   "source": [
    "# Apply F1-Score\n",
    "knn_f1 = f1_score(y, y_pred_knn, average=\"weighted\")\n",
    "tree_f1 = f1_score(y, y_pred_tree, average=\"weighted\")\n",
    "svm_f1 = f1_score(y, y_pred_svm, average=\"weighted\")\n",
    "log_f1 = f1_score(y, y_pred_log, average=\"weighted\")\n",
    "f1_scores = [knn_f1, tree_f1, svm_f1, log_f1]\n",
    "f1_scores"
   ]
  },
  {
   "cell_type": "code",
   "execution_count": 40,
   "id": "ec180258",
   "metadata": {
    "execution": {
     "iopub.execute_input": "2022-06-24T14:42:24.368014Z",
     "iopub.status.busy": "2022-06-24T14:42:24.366881Z",
     "iopub.status.idle": "2022-06-24T14:42:24.378498Z",
     "shell.execute_reply": "2022-06-24T14:42:24.377142Z"
    },
    "papermill": {
     "duration": 0.040169,
     "end_time": "2022-06-24T14:42:24.380594",
     "exception": false,
     "start_time": "2022-06-24T14:42:24.340425",
     "status": "completed"
    },
    "tags": []
   },
   "outputs": [
    {
     "data": {
      "text/plain": [
       "[None, None, None, 0.5163663771215675]"
      ]
     },
     "execution_count": 40,
     "metadata": {},
     "output_type": "execute_result"
    }
   ],
   "source": [
    "# Import library\n",
    "log_loss_scores = [None, None, None, 0]\n",
    "log_loss_scores[3] = log_loss(y, y_pred_log_prob)\n",
    "log_loss_scores"
   ]
  },
  {
   "cell_type": "code",
   "execution_count": 41,
   "id": "daa9c765",
   "metadata": {
    "execution": {
     "iopub.execute_input": "2022-06-24T14:42:24.442327Z",
     "iopub.status.busy": "2022-06-24T14:42:24.441747Z",
     "iopub.status.idle": "2022-06-24T14:42:24.455878Z",
     "shell.execute_reply": "2022-06-24T14:42:24.454483Z"
    },
    "papermill": {
     "duration": 0.051853,
     "end_time": "2022-06-24T14:42:24.459817",
     "exception": false,
     "start_time": "2022-06-24T14:42:24.407964",
     "status": "completed"
    },
    "tags": []
   },
   "outputs": [
    {
     "data": {
      "text/html": [
       "<div>\n",
       "<style scoped>\n",
       "    .dataframe tbody tr th:only-of-type {\n",
       "        vertical-align: middle;\n",
       "    }\n",
       "\n",
       "    .dataframe tbody tr th {\n",
       "        vertical-align: top;\n",
       "    }\n",
       "\n",
       "    .dataframe thead th {\n",
       "        text-align: right;\n",
       "    }\n",
       "</style>\n",
       "<table border=\"1\" class=\"dataframe\">\n",
       "  <thead>\n",
       "    <tr style=\"text-align: right;\">\n",
       "      <th></th>\n",
       "      <th>Jaccard</th>\n",
       "      <th>F1-Score</th>\n",
       "      <th>LogLoss</th>\n",
       "    </tr>\n",
       "    <tr>\n",
       "      <th>Algorithm</th>\n",
       "      <th></th>\n",
       "      <th></th>\n",
       "      <th></th>\n",
       "    </tr>\n",
       "  </thead>\n",
       "  <tbody>\n",
       "    <tr>\n",
       "      <th>KNN</th>\n",
       "      <td>0.666667</td>\n",
       "      <td>0.660225</td>\n",
       "      <td>NaN</td>\n",
       "    </tr>\n",
       "    <tr>\n",
       "      <th>Decision Tree</th>\n",
       "      <td>0.720000</td>\n",
       "      <td>0.714431</td>\n",
       "      <td>NaN</td>\n",
       "    </tr>\n",
       "    <tr>\n",
       "      <th>SVM</th>\n",
       "      <td>0.780000</td>\n",
       "      <td>0.758350</td>\n",
       "      <td>NaN</td>\n",
       "    </tr>\n",
       "    <tr>\n",
       "      <th>LogisticRegression</th>\n",
       "      <td>0.740741</td>\n",
       "      <td>0.630418</td>\n",
       "      <td>0.516366</td>\n",
       "    </tr>\n",
       "  </tbody>\n",
       "</table>\n",
       "</div>"
      ],
      "text/plain": [
       "                     Jaccard  F1-Score   LogLoss\n",
       "Algorithm                                       \n",
       "KNN                 0.666667  0.660225       NaN\n",
       "Decision Tree       0.720000  0.714431       NaN\n",
       "SVM                 0.780000  0.758350       NaN\n",
       "LogisticRegression  0.740741  0.630418  0.516366"
      ]
     },
     "execution_count": 41,
     "metadata": {},
     "output_type": "execute_result"
    }
   ],
   "source": [
    "pd.DataFrame({'Algorithm':['KNN', 'Decision Tree', 'SVM', 'LogisticRegression'],\n",
    "              'Jaccard':jaccard_scores,\n",
    "              'F1-Score':f1_scores,\n",
    "              'LogLoss':log_loss_scores}).set_index('Algorithm')"
   ]
  },
  {
   "cell_type": "markdown",
   "id": "025ccb36",
   "metadata": {
    "papermill": {
     "duration": 0.025811,
     "end_time": "2022-06-24T14:42:24.515512",
     "exception": false,
     "start_time": "2022-06-24T14:42:24.489701",
     "status": "completed"
    },
    "tags": []
   },
   "source": [
    "# Report\n",
    "\n",
    "You should be able to report the accuracy of the built model using different evaluation metrics:\n"
   ]
  },
  {
   "cell_type": "markdown",
   "id": "a570c01b",
   "metadata": {
    "papermill": {
     "duration": 0.025611,
     "end_time": "2022-06-24T14:42:24.566556",
     "exception": false,
     "start_time": "2022-06-24T14:42:24.540945",
     "status": "completed"
    },
    "tags": []
   },
   "source": [
    "| Algorithm          | Jaccard | F1-score | LogLoss |\n",
    "| ------------------ | ------- | -------- | ------- |\n",
    "| KNN                | ?       | ?        | NA      |\n",
    "| Decision Tree      | ?       | ?        | NA      |\n",
    "| SVM                | ?       | ?        | NA      |\n",
    "| LogisticRegression | ?       | ?        | ?       |\n"
   ]
  },
  {
   "cell_type": "markdown",
   "id": "9f40162e",
   "metadata": {
    "button": false,
    "new_sheet": false,
    "papermill": {
     "duration": 0.02553,
     "end_time": "2022-06-24T14:42:24.617730",
     "exception": false,
     "start_time": "2022-06-24T14:42:24.592200",
     "status": "completed"
    },
    "run_control": {
     "read_only": false
    },
    "tags": []
   },
   "source": [
    "<h2>Want to learn more?</h2>\n",
    "\n",
    "IBM SPSS Modeler is a comprehensive analytics platform that has many machine learning algorithms. It has been designed to bring predictive intelligence to decisions made by individuals, by groups, by systems – by your enterprise as a whole. A free trial is available through this course, available here: <a href=\"http://cocl.us/ML0101EN-SPSSModeler?utm_medium=Exinfluencer&utm_source=Exinfluencer&utm_content=000026UJ&utm_term=10006555&utm_id=NA-SkillsNetwork-Channel-SkillsNetworkCoursesIBMDeveloperSkillsNetworkML0101ENSkillsNetwork20718538-2022-01-01\">SPSS Modeler</a>\n",
    "\n",
    "Also, you can use Watson Studio to run these notebooks faster with bigger datasets. Watson Studio is IBM's leading cloud solution for data scientists, built by data scientists. With Jupyter notebooks, RStudio, Apache Spark and popular libraries pre-packaged in the cloud, Watson Studio enables data scientists to collaborate on their projects without having to install anything. Join the fast-growing community of Watson Studio users today with a free account at <a href=\"https://cocl.us/ML0101EN_DSX?utm_medium=Exinfluencer&utm_source=Exinfluencer&utm_content=000026UJ&utm_term=10006555&utm_id=NA-SkillsNetwork-Channel-SkillsNetworkCoursesIBMDeveloperSkillsNetworkML0101ENSkillsNetwork20718538-2022-01-01\">Watson Studio</a>\n",
    "\n",
    "<h3>Thanks for completing this lesson!</h3>\n",
    "\n",
    "<h4>Author:  <a href=\"https://ca.linkedin.com/in/saeedaghabozorgi?utm_medium=Exinfluencer&utm_source=Exinfluencer&utm_content=000026UJ&utm_term=10006555&utm_id=NA-SkillsNetwork-Channel-SkillsNetworkCoursesIBMDeveloperSkillsNetworkML0101ENSkillsNetwork20718538-2022-01-01?utm_medium=Exinfluencer&utm_source=Exinfluencer&utm_content=000026UJ&utm_term=10006555&utm_id=NA-SkillsNetwork-Channel-SkillsNetworkCoursesIBMDeveloperSkillsNetworkML0101ENSkillsNetwork20718538-2022-01-01\">Saeed Aghabozorgi</a></h4>\n",
    "<p><a href=\"https://ca.linkedin.com/in/saeedaghabozorgi\">Saeed Aghabozorgi</a>, PhD is a Data Scientist in IBM with a track record of developing enterprise level applications that substantially increases clients’ ability to turn data into actionable knowledge. He is a researcher in data mining field and expert in developing advanced analytic methods like machine learning and statistical modelling on large datasets.</p>\n",
    "\n",
    "<hr>\n",
    "\n",
    "## Change Log\n",
    "\n",
    "| Date (YYYY-MM-DD) | Version | Changed By    | Change Description                                                             |\n",
    "| ----------------- | ------- | ------------- | ------------------------------------------------------------------------------ |\n",
    "| 2020-10-27        | 2.1     | Lakshmi Holla | Made changes in import statement due to updates in version of  sklearn library |\n",
    "| 2020-08-27        | 2.0     | Malika Singla | Added lab to GitLab                                                            |\n",
    "\n",
    "<hr>\n",
    "\n",
    "## <h3 align=\"center\"> © IBM Corporation 2020. All rights reserved. <h3/>\n",
    "\n",
    "<p>\n"
   ]
  }
 ],
 "metadata": {
  "kernelspec": {
   "display_name": "Python 3",
   "language": "python",
   "name": "python3"
  },
  "language_info": {
   "codemirror_mode": {
    "name": "ipython",
    "version": 3
   },
   "file_extension": ".py",
   "mimetype": "text/x-python",
   "name": "python",
   "nbconvert_exporter": "python",
   "pygments_lexer": "ipython3",
   "version": "3.7.12"
  },
  "papermill": {
   "default_parameters": {},
   "duration": 21.839287,
   "end_time": "2022-06-24T14:42:25.464496",
   "environment_variables": {},
   "exception": null,
   "input_path": "__notebook__.ipynb",
   "output_path": "__notebook__.ipynb",
   "parameters": {},
   "start_time": "2022-06-24T14:42:03.625209",
   "version": "2.3.4"
  }
 },
 "nbformat": 4,
 "nbformat_minor": 5
}
